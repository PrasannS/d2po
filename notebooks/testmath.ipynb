{
 "cells": [
  {
   "cell_type": "code",
   "execution_count": 2,
   "id": "ed272377-8399-4462-baf5-1537fe7afa27",
   "metadata": {},
   "outputs": [
    {
     "name": "stderr",
     "output_type": "stream",
     "text": [
      "/u/prasanns/miniconda3/envs/fixenv/lib/python3.10/site-packages/tqdm/auto.py:21: TqdmWarning: IProgress not found. Please update jupyter and ipywidgets. See https://ipywidgets.readthedocs.io/en/stable/user_install.html\n",
      "  from .autonotebook import tqdm as notebook_tqdm\n"
     ]
    }
   ],
   "source": [
    "import pandas as pd\n",
    "from datasets import Dataset\n",
    "from transformers import AutoModelForCausalLM, AutoTokenizer\n",
    "import torch \n",
    "from peft import PeftConfig, PeftModel\n",
    "from tqdm import tqdm\n",
    "from statistics import mean"
   ]
  },
  {
   "cell_type": "code",
   "execution_count": 27,
   "id": "dfa522e4-9058-4477-a171-96e218117d4b",
   "metadata": {},
   "outputs": [],
   "source": [
    "bonds = pd.read_json(\"nmathgsdpo.json\", lines=True, orient='records')"
   ]
  },
  {
   "cell_type": "code",
   "execution_count": null,
   "id": "88cd06d8-ab3d-4706-b62b-3d53891d6bd0",
   "metadata": {},
   "outputs": [],
   "source": [
    "adapt_path = \"../checkpoints/math/mbestofnsft_sft_bonsft/final_checkpoint/\"\n",
    "base = \"../outputs/models/math/randbigsft/\"\n",
    "# load in adapter / model\n",
    "peft_config = PeftConfig.from_pretrained(adapt_path)\n",
    "model = AutoModelForCausalLM.from_pretrained(\n",
    "    base, load_in_8bit=True, torch_dtype=torch.bfloat16, attn_implementation=\"flash_attention_2\"\n",
    ")\n",
    "tokenizer = AutoTokenizer.from_pretrained(base)\n",
    "\n",
    "# Load the Lora model\n",
    "model = PeftModel.from_pretrained(model, adapt_path)\n",
    "model.eval()"
   ]
  },
  {
   "cell_type": "code",
   "execution_count": 9,
   "id": "699c3ca5-a493-4413-bd6d-59761ece6066",
   "metadata": {},
   "outputs": [],
   "source": [
    "# load in data to get likelihoods on\n",
    "bonds = pd.read_json(\"nmath.json\", lines=True, orient='records')"
   ]
  },
  {
   "cell_type": "code",
   "execution_count": 13,
   "id": "09a677e5-c00b-4a19-8647-b5be9527bbf6",
   "metadata": {},
   "outputs": [],
   "source": [
    "def calculate_nll(input_string):\n",
    "    # Tokenize the input string\n",
    "    inputs = tokenizer(input_string, return_tensors='pt')\n",
    "    \n",
    "    # Get input_ids and move to the appropriate device\n",
    "    input_ids = inputs['input_ids']\n",
    "    device = model.device\n",
    "    input_ids = input_ids.to(device)\n",
    "    \n",
    "    # Get the logits from the model\n",
    "    with torch.no_grad():\n",
    "        outputs = model(input_ids, labels=input_ids)\n",
    "    \n",
    "    # Calculate the loss\n",
    "    loss = outputs.loss\n",
    "    \n",
    "    # Convert the loss to NLL\n",
    "    nll = loss.item()\n",
    "    \n",
    "    return nll"
   ]
  },
  {
   "cell_type": "code",
   "execution_count": 19,
   "id": "939be98a-1549-49d2-8a52-9b9f14e198bf",
   "metadata": {},
   "outputs": [
    {
     "name": "stderr",
     "output_type": "stream",
     "text": [
      "100%|██████████████████████████████████████████████████████████████████████████████████████████████████████████████████████████████████| 739/739 [05:13<00:00,  2.36it/s]\n"
     ]
    }
   ],
   "source": [
    "glikes = []\n",
    "for i, r in tqdm(bonds.iterrows(), total=len(bonds)):\n",
    "    tmplikes = [calculate_nll(r['ags'][ind]) for ind in range(len(r['ags']))]\n",
    "    glikes.append(tmplikes)"
   ]
  },
  {
   "cell_type": "code",
   "execution_count": 13,
   "id": "2c6e1bc5-53fa-46af-98d9-0724d8b6ce9c",
   "metadata": {},
   "outputs": [],
   "source": [
    "bonds['bonsft_likes'] = glikes"
   ]
  },
  {
   "cell_type": "code",
   "execution_count": 14,
   "id": "200e1065-c130-43a3-ab89-0617c4fa572e",
   "metadata": {},
   "outputs": [],
   "source": [
    "# bonds.to_json(\"nmath.json\", lines=True, orient='records')"
   ]
  },
  {
   "cell_type": "code",
   "execution_count": 28,
   "id": "a8e42fd2-7903-4137-a31f-51233e8263e4",
   "metadata": {},
   "outputs": [],
   "source": [
    "glikes = bonds['bonsft_likes']"
   ]
  },
  {
   "cell_type": "code",
   "execution_count": 29,
   "id": "93b89fac-203f-44a9-86a5-90224796762b",
   "metadata": {},
   "outputs": [
    {
     "data": {
      "text/plain": [
       "1.044623343512388"
      ]
     },
     "execution_count": 29,
     "metadata": {},
     "output_type": "execute_result"
    }
   ],
   "source": [
    "mean([mean(m) for m in glikes])"
   ]
  },
  {
   "cell_type": "code",
   "execution_count": 30,
   "id": "26d51c0d-ce1c-496f-a68b-d1ef65108d7c",
   "metadata": {},
   "outputs": [
    {
     "data": {
      "text/plain": [
       "1.040043026894452"
      ]
     },
     "execution_count": 30,
     "metadata": {},
     "output_type": "execute_result"
    }
   ],
   "source": [
    "mean([m[0] for m in glikes])"
   ]
  },
  {
   "cell_type": "code",
   "execution_count": null,
   "id": "109eaac6-6ac1-46e8-ac14-b42965195fd4",
   "metadata": {},
   "outputs": [],
   "source": []
  }
 ],
 "metadata": {
  "kernelspec": {
   "display_name": "Python 3 (ipykernel)",
   "language": "python",
   "name": "python3"
  },
  "language_info": {
   "codemirror_mode": {
    "name": "ipython",
    "version": 3
   },
   "file_extension": ".py",
   "mimetype": "text/x-python",
   "name": "python",
   "nbconvert_exporter": "python",
   "pygments_lexer": "ipython3",
   "version": "3.10.14"
  }
 },
 "nbformat": 4,
 "nbformat_minor": 5
}
