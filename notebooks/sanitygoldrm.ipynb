{
 "cells": [
  {
   "cell_type": "code",
   "execution_count": 1,
   "id": "f2751a6c-45fb-45e5-8e08-0d9368357af1",
   "metadata": {},
   "outputs": [
    {
     "name": "stderr",
     "output_type": "stream",
     "text": [
      "/u/prasanns/miniconda3/envs/fixenv/lib/python3.10/site-packages/tqdm/auto.py:21: TqdmWarning: IProgress not found. Please update jupyter and ipywidgets. See https://ipywidgets.readthedocs.io/en/stable/user_install.html\n",
      "  from .autonotebook import tqdm as notebook_tqdm\n"
     ]
    }
   ],
   "source": [
    "from transformers import AutoTokenizer, AutoModel\n",
    "from datasets import Dataset, load_dataset\n",
    "import torch"
   ]
  },
  {
   "cell_type": "code",
   "execution_count": null,
   "id": "d429574d-3a82-46d1-ac17-79c1d1c258aa",
   "metadata": {},
   "outputs": [
    {
     "name": "stderr",
     "output_type": "stream",
     "text": [
      "Loading checkpoint shards:   0%|                                                                                                                                                | 0/3 [00:00<?, ?it/s]"
     ]
    }
   ],
   "source": [
    "model_path = \"openbmb/Eurus-RM-7b\"\n",
    "tokenizer = AutoTokenizer.from_pretrained(model_path)\n",
    "model = AutoModel.from_pretrained(model_path, device_map=7, torch_dtype=torch.bfloat16, trust_remote_code=True).eval()"
   ]
  },
  {
   "cell_type": "code",
   "execution_count": null,
   "id": "7b8edb4e-5b6e-4850-b970-35d4dbddacf7",
   "metadata": {},
   "outputs": [],
   "source": [
    "def doinfer(inp, out, model, tokenizer):\n",
    "    dataset = [ # cases in webgpt; we use the same template as Mistral-Instruct-v0.2\n",
    "       {\"chosen\":\"[INST] Sural relates to which part of the body? [\\INST] The sural region is the muscular swelling of the back of the leg below the knee, formed chiefly by the bellies of the gastrocnemius and soleus muscles [1,2].\",\"rejected\":\"[INST] Sural relates to which part of the body? [\\INST] The Sural nerve runs down the side of the leg near the small saphenous vein, then passes forward below the lateral malleolus and continues on the outside of the foot as the lateral dorsal cutaneous nerve, which then communicates with the intermediate dorsal cutaneous nerve, which branches off to the side of the foot. [1]\"}\n",
    "    ]\n",
    "    # I think this is it?\n",
    "    pmpt = \"[INST] \" +inp + \" [\\INST] \" + out\n",
    "    inp = tokenizer(pmpt, return_tensors=\"pt\").to(model.device)\n",
    "    return model(**inp).item()\n",
    "\n",
    "# Output: 47.4404296875"
   ]
  },
  {
   "cell_type": "code",
   "execution_count": null,
   "id": "993dd47b-9420-4b6a-af58-da721645da6a",
   "metadata": {},
   "outputs": [],
   "source": [
    "doinfer(\"Why can't penguins fly?\", \"Their wing muscles aren't strong enough.\", model, tokenizer)"
   ]
  },
  {
   "cell_type": "code",
   "execution_count": 5,
   "id": "bf6b864c-e0b4-4591-a49d-5d4c9731724b",
   "metadata": {},
   "outputs": [
    {
     "data": {
      "text/plain": [
       "[]"
      ]
     },
     "execution_count": 5,
     "metadata": {},
     "output_type": "execute_result"
    }
   ],
   "source": [
    "a = [1,2,3,]\n",
    "a[:0]"
   ]
  },
  {
   "cell_type": "code",
   "execution_count": 10,
   "id": "39d2a601-2303-49e3-8687-1572d92ca311",
   "metadata": {},
   "outputs": [],
   "source": [
    "ds = load_dataset(\"stingning/ultrachat\", split=\"train\")"
   ]
  }
 ],
 "metadata": {
  "kernelspec": {
   "display_name": "Python 3 (ipykernel)",
   "language": "python",
   "name": "python3"
  },
  "language_info": {
   "codemirror_mode": {
    "name": "ipython",
    "version": 3
   },
   "file_extension": ".py",
   "mimetype": "text/x-python",
   "name": "python",
   "nbconvert_exporter": "python",
   "pygments_lexer": "ipython3",
   "version": "3.10.14"
  }
 },
 "nbformat": 4,
 "nbformat_minor": 5
}
