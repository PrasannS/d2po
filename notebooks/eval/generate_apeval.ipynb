{
 "cells": [
  {
   "cell_type": "code",
   "execution_count": 10,
   "id": "1f95dfb2-1d66-4d15-99cf-749032bb6564",
   "metadata": {},
   "outputs": [],
   "source": [
    "# notebook to generate stuff for apeval, I'm assuming just load then save to dset? \n",
    "# maybe \n",
    "import datasets\n",
    "from transformers import AutoModelForCausalLM, AutoTokenizer\n",
    "import pandas as pd\n",
    "from datasets import Dataset\n",
    "import json"
   ]
  },
  {
   "cell_type": "code",
   "execution_count": 2,
   "id": "e74631d8-2f50-4611-a659-6ed3104ff6ac",
   "metadata": {},
   "outputs": [
    {
     "name": "stderr",
     "output_type": "stream",
     "text": [
      "\n",
      "KeyboardInterrupt\n",
      "\n"
     ]
    }
   ],
   "source": [
    "tokenizer = AutoTokenizer.from_pretrained(\"../../outputs/models/ultra/tiny_dpo_tulu/\")\n",
    "inpmod = AutoModelForCausalLM.from_pretrained(\"../../outputs/models/ultra/tiny_dpo_tulu/\", device_map=0)"
   ]
  },
  {
   "cell_type": "code",
   "execution_count": 18,
   "id": "2f22a398-f5ee-4e1a-930b-d9afc6e0f82f",
   "metadata": {},
   "outputs": [],
   "source": [
    "tokenizer.padding_size=\"left\"\n",
    "tokenizer.pad_token=tokenizer.eos_token"
   ]
  },
  {
   "cell_type": "code",
   "execution_count": 3,
   "id": "44261313-bd6c-486e-ac5f-ed4f59c09f15",
   "metadata": {},
   "outputs": [],
   "source": [
    "def tulu_pf(question, answer):\n",
    "    return \"<user>\\n\"+question+\"\\n<assistant>\\n\"+answer"
   ]
  },
  {
   "cell_type": "code",
   "execution_count": 9,
   "id": "c73333b5-5a40-49b7-9bd5-4f0ce4adab81",
   "metadata": {},
   "outputs": [],
   "source": [
    "generation_kwargs = {\n",
    "    \"min_length\": -1,\n",
    "    \"max_new_tokens\":256,\n",
    "    #\"top_k\": 0.0,\n",
    "    \"top_p\": 0.9,\n",
    "    \"temperature\": 0.9,\n",
    "    \"do_sample\": True,\n",
    "    \"repetition_penalty\": 1.2,\n",
    "    \"pad_token_id\": tokenizer.pad_token_id,\n",
    "    \"eos_token_id\": tokenizer.eos_token_id,\n",
    "}"
   ]
  },
  {
   "cell_type": "code",
   "execution_count": 20,
   "id": "d7eb5a4b-0acb-4027-83dd-ab16ff6cfd90",
   "metadata": {},
   "outputs": [
    {
     "name": "stderr",
     "output_type": "stream",
     "text": [
      "Found cached dataset alpaca_eval (/u/prasanns/.cache/huggingface/datasets/tatsu-lab___alpaca_eval/alpaca_eval/1.0.0/1e5100c79ad26a4779a5903cfb0148b793bb73b3e114580b73bf868affec2f39)\n",
      "100%|██████████████████████████████████████████████████████████████████████████████████████████████████████████████████████████████████████████████████████████████████████████████████████| 1/1 [00:00<00:00, 507.17it/s]\n"
     ]
    }
   ],
   "source": [
    "eval_set = datasets.load_dataset(\"tatsu-lab/alpaca_eval\", \"alpaca_eval\")[\"eval\"]\n",
    "# for example in eval_set:\n",
    "#     # generate here is a placeholder for your models generations\n",
    "#     inp = \n",
    "#     example[\"output\"] = inpmod(example[\"instruction\"], )\n",
    "#     example['generator'] = \"newmodel\""
   ]
  },
  {
   "cell_type": "code",
   "execution_count": 19,
   "id": "9ac2a27d-dd14-43f6-8282-5deb0ae25347",
   "metadata": {},
   "outputs": [
    {
     "name": "stderr",
     "output_type": "stream",
     "text": [
      "Setting `pad_token_id` to `eos_token_id`:2 for open-end generation.\n"
     ]
    }
   ],
   "source": [
    "prompt = [tulu_pf(eval_set['instruction'][i], \"\") for i in range(4)] \n",
    "inps = tokenizer(prompt, return_tensors=\"pt\", padding=True).to(inpmod.device)\n",
    "output = tokenizer.batch_decode(inpmod.generate(**inps, **generation_kwargs), skip_special_tokens=True)"
   ]
  },
  {
   "cell_type": "code",
   "execution_count": 31,
   "id": "b154ef19-ccdb-4559-80b6-2f2fa3b4cd93",
   "metadata": {},
   "outputs": [],
   "source": [
    "def row_rev_tulu(rw, fv=\"ppo_conf_active_newalgoultra75\"):\n",
    "    tmp = {'instruction': rw['question'][len(\"<user>\\n\"):-len(\"\\n<assistant>\\n\")], 'generator':fval+\"v2\"}\n",
    "    tmp['output'] = rw['response'][len(rw['question']):]\n",
    "    return tmp"
   ]
  },
  {
   "cell_type": "code",
   "execution_count": 43,
   "id": "aac16718-6f44-417b-91fd-a71dd0b4324d",
   "metadata": {
    "scrolled": true
   },
   "outputs": [
    {
     "data": {
      "text/plain": [
       "{'instruction': 'What are the names of some famous actors that started their careers on Broadway?',\n",
       " 'generator': 'golddpo25v2',\n",
       " 'output': 'There have been countless talented and successful actors who got their start in theater, particularly on Broadway. Here is a list of just a few examples: \\n\\n1. Al Pacino - Known for his roles in films such as The Godfather and Scarface, Al Pacino began his acting career on stage, performing in plays like The Offering (1963) and Does a Tiger Wear a Necktie? (1964).\\n2. Meryl Streep - Nominated for her performance in more than fifty different movies, including Kramer vs. Kramer (1979), The Devil Wears Prada (2006), and Florence Foster Jenkins (2016); she received three Academy Awards® for Best Actress throughout her illustrious career. Before becoming an acclaimed film star, Meryl Streep honed her craft by appearing in numerous off-Broadway productions. Some noteworthy examples include Trelawny of the Wells (1975–76), Sweet William (1983), and Plenty (1982–83'}"
      ]
     },
     "execution_count": 43,
     "metadata": {},
     "output_type": "execute_result"
    }
   ],
   "source": [
    "fval = \"golddpo25\"\n",
    "fname = \"../../outputs/results/genouts/ultra/\"+fval+\".jsonl\"\n",
    "tmpdf = pd.read_json(fname, orient='records', lines=True)\n",
    "results = []\n",
    "for i, row in tmpdf.iterrows():\n",
    "    results.append(row_rev_tulu(row, fval))\n",
    "newdata = Dataset.from_list(results)\n",
    "newdata[0]"
   ]
  },
  {
   "cell_type": "code",
   "execution_count": 44,
   "id": "68c86793-1474-4388-842d-565d89a213ce",
   "metadata": {},
   "outputs": [],
   "source": [
    "# newdata.select(range(10)).to_json(\"../../testapeval.json\")\n",
    "with open('../../'+fval+'v2.json', 'w', encoding='utf-8') as f:\n",
    "    json.dump(results, f, ensure_ascii=False, indent=4)"
   ]
  },
  {
   "cell_type": "code",
   "execution_count": 42,
   "id": "44803d25-10b3-44fa-97fd-d290815a4206",
   "metadata": {},
   "outputs": [
    {
     "data": {
      "text/plain": [
       "{'instruction': 'What are the names of some famous actors that started their careers on Broadway?',\n",
       " 'generator': 'golddpo125v2',\n",
       " 'output': 'Broadway is a popular platform for many aspiring and established actors to showcase their talent. Here are some of the most well-known actors who got their start in acting by appearing on Broadway: \\n\\n1) Meryl Streep - Known for her versatile performances, she debuted as an understudy in \"The Playboy of Seville\" at age twenty-seven.\\n2) Al Pacino – Before becoming iconic in film roles such as Scarface and The Godfather, he appeared on stage in productions like “Awake and Sing!” and “Does a Tiger Wear a Necktie?”\\n3) Barbra Streisand – One of the most successful female entertainers, her career began with the role of Miss Marmelstein in \"Funny Girl,\" which eventually became her first album\\'s title track.\\n4) James Cagney - This actor gained notoriety through his work on Broadway before transitioning into films. Some notable appearances include \"Pins and Needles\" and \"Angels Over Broadway.\"\\n5) Julie Andrews - Beginning with starring roles in \"The Boy Friend” and “My Fair Lady,” this actress went'}"
      ]
     },
     "execution_count": 42,
     "metadata": {},
     "output_type": "execute_result"
    }
   ],
   "source": [
    "row_rev_tulu(tmpdf.loc[0])"
   ]
  },
  {
   "cell_type": "code",
   "execution_count": null,
   "id": "1ccea5a5-3942-47e3-b1ba-d68a8832d97f",
   "metadata": {},
   "outputs": [],
   "source": []
  }
 ],
 "metadata": {
  "kernelspec": {
   "display_name": "Python 3 (ipykernel)",
   "language": "python",
   "name": "python3"
  },
  "language_info": {
   "codemirror_mode": {
    "name": "ipython",
    "version": 3
   },
   "file_extension": ".py",
   "mimetype": "text/x-python",
   "name": "python",
   "nbconvert_exporter": "python",
   "pygments_lexer": "ipython3",
   "version": "3.10.0"
  }
 },
 "nbformat": 4,
 "nbformat_minor": 5
}
