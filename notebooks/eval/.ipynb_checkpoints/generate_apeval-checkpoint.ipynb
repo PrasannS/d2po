{
 "cells": [
  {
   "cell_type": "code",
   "execution_count": null,
   "id": "1f95dfb2-1d66-4d15-99cf-749032bb6564",
   "metadata": {},
   "outputs": [],
   "source": [
    "# notebook to generate stuff for apeval, I'm assuming just load then save to dset? \n",
    "# maybe \n",
    "import datasets\n",
    "from transformers import AutoModelForCausalLM, AutoTokenizer\n",
    "import pandas as pd\n",
    "from datasets import Dataset\n",
    "import sys\n",
    "sys.path.append(\"../../src/\")\n",
    "import json"
   ]
  },
  {
   "cell_type": "code",
   "execution_count": null,
   "id": "2bd86dc4-96b9-4497-b90b-32907422293b",
   "metadata": {},
   "outputs": [],
   "source": [
    "%load_ext autoreload\n",
    "%autoreload 2"
   ]
  },
  {
   "cell_type": "code",
   "execution_count": null,
   "id": "5ea1eda3-8816-465c-a196-a04b2b1352a5",
   "metadata": {},
   "outputs": [],
   "source": [
    "from utils.data.prompt_utils import splitter"
   ]
  },
  {
   "cell_type": "code",
   "execution_count": null,
   "id": "e74631d8-2f50-4611-a659-6ed3104ff6ac",
   "metadata": {},
   "outputs": [],
   "source": [
    "tokenizer = AutoTokenizer.from_pretrained(\"../../outputs/models/ultra/tiny_dpo_tulu/\")\n",
    "inpmod = AutoModelForCausalLM.from_pretrained(\"../../outputs/models/ultra/tiny_dpo_tulu/\", device_map=0)"
   ]
  },
  {
   "cell_type": "code",
   "execution_count": null,
   "id": "2f22a398-f5ee-4e1a-930b-d9afc6e0f82f",
   "metadata": {},
   "outputs": [],
   "source": [
    "tokenizer.padding_size=\"left\"\n",
    "tokenizer.pad_token=tokenizer.eos_token"
   ]
  },
  {
   "cell_type": "code",
   "execution_count": null,
   "id": "44261313-bd6c-486e-ac5f-ed4f59c09f15",
   "metadata": {},
   "outputs": [],
   "source": [
    "def tulu_pf(question, answer):\n",
    "    return \"<user>\\n\"+question+\"\\n<assistant>\\n\"+answer"
   ]
  },
  {
   "cell_type": "code",
   "execution_count": null,
   "id": "c73333b5-5a40-49b7-9bd5-4f0ce4adab81",
   "metadata": {},
   "outputs": [],
   "source": [
    "generation_kwargs = {\n",
    "    \"min_length\": -1,\n",
    "    \"max_new_tokens\":256,\n",
    "    #\"top_k\": 0.0,\n",
    "    \"top_p\": 0.9,\n",
    "    \"temperature\": 0.9,\n",
    "    \"do_sample\": True,\n",
    "    \"repetition_penalty\": 1.2,\n",
    "    \"pad_token_id\": tokenizer.pad_token_id,\n",
    "    \"eos_token_id\": tokenizer.eos_token_id,\n",
    "}"
   ]
  },
  {
   "cell_type": "code",
   "execution_count": null,
   "id": "d7eb5a4b-0acb-4027-83dd-ab16ff6cfd90",
   "metadata": {},
   "outputs": [],
   "source": [
    "eval_set = datasets.load_dataset(\"tatsu-lab/alpaca_eval\", \"alpaca_eval\")[\"eval\"]\n",
    "# for example in eval_set:\n",
    "#     # generate here is a placeholder for your models generations\n",
    "#     inp = \n",
    "#     example[\"output\"] = inpmod(example[\"instruction\"], )\n",
    "#     example['generator'] = \"newmodel\""
   ]
  },
  {
   "cell_type": "code",
   "execution_count": 27,
   "id": "66d4c628-dbf6-4523-8a0a-6e2507212a42",
   "metadata": {},
   "outputs": [
    {
     "data": {
      "text/plain": [
       "804"
      ]
     },
     "execution_count": 27,
     "metadata": {},
     "output_type": "execute_result"
    }
   ],
   "source": [
    "tmpouts = pd.read_json(\"../../outputs/results/genouts/eurusrm/ppo_eurusrmbaseline275.jsonl\", orient='records', lines=True)\n",
    "len(tmpouts)"
   ]
  },
  {
   "cell_type": "code",
   "execution_count": 28,
   "id": "c971cd7b-250d-41bf-923a-5c03490026b6",
   "metadata": {},
   "outputs": [],
   "source": [
    "name = 'eurusactivemain675'\n",
    "name = 'eurusbase275'\n",
    "\n",
    "results = []\n",
    "for i, row in tmpouts.iterrows():\n",
    "    q, a = splitter(row['response'])\n",
    "    results.append({\n",
    "        'instruction':q.strip(),\n",
    "        'generator':name,\n",
    "        'output':a.strip()\n",
    "    })\n",
    "    assert len(a)>0"
   ]
  },
  {
   "cell_type": "code",
   "execution_count": 29,
   "id": "7e8812e8-e88a-491c-9183-21ff52c19e10",
   "metadata": {},
   "outputs": [],
   "source": [
    "with open('../../'+name+'.json', 'w', encoding='utf-8') as f:\n",
    "    json.dump(results, f, ensure_ascii=False, indent=4)"
   ]
  },
  {
   "cell_type": "code",
   "execution_count": 24,
   "id": "89f0faea-a7f9-444f-b660-f25447950e13",
   "metadata": {},
   "outputs": [
    {
     "data": {
      "text/plain": [
       "{'instruction': 'How do I wrap a present neatly?',\n",
       " 'generator': 'eurusactivemain675',\n",
       " 'output': 'To wrap a present neatly, start by selecting wrapping paper that coordinates with the gift and your overall theme or color scheme. Fold the paper in half lengthwise and place it over the top of the present, making sure to tuck any excess around the edges. Then, fold down each corner diagonally towards the center, and secure them using ribbon, twine, or masking tape. Next, use scissors or a craft knife to cut off any remaining paper flaps along the bottom edge, ensuring they are even on both sides before taping or gluing them shut for added security. Finally, add a bow or other decorative elements like stickers or stamps for some extra flair! With these steps, you can create an attractive and practical package that will make the perfect gift for anyone special in your life. Happy wrapping!'}"
      ]
     },
     "execution_count": 24,
     "metadata": {},
     "output_type": "execute_result"
    }
   ],
   "source": [
    "results[4]"
   ]
  },
  {
   "cell_type": "code",
   "execution_count": null,
   "id": "9ac2a27d-dd14-43f6-8282-5deb0ae25347",
   "metadata": {},
   "outputs": [],
   "source": [
    "prompt = [tulu_pf(eval_set['instruction'][i], \"\") for i in range(4)] \n",
    "inps = tokenizer(prompt, return_tensors=\"pt\", padding=True).to(inpmod.device)\n",
    "output = tokenizer.batch_decode(inpmod.generate(**inps, **generation_kwargs), skip_special_tokens=True)"
   ]
  },
  {
   "cell_type": "code",
   "execution_count": null,
   "id": "b154ef19-ccdb-4559-80b6-2f2fa3b4cd93",
   "metadata": {},
   "outputs": [],
   "source": [
    "def row_rev_tulu(rw, fv=\"ppo_conf_active_newalgoultra75\"):\n",
    "    tmp = {'instruction': rw['question'][len(\"<user>\\n\"):-len(\"\\n<assistant>\\n\")], 'generator':fval+\"v2\"}\n",
    "    tmp['output'] = rw['response'][len(rw['question']):]\n",
    "    return tmp"
   ]
  },
  {
   "cell_type": "code",
   "execution_count": null,
   "id": "aac16718-6f44-417b-91fd-a71dd0b4324d",
   "metadata": {
    "scrolled": true
   },
   "outputs": [],
   "source": [
    "fval = \"golddpo25\"\n",
    "fname = \"../../outputs/results/genouts/ultra/\"+fval+\".jsonl\"\n",
    "tmpdf = pd.read_json(fname, orient='records', lines=True)\n",
    "results = []\n",
    "for i, row in tmpdf.iterrows():\n",
    "    results.append(row_rev_tulu(row, fval))\n",
    "newdata = Dataset.from_list(results)\n",
    "newdata[0]"
   ]
  },
  {
   "cell_type": "code",
   "execution_count": null,
   "id": "68c86793-1474-4388-842d-565d89a213ce",
   "metadata": {},
   "outputs": [],
   "source": [
    "# newdata.select(range(10)).to_json(\"../../testapeval.json\")\n",
    "with open('../../'+fval+'v2.json', 'w', encoding='utf-8') as f:\n",
    "    json.dump(results, f, ensure_ascii=False, indent=4)"
   ]
  },
  {
   "cell_type": "code",
   "execution_count": null,
   "id": "44803d25-10b3-44fa-97fd-d290815a4206",
   "metadata": {},
   "outputs": [],
   "source": [
    "row_rev_tulu(tmpdf.loc[0])"
   ]
  },
  {
   "cell_type": "code",
   "execution_count": null,
   "id": "1ccea5a5-3942-47e3-b1ba-d68a8832d97f",
   "metadata": {},
   "outputs": [],
   "source": []
  }
 ],
 "metadata": {
  "kernelspec": {
   "display_name": "Python 3 (ipykernel)",
   "language": "python",
   "name": "python3"
  },
  "language_info": {
   "codemirror_mode": {
    "name": "ipython",
    "version": 3
   },
   "file_extension": ".py",
   "mimetype": "text/x-python",
   "name": "python",
   "nbconvert_exporter": "python",
   "pygments_lexer": "ipython3",
   "version": "3.10.14"
  }
 },
 "nbformat": 4,
 "nbformat_minor": 5
}
