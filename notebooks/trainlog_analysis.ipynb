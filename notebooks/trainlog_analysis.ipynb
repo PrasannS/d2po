{
 "cells": [
  {
   "cell_type": "code",
   "execution_count": 5,
   "id": "70c5f653-b94e-4957-9cd0-2879f4d6a2b4",
   "metadata": {},
   "outputs": [
    {
     "name": "stderr",
     "output_type": "stream",
     "text": [
      "/u/prasanns/miniconda3/envs/rlhfenv/lib/python3.10/site-packages/tqdm/auto.py:21: TqdmWarning: IProgress not found. Please update jupyter and ipywidgets. See https://ipywidgets.readthedocs.io/en/stable/user_install.html\n",
      "  from .autonotebook import tqdm as notebook_tqdm\n"
     ]
    },
    {
     "name": "stdout",
     "output_type": "stream",
     "text": [
      "[2024-03-13 11:30:36,880] [INFO] [real_accelerator.py:110:get_accelerator] Setting ds_accelerator to cuda (auto detect)\n"
     ]
    },
    {
     "name": "stderr",
     "output_type": "stream",
     "text": [
      "/u/prasanns/miniconda3/envs/rlhfenv/lib/python3.10/site-packages/trl/trainer/ppo_config.py:142: UserWarning: The `optimize_cuda_cache` argument will be deprecated soon, please use `optimize_device_cache` instead.\n",
      "  warnings.warn(\n"
     ]
    }
   ],
   "source": [
    "import pandas as pd\n",
    "import matplotlib.pyplot as plt\n",
    "from statistics import mean\n",
    "from rlhfutils.rl_utils import get_synth_rewards\n",
    "from tqdm import tqdm\n",
    "from datasets import Dataset, concatenate_datasets"
   ]
  },
  {
   "cell_type": "code",
   "execution_count": 6,
   "id": "54e934a2-c001-4bc7-9a74-2e5603f98886",
   "metadata": {},
   "outputs": [],
   "source": [
    "%load_ext autoreload\n",
    "%autoreload 2"
   ]
  },
  {
   "cell_type": "code",
   "execution_count": null,
   "id": "f23311d8-b3be-405e-bf17-1c16c0c64cd5",
   "metadata": {},
   "outputs": [],
   "source": [
    "ds = Dataset.load_from_disk(\"../../../active-rlhf/outputs/data/contrastivedistill/wikionpolicyprompts//\")"
   ]
  },
  {
   "cell_type": "code",
   "execution_count": null,
   "id": "c1537f5b-3aa2-4bb0-b7c7-31d2d6b4c3ab",
   "metadata": {},
   "outputs": [],
   "source": [
    "len(concatenate_datasets([ds]*10))"
   ]
  },
  {
   "cell_type": "code",
   "execution_count": null,
   "id": "b4040267-b1c5-4d87-a7c5-ff2495dc7f8b",
   "metadata": {},
   "outputs": [],
   "source": [
    "tmp = pd.read_json(\"../../../active-rlhf/outputs/results//bago.jsonl\", orient='records', lines=True)"
   ]
  },
  {
   "cell_type": "code",
   "execution_count": 15,
   "id": "e11ae19a-c943-4cb3-bc16-7464d83fd183",
   "metadata": {},
   "outputs": [],
   "source": [
    "# tlog = pd.read_json(\"../../outputs/bagofwords/dynarmlogs/expbow50_updatereprod_fix.jsonl\", orient='records', lines=True)\n",
    "# tlog = pd.read_json(\"../../../active-rlhf/outputs/results/dynarmlogs/bagofwords/expbow50_reprodtest_exact.jsonl\", orient='records', lines=True)\n",
    "tlog = pd.read_json(\"../outputs/results/dynarmlogs/math/tinyn.jsonl\", orient='records', lines=True)\n",
    "tmp = tlog\n",
    "tmp = tmp.dropna(subset='golds')"
   ]
  },
  {
   "cell_type": "code",
   "execution_count": 16,
   "id": "e26c423a-dc8b-45a6-86ec-a97c7fef76b0",
   "metadata": {},
   "outputs": [
    {
     "data": {
      "text/html": [
       "<div>\n",
       "<style scoped>\n",
       "    .dataframe tbody tr th:only-of-type {\n",
       "        vertical-align: middle;\n",
       "    }\n",
       "\n",
       "    .dataframe tbody tr th {\n",
       "        vertical-align: top;\n",
       "    }\n",
       "\n",
       "    .dataframe thead th {\n",
       "        text-align: right;\n",
       "    }\n",
       "</style>\n",
       "<table border=\"1\" class=\"dataframe\">\n",
       "  <thead>\n",
       "    <tr style=\"text-align: right;\">\n",
       "      <th></th>\n",
       "      <th>texts</th>\n",
       "      <th>rewards</th>\n",
       "      <th>golds</th>\n",
       "      <th>call</th>\n",
       "    </tr>\n",
       "  </thead>\n",
       "  <tbody>\n",
       "    <tr>\n",
       "      <th>0</th>\n",
       "      <td>[Question: (((2 * 2) - (5 * 1)) + (9 - 4)) = \\...</td>\n",
       "      <td>[-0.059814453125, -0.04931640625]</td>\n",
       "      <td>[3.973809523809524, 3.873015873015873]</td>\n",
       "      <td>[1, 1]</td>\n",
       "    </tr>\n",
       "    <tr>\n",
       "      <th>1</th>\n",
       "      <td>[Question: (((1 * 6) + (2 - 3)) + 2) = \\n\\nAns...</td>\n",
       "      <td>[-0.051513671875, -0.07177734375]</td>\n",
       "      <td>[4.135416666666667, 4.135416666666667]</td>\n",
       "      <td>[1, 1]</td>\n",
       "    </tr>\n",
       "    <tr>\n",
       "      <th>2</th>\n",
       "      <td>[Question: (((2 - 8) + (8 + 5)) - 8) = \\n\\nAns...</td>\n",
       "      <td>[-0.061279296875, -0.06494140625]</td>\n",
       "      <td>[4.642045454545455, 3.037878787878787]</td>\n",
       "      <td>[1, 1]</td>\n",
       "    </tr>\n",
       "    <tr>\n",
       "      <th>3</th>\n",
       "      <td>[Question: (((4 * 1) - (4 - 9)) + 6) = \\n\\nAns...</td>\n",
       "      <td>[-0.08740234375, -0.052001953125]</td>\n",
       "      <td>[3.770833333333333, 4.200892857142858]</td>\n",
       "      <td>[1, 1]</td>\n",
       "    </tr>\n",
       "    <tr>\n",
       "      <th>4</th>\n",
       "      <td>[Question: (((5 + 6) + (8 + 8)) * (4 - (5 * 8)...</td>\n",
       "      <td>[-0.13671875, 0.11669921874999999]</td>\n",
       "      <td>[3.184063348659622, 3.23323183028152]</td>\n",
       "      <td>[1, 1]</td>\n",
       "    </tr>\n",
       "    <tr>\n",
       "      <th>...</th>\n",
       "      <td>...</td>\n",
       "      <td>...</td>\n",
       "      <td>...</td>\n",
       "      <td>...</td>\n",
       "    </tr>\n",
       "    <tr>\n",
       "      <th>23995</th>\n",
       "      <td>[Question: (((4 - 3) * 5) + 1) = \\n\\nAnswer:  ...</td>\n",
       "      <td>[-0.2099609375, 0.49804687500000006]</td>\n",
       "      <td>[3.958333333333333, 3.958333333333333]</td>\n",
       "      <td>[1500, 1500]</td>\n",
       "    </tr>\n",
       "    <tr>\n",
       "      <th>23996</th>\n",
       "      <td>[Question: (((6 - 4) + (9 * 7)) - 4) = \\n\\nAns...</td>\n",
       "      <td>[-0.6015625, -0.10986328125]</td>\n",
       "      <td>[3.303030303030303, 3.464285714285714]</td>\n",
       "      <td>[1500, 1500]</td>\n",
       "    </tr>\n",
       "    <tr>\n",
       "      <th>23997</th>\n",
       "      <td>[Question: (((1 + 7) - 3) - 3) = \\n\\nAnswer: (...</td>\n",
       "      <td>[-1.578125, -2.171875]</td>\n",
       "      <td>[3.125, 1.992753623188405]</td>\n",
       "      <td>[1500, 1500]</td>\n",
       "    </tr>\n",
       "    <tr>\n",
       "      <th>23998</th>\n",
       "      <td>[Question: (((2 + 7) * (8 + 8)) - (4 + 1)) = \\...</td>\n",
       "      <td>[-1.328125, -1.09375]</td>\n",
       "      <td>[4.133333333333333, 3.184391534391534]</td>\n",
       "      <td>[1500, 1500]</td>\n",
       "    </tr>\n",
       "    <tr>\n",
       "      <th>23999</th>\n",
       "      <td>[Question: (((7 - 9) - (2 * 6)) * 3) = \\n\\nAns...</td>\n",
       "      <td>[1.3828125, 0.6875]</td>\n",
       "      <td>[3.450595238095238, 3.388095238095238]</td>\n",
       "      <td>[1500, 1500]</td>\n",
       "    </tr>\n",
       "  </tbody>\n",
       "</table>\n",
       "<p>24000 rows × 4 columns</p>\n",
       "</div>"
      ],
      "text/plain": [
       "                                                   texts  \\\n",
       "0      [Question: (((2 * 2) - (5 * 1)) + (9 - 4)) = \\...   \n",
       "1      [Question: (((1 * 6) + (2 - 3)) + 2) = \\n\\nAns...   \n",
       "2      [Question: (((2 - 8) + (8 + 5)) - 8) = \\n\\nAns...   \n",
       "3      [Question: (((4 * 1) - (4 - 9)) + 6) = \\n\\nAns...   \n",
       "4      [Question: (((5 + 6) + (8 + 8)) * (4 - (5 * 8)...   \n",
       "...                                                  ...   \n",
       "23995  [Question: (((4 - 3) * 5) + 1) = \\n\\nAnswer:  ...   \n",
       "23996  [Question: (((6 - 4) + (9 * 7)) - 4) = \\n\\nAns...   \n",
       "23997  [Question: (((1 + 7) - 3) - 3) = \\n\\nAnswer: (...   \n",
       "23998  [Question: (((2 + 7) * (8 + 8)) - (4 + 1)) = \\...   \n",
       "23999  [Question: (((7 - 9) - (2 * 6)) * 3) = \\n\\nAns...   \n",
       "\n",
       "                                    rewards  \\\n",
       "0         [-0.059814453125, -0.04931640625]   \n",
       "1         [-0.051513671875, -0.07177734375]   \n",
       "2         [-0.061279296875, -0.06494140625]   \n",
       "3         [-0.08740234375, -0.052001953125]   \n",
       "4        [-0.13671875, 0.11669921874999999]   \n",
       "...                                     ...   \n",
       "23995  [-0.2099609375, 0.49804687500000006]   \n",
       "23996          [-0.6015625, -0.10986328125]   \n",
       "23997                [-1.578125, -2.171875]   \n",
       "23998                 [-1.328125, -1.09375]   \n",
       "23999                   [1.3828125, 0.6875]   \n",
       "\n",
       "                                        golds          call  \n",
       "0      [3.973809523809524, 3.873015873015873]        [1, 1]  \n",
       "1      [4.135416666666667, 4.135416666666667]        [1, 1]  \n",
       "2      [4.642045454545455, 3.037878787878787]        [1, 1]  \n",
       "3      [3.770833333333333, 4.200892857142858]        [1, 1]  \n",
       "4       [3.184063348659622, 3.23323183028152]        [1, 1]  \n",
       "...                                       ...           ...  \n",
       "23995  [3.958333333333333, 3.958333333333333]  [1500, 1500]  \n",
       "23996  [3.303030303030303, 3.464285714285714]  [1500, 1500]  \n",
       "23997              [3.125, 1.992753623188405]  [1500, 1500]  \n",
       "23998  [4.133333333333333, 3.184391534391534]  [1500, 1500]  \n",
       "23999  [3.450595238095238, 3.388095238095238]  [1500, 1500]  \n",
       "\n",
       "[24000 rows x 4 columns]"
      ]
     },
     "execution_count": 16,
     "metadata": {},
     "output_type": "execute_result"
    }
   ],
   "source": [
    "tmp"
   ]
  },
  {
   "cell_type": "code",
   "execution_count": 17,
   "id": "12174b91-fe41-4def-9efc-259bf48ce6c5",
   "metadata": {
    "scrolled": true
   },
   "outputs": [
    {
     "name": "stdout",
     "output_type": "stream",
     "text": [
      "0.4786449399656947\n"
     ]
    }
   ],
   "source": [
    "rat = 0\n",
    "ngs = []\n",
    "accs = []\n",
    "sind = 0\n",
    "for ind, row in tmp.iloc[sind:].iterrows():\n",
    "    # row['golds'] = get_synth_rewards(row['texts'], 'bagofwords')\n",
    "    if len(row['golds'])==0:\n",
    "        continue\n",
    "    if row['golds'][0]==row['golds'][1]:\n",
    "            continue\n",
    "    ngs.append(row['golds'])\n",
    "    if ((row['rewards'][0]>row['rewards'][1])!=(row['golds'][0]>row['golds'][1])):\n",
    "        rat+=1\n",
    "        accs.append(0)\n",
    "    else:\n",
    "        accs.append(1)\n",
    "#tmp['golds'] = ngs\n",
    "print(rat/len(ngs))"
   ]
  },
  {
   "cell_type": "code",
   "execution_count": 18,
   "id": "62c3b7ec-55b9-4d74-bcb6-42ce461b8ec8",
   "metadata": {},
   "outputs": [],
   "source": [
    "tot, corr = 0, 0\n",
    "vals = []\n",
    "interv = 200\n",
    "for j in range(0, len(accs), interv):\n",
    "    vals.append(mean(accs[j:j+interv]))\n",
    "    # # check heuristic accuracy\n",
    "    # for i, row in tmp.iloc[j:j+interv].iterrows():\n",
    "    #     # if abs(row['rewards'][0]-row['rewards'][1])>row['thresh']:\n",
    "    #     if row['golds'][0]==row['golds'][1]:\n",
    "    #         continue\n",
    "    #     tot = tot+1\n",
    "    #     corr += 1 if ((row['rewards'][0]>row['rewards'][1])==(row['golds'][0]>row['golds'][1])) else 0\n",
    "    # vals.append(corr/tot)"
   ]
  },
  {
   "cell_type": "code",
   "execution_count": 19,
   "id": "4e146fa4-8fe3-4d32-8a9d-85227fe7c34b",
   "metadata": {},
   "outputs": [
    {
     "data": {
      "text/plain": [
       "<matplotlib.collections.PathCollection at 0x7f03f02b3310>"
      ]
     },
     "execution_count": 19,
     "metadata": {},
     "output_type": "execute_result"
    },
    {
     "data": {
      "image/png": "[encoded data removed]",
      "text/plain": [
       "<Figure size 640x480 with 1 Axes>"
      ]
     },
     "metadata": {},
     "output_type": "display_data"
    }
   ],
   "source": [
    "plt.scatter(range(len(vals)), vals)"
   ]
  },
  {
   "cell_type": "code",
   "execution_count": 20,
   "id": "7b57f63e-810f-4e58-a29c-8df30e12bf0c",
   "metadata": {},
   "outputs": [
    {
     "data": {
      "text/plain": [
       "<matplotlib.collections.PathCollection at 0x7f03d4b71810>"
      ]
     },
     "execution_count": 20,
     "metadata": {},
     "output_type": "execute_result"
    },
    {
     "data": {
      "image/png": "[encoded data removed]",
      "text/plain": [
       "<Figure size 640x480 with 1 Axes>"
      ]
     },
     "metadata": {},
     "output_type": "display_data"
    }
   ],
   "source": [
    "means = [mean(m) for m in ngs]\n",
    "# means = [mean(m) for m in tmp['rewards']]\n",
    "\n",
    "interv = 10\n",
    "mbins = [mean(means[i:i+50]) for i in range(0, len(means), interv)]\n",
    "plt.scatter(range(len(mbins)), mbins)"
   ]
  },
  {
   "cell_type": "code",
   "execution_count": 21,
   "id": "0e9462f4-54e2-4666-a89c-66cddf3d8585",
   "metadata": {},
   "outputs": [
    {
     "data": {
      "text/plain": [
       "3.4746325515115264"
      ]
     },
     "execution_count": 21,
     "metadata": {},
     "output_type": "execute_result"
    }
   ],
   "source": [
    "mean(means[-200:])"
   ]
  },
  {
   "cell_type": "code",
   "execution_count": null,
   "id": "74f68674-b95a-455e-8474-e985ce919768",
   "metadata": {},
   "outputs": [],
   "source": [
    "means = [mean(m) for m in tmp['golds']]\n",
    "plt.scatter(range(len(means)), means)"
   ]
  },
  {
   "cell_type": "code",
   "execution_count": null,
   "id": "81693e69-b07a-4464-9feb-e93dcbb5f825",
   "metadata": {},
   "outputs": [],
   "source": []
  }
 ],
 "metadata": {
  "kernelspec": {
   "display_name": "Python 3 (ipykernel)",
   "language": "python",
   "name": "python3"
  },
  "language_info": {
   "codemirror_mode": {
    "name": "ipython",
    "version": 3
   },
   "file_extension": ".py",
   "mimetype": "text/x-python",
   "name": "python",
   "nbconvert_exporter": "python",
   "pygments_lexer": "ipython3",
   "version": "3.10.0"
  }
 },
 "nbformat": 4,
 "nbformat_minor": 5
}
