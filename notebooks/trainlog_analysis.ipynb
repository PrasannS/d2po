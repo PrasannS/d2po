{
 "cells": [
  {
   "cell_type": "code",
   "execution_count": 178,
   "id": "70c5f653-b94e-4957-9cd0-2879f4d6a2b4",
   "metadata": {},
   "outputs": [],
   "source": [
    "import pandas as pd\n",
    "import matplotlib.pyplot as plt\n",
    "from statistics import mean\n",
    "from rlhfutils.rl_utils import get_synth_rewards\n",
    "from tqdm import tqdm\n",
    "from datasets import Dataset, concatenate_datasets"
   ]
  },
  {
   "cell_type": "code",
   "execution_count": 179,
   "id": "54e934a2-c001-4bc7-9a74-2e5603f98886",
   "metadata": {},
   "outputs": [
    {
     "name": "stdout",
     "output_type": "stream",
     "text": [
      "The autoreload extension is already loaded. To reload it, use:\n",
      "  %reload_ext autoreload\n"
     ]
    }
   ],
   "source": [
    "%load_ext autoreload\n",
    "%autoreload 2"
   ]
  },
  {
   "cell_type": "code",
   "execution_count": 373,
   "id": "e11ae19a-c943-4cb3-bc16-7464d83fd183",
   "metadata": {},
   "outputs": [],
   "source": [
    "# tlog = pd.read_json(\"../../outputs/bagofwords/dynarmlogs/expbow50_updatereprod_fix.jsonl\", orient='records', lines=True)\n",
    "tlog = pd.read_json(\"../../active-rlhf/outputs/results/dynarmlogs/math/tiny_rm_conf8repeasy1v2.jsonl\", orient='records', lines=True, nrows=64000)\n",
    "# tlog = pd.read_json(\"../../active-rlhf/outputs/results/rollouts/math/ppo_goldb8easy2.jsonl\", orient='records', lines=True, nrows=64000)\n",
    "\n",
    "# tlog = pd.read_json(\"../../activereprod/active-rlhf/outputs/results/dynarmlogs/math/u/prasanns/research/active-rlhf/outputs/models/math/tiny_rm_rand_subsamp_onlymathreprod3.jsonl\", orient='records', lines=True)\n",
    "# tlog = pd.read_json(\"../outputs/results/dynarmlogs/.jsonl\", orient='records', lines=True)\n",
    "tmp = tlog\n",
    "if 'golds' not in tmp.keys():\n",
    "    tmp['golds'] = tmp['rewards']\n",
    "\n",
    "tmp = tmp.dropna(subset='golds')"
   ]
  },
  {
   "cell_type": "code",
   "execution_count": 381,
   "id": "c9b6f231-196d-4297-bd7f-552de9e92122",
   "metadata": {},
   "outputs": [
    {
     "data": {
      "text/plain": [
       "['Question: ((5 + 6) + 3) = \\n\\nAnswer:                                                                                                   ',\n",
       " 'Question: ((5 + 6) + 3) = \\n\\nAnswer:                                                                                                   ']"
      ]
     },
     "execution_count": 381,
     "metadata": {},
     "output_type": "execute_result"
    }
   ],
   "source": [
    "tmp.iloc[-1]['texts']"
   ]
  },
  {
   "cell_type": "code",
   "execution_count": 384,
   "id": "a7750cfc-d0ef-4957-9cf7-0ba7c44fa126",
   "metadata": {},
   "outputs": [
    {
     "name": "stdout",
     "output_type": "stream",
     "text": [
      "(1, 1)\n"
     ]
    }
   ],
   "source": [
    "a = [1,2,3]\n",
    "b = [1]\n",
    "for i in zip(a, b):\n",
    "    print(i)"
   ]
  },
  {
   "cell_type": "code",
   "execution_count": 358,
   "id": "e26c423a-dc8b-45a6-86ec-a97c7fef76b0",
   "metadata": {},
   "outputs": [],
   "source": [
    "# tmp.iloc[-1]['texts']"
   ]
  },
  {
   "cell_type": "code",
   "execution_count": 359,
   "id": "7f1c799d-4c75-41d0-8ccf-0ee479817fcb",
   "metadata": {},
   "outputs": [],
   "source": [
    "# tmp['texts'][3103]"
   ]
  },
  {
   "cell_type": "code",
   "execution_count": 360,
   "id": "12174b91-fe41-4def-9efc-259bf48ce6c5",
   "metadata": {
    "scrolled": true
   },
   "outputs": [
    {
     "name": "stdout",
     "output_type": "stream",
     "text": [
      "0.0\n"
     ]
    }
   ],
   "source": [
    "rat = 0\n",
    "ngs = []\n",
    "accs = []\n",
    "sind = 0\n",
    "for ind, row in tmp.iloc[sind:].iterrows():\n",
    "    # row['golds'] = get_synth_rewards(row['texts'], 'bagofwords')\n",
    "    if len(row['golds'])==0:\n",
    "        continue\n",
    "    if row['golds'][0]==row['golds'][1]:\n",
    "            continue\n",
    "    ngs.append(row['golds'])\n",
    "    if ((row['rewards'][0]>row['rewards'][1])!=(row['golds'][0]>row['golds'][1])):\n",
    "        rat+=1\n",
    "        accs.append(0)\n",
    "    else:\n",
    "        accs.append(1)\n",
    "#tmp['golds'] = ngs\n",
    "print(rat/len(ngs))"
   ]
  },
  {
   "cell_type": "code",
   "execution_count": 361,
   "id": "62c3b7ec-55b9-4d74-bcb6-42ce461b8ec8",
   "metadata": {},
   "outputs": [],
   "source": [
    "tot, corr = 0, 0\n",
    "vals = []\n",
    "interv = 200\n",
    "for j in range(0, len(accs), interv):\n",
    "    vals.append(mean(accs[j:j+interv]))\n",
    "    # # check heuristic accuracy\n",
    "    # for i, row in tmp.iloc[j:j+interv].iterrows():\n",
    "    #     # if abs(row['rewards'][0]-row['rewards'][1])>row['thresh']:\n",
    "    #     if row['golds'][0]==row['golds'][1]:\n",
    "    #         continue\n",
    "    #     tot = tot+1\n",
    "    #     corr += 1 if ((row['rewards'][0]>row['rewards'][1])==(row['golds'][0]>row['golds'][1])) else 0\n",
    "    # vals.append(corr/tot)"
   ]
  },
  {
   "cell_type": "code",
   "execution_count": 362,
   "id": "4e146fa4-8fe3-4d32-8a9d-85227fe7c34b",
   "metadata": {},
   "outputs": [
    {
     "data": {
      "text/plain": [
       "<matplotlib.collections.PathCollection at 0x7f038dcaa3e0>"
      ]
     },
     "execution_count": 362,
     "metadata": {},
     "output_type": "execute_result"
    },
    {
     "data": {
      "image/png": "[encoded data removed]",
      "text/plain": [
       "<Figure size 640x480 with 1 Axes>"
      ]
     },
     "metadata": {},
     "output_type": "display_data"
    }
   ],
   "source": [
    "plt.scatter(range(len(vals)), vals)"
   ]
  },
  {
   "cell_type": "code",
   "execution_count": 363,
   "id": "7b57f63e-810f-4e58-a29c-8df30e12bf0c",
   "metadata": {},
   "outputs": [
    {
     "data": {
      "text/plain": [
       "<matplotlib.collections.PathCollection at 0x7f038ae83cd0>"
      ]
     },
     "execution_count": 363,
     "metadata": {},
     "output_type": "execute_result"
    },
    {
     "data": {
      "image/png": "[encoded data removed]",
      "text/plain": [
       "<Figure size 640x480 with 1 Axes>"
      ]
     },
     "metadata": {},
     "output_type": "display_data"
    }
   ],
   "source": [
    "means = [mean(m) for m in ngs]\n",
    "# means = [mean(m) for m in tmp['rewards']]\n",
    "\n",
    "interv = 10\n",
    "mbins = [mean(means[i:i+50]) for i in range(0, len(means), interv)]\n",
    "plt.scatter(range(len(mbins)), mbins)"
   ]
  },
  {
   "cell_type": "code",
   "execution_count": 364,
   "id": "0e9462f4-54e2-4666-a89c-66cddf3d8585",
   "metadata": {},
   "outputs": [
    {
     "data": {
      "text/plain": [
       "4.740225075180728"
      ]
     },
     "execution_count": 364,
     "metadata": {},
     "output_type": "execute_result"
    }
   ],
   "source": [
    "mean(means[-20:])"
   ]
  },
  {
   "cell_type": "code",
   "execution_count": 42,
   "id": "74f68674-b95a-455e-8474-e985ce919768",
   "metadata": {},
   "outputs": [
    {
     "data": {
      "text/plain": [
       "<matplotlib.collections.PathCollection at 0x7f03a7363970>"
      ]
     },
     "execution_count": 42,
     "metadata": {},
     "output_type": "execute_result"
    },
    {
     "data": {
      "image/png": "[encoded data removed]",
      "text/plain": [
       "<Figure size 640x480 with 1 Axes>"
      ]
     },
     "metadata": {},
     "output_type": "display_data"
    }
   ],
   "source": [
    "means = [mean(m) for m in tmp['golds']]\n",
    "plt.scatter(range(len(means)), means)"
   ]
  },
  {
   "cell_type": "code",
   "execution_count": null,
   "id": "81693e69-b07a-4464-9feb-e93dcbb5f825",
   "metadata": {},
   "outputs": [],
   "source": []
  }
 ],
 "metadata": {
  "kernelspec": {
   "display_name": "Python 3 (ipykernel)",
   "language": "python",
   "name": "python3"
  },
  "language_info": {
   "codemirror_mode": {
    "name": "ipython",
    "version": 3
   },
   "file_extension": ".py",
   "mimetype": "text/x-python",
   "name": "python",
   "nbconvert_exporter": "python",
   "pygments_lexer": "ipython3",
   "version": "3.10.0"
  }
 },
 "nbformat": 4,
 "nbformat_minor": 5
}
