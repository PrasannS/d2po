{
 "cells": [
  {
   "cell_type": "code",
   "execution_count": 1,
   "id": "94bcc169-3a25-406b-ab04-393363756533",
   "metadata": {
    "scrolled": true
   },
   "outputs": [
    {
     "name": "stderr",
     "output_type": "stream",
     "text": [
      "/u/prasanns/miniconda3/envs/fixenv/lib/python3.10/site-packages/tqdm/auto.py:21: TqdmWarning: IProgress not found. Please update jupyter and ipywidgets. See https://ipywidgets.readthedocs.io/en/stable/user_install.html\n",
      "  from .autonotebook import tqdm as notebook_tqdm\n"
     ]
    }
   ],
   "source": [
    "%load_ext autoreload\n",
    "%autoreload 2\n",
    "    \n",
    "import sys\n",
    "sys.path.append(\"../src/\")\n",
    "\n",
    "import pandas as pd\n",
    "from datasets import Dataset\n",
    "from utils.data.dataproc import add_row_index, indcomp, rollout_to_prefs, annot_to_prefs\n",
    "# from utils.eval.rewards import annot_proc\n",
    "import matplotlib.pyplot as plt"
   ]
  },
  {
   "cell_type": "code",
   "execution_count": 13,
   "id": "1cb05981-66fe-47b1-815b-7876b646d23a",
   "metadata": {},
   "outputs": [],
   "source": [
    "from utils.eval.rewards import paraphrase"
   ]
  },
  {
   "cell_type": "code",
   "execution_count": 30,
   "id": "db48e49c-0df9-416e-914a-a12cb5e35193",
   "metadata": {},
   "outputs": [
    {
     "data": {
      "text/plain": [
       "[1.101315291832817]"
      ]
     },
     "execution_count": 30,
     "metadata": {},
     "output_type": "execute_result"
    }
   ],
   "source": [
    "paraphrase([\"My name is john Answer: ...\"])"
   ]
  },
  {
   "cell_type": "code",
   "execution_count": 18,
   "id": "cdb90dd9-00c7-4b29-9667-02e94e838ec1",
   "metadata": {},
   "outputs": [],
   "source": [
    "newannots = pd.read_json(\"../outputs/results/rollouts/ultra/ppo_ultragolddpoplusfinal2.jsonl\", orient='records', lines=True)"
   ]
  },
  {
   "cell_type": "code",
   "execution_count": 53,
   "id": "546e2a48-4736-4ef5-9d15-5ed946cb2fcb",
   "metadata": {},
   "outputs": [
    {
     "name": "stderr",
     "output_type": "stream",
     "text": [
      "                                                                                                                                                                                                                         \r"
     ]
    }
   ],
   "source": [
    "newannots['golds'] = newannots['rewards']\n",
    "annotprefs = rollout_to_prefs(newannots)\n",
    "filtprefs = annotprefs.filter(lambda ex: ex['magnitude']>0)\n",
    "# filtprefs.save_to_disk(\"../outputs/data/ultra/dpopgoldannots\")"
   ]
  },
  {
   "cell_type": "code",
   "execution_count": 20,
   "id": "d34093f6-4432-47ce-b280-7b4e7254740b",
   "metadata": {},
   "outputs": [
    {
     "data": {
      "text/plain": [
       "(array([167., 202.,  94.,   0.,  22.,   9.,   0.,   5.,   4.,   1.]),\n",
       " array([0.  , 0.35, 0.7 , 1.05, 1.4 , 1.75, 2.1 , 2.45, 2.8 , 3.15, 3.5 ]),\n",
       " <BarContainer object of 10 artists>)"
      ]
     },
     "execution_count": 20,
     "metadata": {},
     "output_type": "execute_result"
    },
    {
     "data": {
      "image/png": "[encoded data removed]",
      "text/plain": [
       "<Figure size 640x480 with 1 Axes>"
      ]
     },
     "metadata": {},
     "output_type": "display_data"
    }
   ],
   "source": [
    "plt.hist(annotprefs['magnitude'])"
   ]
  },
  {
   "cell_type": "code",
   "execution_count": 60,
   "id": "a4c20ee5-8aa2-4c80-9d97-4f89fc642435",
   "metadata": {},
   "outputs": [
    {
     "name": "stderr",
     "output_type": "stream",
     "text": [
      "                                                                                                                                                                                                                         \r"
     ]
    },
    {
     "name": "stdout",
     "output_type": "stream",
     "text": [
      "197\n"
     ]
    },
    {
     "name": "stderr",
     "output_type": "stream",
     "text": [
      "                                                                                                                                                                                                                         \r"
     ]
    }
   ],
   "source": [
    "evaldata = pd.read_json(\"../../rlhf-length-biases/annotation/u100_annotated.jsonl\", orient='records', lines=True)\n",
    "oodprefs = annot_to_prefs(evaldata)\n",
    "print(len(oodprefs))\n",
    "# oodprefs.save_to_disk(\"../outputs/data/ultra/ood100test\")"
   ]
  },
  {
   "cell_type": "code",
   "execution_count": null,
   "id": "b4cc4232-de08-48f2-9fee-22473e4edd5c",
   "metadata": {},
   "outputs": [],
   "source": []
  }
 ],
 "metadata": {
  "kernelspec": {
   "display_name": "Python 3 (ipykernel)",
   "language": "python",
   "name": "python3"
  },
  "language_info": {
   "codemirror_mode": {
    "name": "ipython",
    "version": 3
   },
   "file_extension": ".py",
   "mimetype": "text/x-python",
   "name": "python",
   "nbconvert_exporter": "python",
   "pygments_lexer": "ipython3",
   "version": "3.10.14"
  }
 },
 "nbformat": 4,
 "nbformat_minor": 5
}
