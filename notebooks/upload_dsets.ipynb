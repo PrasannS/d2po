{
 "cells": [
  {
   "cell_type": "code",
   "execution_count": 10,
   "id": "71b4006b-6a47-4f3d-be1f-a5c607000626",
   "metadata": {},
   "outputs": [],
   "source": [
    "from datasets import Dataset\n",
    "import matplotlib.pyplot as plt"
   ]
  },
  {
   "cell_type": "code",
   "execution_count": 5,
   "id": "bf7c621a-414e-4764-ab5c-d8b455eda276",
   "metadata": {},
   "outputs": [],
   "source": [
    "tmpd = Dataset.load_from_disk(\"../outputs/data/math/offp40knotie/\")"
   ]
  },
  {
   "cell_type": "code",
   "execution_count": 7,
   "id": "2e15c80e-90ea-4a95-80e2-e5e14d6768cb",
   "metadata": {},
   "outputs": [
    {
     "name": "stderr",
     "output_type": "stream",
     "text": [
      "Uploading the dataset shards:   0%|                                                                                                                                                                         | 0/1 [00:00<?, ?it/s]\n",
      "Creating parquet from Arrow format:   0%|                                                                                                                                                                  | 0/44 [00:00<?, ?ba/s]\u001b[A\n",
      "Creating parquet from Arrow format:   2%|███▌                                                                                                                                                      | 1/44 [00:00<00:07,  5.66ba/s]\u001b[A\n",
      "Creating parquet from Arrow format: 100%|████████████████████████████████████████████████████████████████████████████████████████████████████████████████████████████████████████████████████████| 44/44 [00:00<00:00, 139.86ba/s]\u001b[A\n",
      "Uploading the dataset shards: 100%|█████████████████████████████████████████████████████████████████████████████████████████████████████████████████████████████████████████████████████████████████| 1/1 [00:01<00:00,  1.24s/it]\n"
     ]
    },
    {
     "data": {
      "text/plain": [
       "CommitInfo(commit_url='https://huggingface.co/datasets/PrasannSinghal/mathprefdataex/commit/a1d891eec3ddd3dff0bfac60f8bb3e73edda2086', commit_message='Upload dataset', commit_description='', oid='a1d891eec3ddd3dff0bfac60f8bb3e73edda2086', pr_url=None, pr_revision=None, pr_num=None)"
      ]
     },
     "execution_count": 7,
     "metadata": {},
     "output_type": "execute_result"
    }
   ],
   "source": [
    "tmpd.push_to_hub(\"PrasannSinghal/mathprefdataex\")"
   ]
  },
  {
   "cell_type": "code",
   "execution_count": 20,
   "id": "d243e883-d3bc-4a49-80ca-6ad3653f8a2c",
   "metadata": {},
   "outputs": [],
   "source": [
    "# tmpd = Dataset.load_from_disk(\"../../rlhf-length-biases/data/bagofwords/bowsynth50knozeros//\")"
   ]
  },
  {
   "cell_type": "code",
   "execution_count": 34,
   "id": "b309b0b3-65a3-425c-b18e-aff86233738e",
   "metadata": {},
   "outputs": [],
   "source": [
    "tmpd = Dataset.load_from_disk(\"../outputs/data/math/mathppoinps200k//\")"
   ]
  },
  {
   "cell_type": "code",
   "execution_count": 28,
   "id": "86bf24e9-ffe6-4f82-97fb-fa0b42061c73",
   "metadata": {},
   "outputs": [],
   "source": [
    "tmpd = tmpd.remove_columns(['source', 'modj', 'modk', 'tokj', 'tok', 'response_j', 'response_k', 'magnitude', \"__index_level_0__\"])"
   ]
  },
  {
   "cell_type": "code",
   "execution_count": 37,
   "id": "2c15ba58-0505-4496-ad53-ea5610fd15a8",
   "metadata": {},
   "outputs": [
    {
     "name": "stderr",
     "output_type": "stream",
     "text": [
      "Uploading the dataset shards:   0%|                                                                                                                                                                         | 0/1 [00:00<?, ?it/s]\n",
      "Creating parquet from Arrow format: 100%|█████████████████████████████████████████████████████████████████████████████████████████████████████████████████████████████████████████████████████| 200/200 [00:00<00:00, 2152.83ba/s]\u001b[A\n",
      "Uploading the dataset shards: 100%|█████████████████████████████████████████████████████████████████████████████████████████████████████████████████████████████████████████████████████████████████| 1/1 [00:00<00:00,  1.32it/s]\n"
     ]
    },
    {
     "data": {
      "text/plain": [
       "CommitInfo(commit_url='https://huggingface.co/datasets/PrasannSinghal/mathprompts/commit/71aa2f1f97efce6e2e465591c2209ba726f5e3cb', commit_message='Upload dataset', commit_description='', oid='71aa2f1f97efce6e2e465591c2209ba726f5e3cb', pr_url=None, pr_revision=None, pr_num=None)"
      ]
     },
     "execution_count": 37,
     "metadata": {},
     "output_type": "execute_result"
    }
   ],
   "source": [
    "tmpd.push_to_hub(\"PrasannSinghal/mathprompts\")"
   ]
  },
  {
   "cell_type": "code",
   "execution_count": 36,
   "id": "75f067bc-f058-4ee0-a106-ce6d700b3a04",
   "metadata": {},
   "outputs": [
    {
     "data": {
      "text/plain": [
       "{'question': '(((5 - 6) - (3 - 1)) + 2) = ',\n",
       " 'outputs': '(((5 - 6) - (3 - 1)) + 2) = ((-1 - (3 - 1)) + 2) = ((-1 - 2) + 2) = (-3 + 2) = -1 = -1'}"
      ]
     },
     "execution_count": 36,
     "metadata": {},
     "output_type": "execute_result"
    }
   ],
   "source": [
    "tmpd[0]"
   ]
  },
  {
   "cell_type": "code",
   "execution_count": null,
   "id": "5898970a-b992-49de-bebc-7783ab86268a",
   "metadata": {},
   "outputs": [],
   "source": []
  }
 ],
 "metadata": {
  "kernelspec": {
   "display_name": "Python 3 (ipykernel)",
   "language": "python",
   "name": "python3"
  },
  "language_info": {
   "codemirror_mode": {
    "name": "ipython",
    "version": 3
   },
   "file_extension": ".py",
   "mimetype": "text/x-python",
   "name": "python",
   "nbconvert_exporter": "python",
   "pygments_lexer": "ipython3",
   "version": "3.10.14"
  }
 },
 "nbformat": 4,
 "nbformat_minor": 5
}
