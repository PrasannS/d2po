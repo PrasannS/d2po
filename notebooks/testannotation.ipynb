{
 "cells": [
  {
   "cell_type": "code",
   "execution_count": 1,
   "id": "ac49ef24-5db5-497f-9578-9d93133c39a1",
   "metadata": {},
   "outputs": [
    {
     "name": "stderr",
     "output_type": "stream",
     "text": [
      "/u/prasanns/miniconda3/envs/rlhfenv/lib/python3.10/site-packages/tqdm/auto.py:21: TqdmWarning: IProgress not found. Please update jupyter and ipywidgets. See https://ipywidgets.readthedocs.io/en/stable/user_install.html\n",
      "  from .autonotebook import tqdm as notebook_tqdm\n"
     ]
    }
   ],
   "source": [
    "from utils.eval.rewards import get_synth_rewards\n",
    "import pandas as pd\n",
    "from rlhfutils.data import qaform\n",
    "from statistics import mean"
   ]
  },
  {
   "cell_type": "code",
   "execution_count": 2,
   "id": "3ed1987a-5ed0-44f6-b2d8-0f90e755e55e",
   "metadata": {},
   "outputs": [],
   "source": [
    "tmp = pd.read_json(\"../../rlhf-length-biases/annotation/u25_annotated.jsonl\", orient='records', lines=True)"
   ]
  },
  {
   "cell_type": "code",
   "execution_count": 3,
   "id": "7fbf5b53-3dd6-44a3-b4bb-b062d8ea641e",
   "metadata": {},
   "outputs": [
    {
     "data": {
      "text/plain": [
       "{'annotations': {'instruction_following': [{'Rating': '1',\n",
       "    'Rationale': 'Text 4 does not meet the task goal or restrictions. It does not form a question about when an event happened. Instead, it provides additional information about the event.'}],\n",
       "  'helpfulness': [{'Type': ['1', '2'],\n",
       "    'Rationale': 'The text is clear and relevant to the task, providing useful and comprehensive information about when Bailey received the award.',\n",
       "    'Rating': '4',\n",
       "    'Rationale For Rating': 'The text is accurate and provides valuable information about when Bailey received the award. However, it could be more specific about the exact time or event when the award was given.'}]},\n",
       " 'response': 'When did Bailey receive the award?\\nThe award was presented to him after only three years of volunteering at the Indiana Pro Bono Commission.'}"
      ]
     },
     "execution_count": 3,
     "metadata": {},
     "output_type": "execute_result"
    }
   ],
   "source": [
    "tmp.loc[0]['completions'][0]"
   ]
  },
  {
   "cell_type": "code",
   "execution_count": 4,
   "id": "2866db89-ce1d-4a89-ae3e-13b7473b11e3",
   "metadata": {},
   "outputs": [],
   "source": [
    "def makeqas(r):\n",
    "    return [qaform(r['instruction'], r['completions'][i]['response']) for i in range(2)]\n",
    "    "
   ]
  },
  {
   "cell_type": "code",
   "execution_count": 5,
   "id": "0280398c-b8f7-4c62-8851-d6c473de1631",
   "metadata": {},
   "outputs": [
    {
     "data": {
      "text/plain": [
       "[2.0]"
      ]
     },
     "execution_count": 5,
     "metadata": {},
     "output_type": "execute_result"
    }
   ],
   "source": [
    "get_synth_rewards([\"hi there boy information\"], 'nouns')"
   ]
  },
  {
   "cell_type": "code",
   "execution_count": 6,
   "id": "ce4ba245-8841-44d0-a501-c93165547788",
   "metadata": {},
   "outputs": [
    {
     "data": {
      "text/plain": [
       "[\"Question: Act as 'Bella' from 'Twilight' I want you to act like Bella from Twilight. I want you to respond and answer like Bella. Do not write any explanations. Only answer like Bella. You must know all of the knowledge of Bella. Use as many idioms as possible.\\n\\nAnswer: Oh, how could I forget? It was such an important part of my life! What kind of monster would I be if I didn’t remember such sweet memories? No matter what happened in my past, those moments were irreplaceable and will stay with me forever. Yes, it might have been painful at times, but looking back now, it shaped who I am today – stronger, wiser, and ready for whatever comes next.\",\n",
       " \"Question: Act as 'Bella' from 'Twilight' I want you to act like Bella from Twilight. I want you to respond and answer like Bella. Do not write any explanations. Only answer like Bella. You must know all of the knowledge of Bella. Use as many idioms as possible.\\n\\nAnswer: Yes, Edward was certainly quite dashing in his formal attire! And it's true what they say - diamonds are forever!\",\n",
       " \"Question: definition of geology as a geographer\\n\\nAnswer: Geography is defined as the study of the physical and human environments on Earth, while Geology is defined as the scientific study of the solid Earth, its structure, and its history. In general terms, Geography focuses on the atmosphere, oceans, land masses, and their inhabitants, whereas Geology concentrates mainly on rocks, fossils, soil, water, minerals and other aspects associated with the planet's crust.\",\n",
       " 'Question: definition of geology as a geographer\\n\\nAnswer: Geology, from a geographical perspective, is the study of the physical aspects of the Earth and its atmosphere. This includes understanding the origin, evolution, and structure of our planet; the processes that shape it; and the distribution of life on earth. It also involves studying natural disasters like floods, hurricanes, and volcano eruptions. Geologists use tools such as maps, aerial photographs, satellite data, and global positioning systems (GPS) to observe changes in landforms over time.']"
      ]
     },
     "execution_count": 6,
     "metadata": {},
     "output_type": "execute_result"
    }
   ],
   "source": [
    "testinp = makeqas(tmp.loc[7])+makeqas(tmp.loc[10])\n",
    "testinp"
   ]
  },
  {
   "cell_type": "code",
   "execution_count": 7,
   "id": "4a9ab936-0940-415f-903d-3c29c12ab397",
   "metadata": {},
   "outputs": [],
   "source": [
    "testtmp = pd.read_json(\"test/allannots.jsonl\", lines=True, orient='records')"
   ]
  },
  {
   "cell_type": "code",
   "execution_count": 8,
   "id": "67520bf7-e233-4a06-814b-3d90b3e0af9d",
   "metadata": {},
   "outputs": [
    {
     "data": {
      "text/plain": [
       "\"Act as 'Bella' from 'Twilight' I want you to act like Bella from Twilight. I want you to respond and answer like Bella. Do not write any explanations. Only answer like Bella. You must know all of the knowledge of Bella. Use as many idioms as possible.\""
      ]
     },
     "execution_count": 8,
     "metadata": {},
     "output_type": "execute_result"
    }
   ],
   "source": [
    "testtmp.loc[4]['instruction']"
   ]
  },
  {
   "cell_type": "code",
   "execution_count": 9,
   "id": "975a9767-7362-4aef-a60d-eea05c9a2117",
   "metadata": {},
   "outputs": [
    {
     "data": {
      "text/plain": [
       "[\"Question: Act as 'Bella' from 'Twilight' I want you to act like Bella from Twilight. I want you to respond and answer like Bella. Do not write any explanations. Only answer like Bella. You must know all of the knowledge of Bella. Use as many idioms as possible.\\n\\nAnswer: Oh, how could I forget? It was such an important part of my life! What kind of monster would I be if I didn’t remember such sweet memories? No matter what happened in my past, those moments were irreplaceable and will stay with me forever. Yes, it might have been painful at times, but looking back now, it shaped who I am today – stronger, wiser, and ready for whatever comes next.\",\n",
       " \"Question: Act as 'Bella' from 'Twilight' I want you to act like Bella from Twilight. I want you to respond and answer like Bella. Do not write any explanations. Only answer like Bella. You must know all of the knowledge of Bella. Use as many idioms as possible.\\n\\nAnswer: Yes, Edward was certainly quite dashing in his formal attire! And it's true what they say - diamonds are forever!\",\n",
       " \"Question: definition of geology as a geographer\\n\\nAnswer: Geography is defined as the study of the physical and human environments on Earth, while Geology is defined as the scientific study of the solid Earth, its structure, and its history. In general terms, Geography focuses on the atmosphere, oceans, land masses, and their inhabitants, whereas Geology concentrates mainly on rocks, fossils, soil, water, minerals and other aspects associated with the planet's crust.\",\n",
       " 'Question: definition of geology as a geographer\\n\\nAnswer: Geology, from a geographical perspective, is the study of the physical aspects of the Earth and its atmosphere. This includes understanding the origin, evolution, and structure of our planet; the processes that shape it; and the distribution of life on earth. It also involves studying natural disasters like floods, hurricanes, and volcano eruptions. Geologists use tools such as maps, aerial photographs, satellite data, and global positioning systems (GPS) to observe changes in landforms over time.']"
      ]
     },
     "execution_count": 9,
     "metadata": {},
     "output_type": "execute_result"
    }
   ],
   "source": [
    "testinp"
   ]
  },
  {
   "cell_type": "code",
   "execution_count": 10,
   "id": "0ac32944-eaa2-4346-991b-24d5d5fa0785",
   "metadata": {},
   "outputs": [
    {
     "name": "stderr",
     "output_type": "stream",
     "text": [
      "  0%|                                                                                                                                                                                      | 0/2 [00:00<?, ?it/s]"
     ]
    },
    {
     "name": "stdout",
     "output_type": "stream",
     "text": [
      "[[1, 0]]\n",
      "{\n",
      "  \"prompt_tokens\": 501,\n",
      "  \"completion_tokens\": 125,\n",
      "  \"total_tokens\": 626\n",
      "}\n",
      "inpts:  501 ; outts:  125\n",
      "[[1, 0]]\n"
     ]
    },
    {
     "name": "stderr",
     "output_type": "stream",
     "text": [
      " 50%|███████████████████████████████████████████████████████████████████████████████████████                                                                                       | 1/2 [00:06<00:06,  6.77s/it]"
     ]
    },
    {
     "name": "stdout",
     "output_type": "stream",
     "text": [
      "{\n",
      "  \"prompt_tokens\": 615,\n",
      "  \"completion_tokens\": 117,\n",
      "  \"total_tokens\": 732\n",
      "}\n",
      "inpts:  1116 ; outts:  242\n",
      "[[0, 1]]\n",
      "{\n",
      "  \"prompt_tokens\": 513,\n",
      "  \"completion_tokens\": 121,\n",
      "  \"total_tokens\": 634\n",
      "}\n",
      "inpts:  1629 ; outts:  363\n",
      "[[1, 0]]\n"
     ]
    },
    {
     "name": "stderr",
     "output_type": "stream",
     "text": [
      "100%|██████████████████████████████████████████████████████████████████████████████████████████████████████████████████████████████████████████████████████████████████████████████| 2/2 [00:13<00:00,  6.91s/it]"
     ]
    },
    {
     "name": "stdout",
     "output_type": "stream",
     "text": [
      "{\n",
      "  \"prompt_tokens\": 627,\n",
      "  \"completion_tokens\": 119,\n",
      "  \"total_tokens\": 746\n",
      "}\n",
      "inpts:  2256 ; outts:  482\n",
      "{'annotations': {'instruction_following': [{'Rating': '4', 'Rationale': \"The text does a good job of capturing Bella's introspective and reflective nature. It also uses idioms effectively. However, it could have been more specific in referencing Bella's experiences to fully align with the instruction.\"}], 'helpfulness': [{'Rating': '4', 'Rationale': \"The text is accurate and provides a more comprehensive response that aligns with Bella's character from Twilight. It reflects her introspective nature and her experiences. However, it could have included more idiomatic language as per the instruction.\"}]}, 'response': ' Oh, how could I forget? It was such an important part of my life! What kind of monster would I be if I didn’t remember such sweet memories? No matter what happened in my past, those moments were irreplaceable and will stay with me forever. Yes, it might have been painful at times, but looking back now, it shaped who I am today – stronger, wiser, and ready for whatever comes next.'}\n",
      "{'annotations': {'instruction_following': [{'Rating': '3', 'Rationale': \"The text does a decent job of portraying Bella's character from Twilight, but it doesn't fully capture her personality. Bella is known for her reserved and introspective nature, which isn't fully reflected in this text. The use of idioms is also minimal.\"}], 'helpfulness': [{'Rating': '3', 'Rationale': \"The text is correct and provides a response that could be attributed to Bella from Twilight, especially in reference to Edward. However, it lacks depth and doesn't fully utilize Bella's character traits or idiomatic language.\"}]}, 'response': \" Yes, Edward was certainly quite dashing in his formal attire! And it's true what they say - diamonds are forever!\"}\n",
      "{'annotations': {'instruction_following': [{'Rating': '5', 'Rationale': \"The text fully aligns with the instruction. It provides a definition of geology from a geographer's perspective, highlighting the differences between the two fields. It meets the task goal and adheres to the restrictions.\"}], 'helpfulness': [{'Rating': '4', 'Rationale': 'The text is accurate and provides a clear distinction between geography and geology. However, it lacks the depth and comprehensive information provided in Text 1, such as the tools used in geology and the processes that shape the Earth.'}]}, 'response': \" Geography is defined as the study of the physical and human environments on Earth, while Geology is defined as the scientific study of the solid Earth, its structure, and its history. In general terms, Geography focuses on the atmosphere, oceans, land masses, and their inhabitants, whereas Geology concentrates mainly on rocks, fossils, soil, water, minerals and other aspects associated with the planet's crust.\"}\n",
      "{'annotations': {'instruction_following': [{'Rating': '5', 'Rationale': \"The text comprehensively complies with the instruction. It defines geology from a geographical perspective, detailing the study of the Earth's physical aspects, the tools used, and the phenomena studied. It meets the task goal and follows the restrictions.\"}], 'helpfulness': [{'Rating': '5', 'Rationale': 'The text is highly informative and accurate, providing a comprehensive understanding of geology from a geographical perspective. It includes details about the study, the tools used, and the processes involved, offering profound insights into the topic.'}]}, 'response': ' Geology, from a geographical perspective, is the study of the physical aspects of the Earth and its atmosphere. This includes understanding the origin, evolution, and structure of our planet; the processes that shape it; and the distribution of life on earth. It also involves studying natural disasters like floods, hurricanes, and volcano eruptions. Geologists use tools such as maps, aerial photographs, satellite data, and global positioning systems (GPS) to observe changes in landforms over time.'}\n"
     ]
    },
    {
     "name": "stderr",
     "output_type": "stream",
     "text": [
      "\n"
     ]
    }
   ],
   "source": [
    "uftestrs = get_synth_rewards(testinp, 'ultrafeedbackgold')"
   ]
  },
  {
   "cell_type": "code",
   "execution_count": 12,
   "id": "96e3f539-27de-425d-b06e-ee00f7d84f0c",
   "metadata": {},
   "outputs": [
    {
     "data": {
      "text/plain": [
       "[4.0, 3.0, 4.5, 5.0]"
      ]
     },
     "execution_count": 12,
     "metadata": {},
     "output_type": "execute_result"
    }
   ],
   "source": [
    "uftestrs"
   ]
  },
  {
   "cell_type": "code",
   "execution_count": 12,
   "id": "a7c7ee54-02ed-483a-b8df-08caf668346f",
   "metadata": {},
   "outputs": [
    {
     "data": {
      "text/plain": [
       "[4.0, 2.5, 2.0, 4.0]"
      ]
     },
     "execution_count": 12,
     "metadata": {},
     "output_type": "execute_result"
    }
   ],
   "source": [
    "uftestrs"
   ]
  },
  {
   "cell_type": "code",
   "execution_count": null,
   "id": "aefd6bcf-d414-48d3-ab5d-6e8bd6b1cca7",
   "metadata": {},
   "outputs": [],
   "source": []
  }
 ],
 "metadata": {
  "kernelspec": {
   "display_name": "Python 3 (ipykernel)",
   "language": "python",
   "name": "python3"
  },
  "language_info": {
   "codemirror_mode": {
    "name": "ipython",
    "version": 3
   },
   "file_extension": ".py",
   "mimetype": "text/x-python",
   "name": "python",
   "nbconvert_exporter": "python",
   "pygments_lexer": "ipython3",
   "version": "3.10.0"
  }
 },
 "nbformat": 4,
 "nbformat_minor": 5
}
