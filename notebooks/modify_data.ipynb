{
 "cells": [
  {
   "cell_type": "code",
   "execution_count": 1,
   "id": "13b5d28d-3996-49df-b025-88874293dd87",
   "metadata": {},
   "outputs": [
    {
     "name": "stderr",
     "output_type": "stream",
     "text": [
      "/u/prasanns/miniconda3/envs/rlhfenv/lib/python3.10/site-packages/tqdm/auto.py:21: TqdmWarning: IProgress not found. Please update jupyter and ipywidgets. See https://ipywidgets.readthedocs.io/en/stable/user_install.html\n",
      "  from .autonotebook import tqdm as notebook_tqdm\n"
     ]
    }
   ],
   "source": [
    "# notebook for modifying data\n",
    "from datasets import Dataset\n",
    "from rlhfutils.dataproc import getfrac\n",
    "import matplotlib.pyplot as plt"
   ]
  },
  {
   "cell_type": "code",
   "execution_count": 11,
   "id": "844f5bf5-543d-4c91-9e34-9e7575139a9f",
   "metadata": {},
   "outputs": [],
   "source": [
    "uftmp = Dataset.load_from_disk(\"../../rlhf-length-biases/data/ultra/ultra50k/\")"
   ]
  },
  {
   "cell_type": "code",
   "execution_count": 12,
   "id": "f3cef4ca-f946-4387-a0bc-4d25b4ed25dd",
   "metadata": {},
   "outputs": [
    {
     "name": "stdout",
     "output_type": "stream",
     "text": [
      "[3272, 8468, 38319, 49004, 24994, 8661, 808, 28052, 27882, 34622, 27026, 26728, 6869, 44669, 36130, 41694, 23632, 23128, 484, 35952]\n",
      "[20302, 38349, 37356, 30647, 23965, 39615, 9615, 15938, 11698, 40025, 42755, 38359, 30139, 28377, 37260, 17612, 16813, 2088, 10470, 22894]\n"
     ]
    },
    {
     "ename": "AssertionError",
     "evalue": "",
     "output_type": "error",
     "traceback": [
      "\u001b[0;31m---------------------------------------------------------------------------\u001b[0m",
      "\u001b[0;31mAssertionError\u001b[0m                            Traceback (most recent call last)",
      "Cell \u001b[0;32mIn[12], line 3\u001b[0m\n\u001b[1;32m      1\u001b[0m cur, rest \u001b[38;5;241m=\u001b[39m getfrac(uftmp, \u001b[38;5;241m5000\u001b[39m,\u001b[38;5;28;01mTrue\u001b[39;00m, \u001b[38;5;28;01mTrue\u001b[39;00m)\n\u001b[1;32m      2\u001b[0m restheld \u001b[38;5;241m=\u001b[39m getfrac(rest, \u001b[38;5;241m500\u001b[39m, \u001b[38;5;28;01mTrue\u001b[39;00m, \u001b[38;5;28;01mFalse\u001b[39;00m)\n\u001b[0;32m----> 3\u001b[0m \u001b[38;5;28;01massert\u001b[39;00m \u001b[38;5;28mlen\u001b[39m(cur)\u001b[38;5;241m==\u001b[39m\u001b[38;5;28mlen\u001b[39m(restheld)\n",
      "\u001b[0;31mAssertionError\u001b[0m: "
     ]
    }
   ],
   "source": [
    "cur, rest = getfrac(uftmp, 5000,True, True)\n",
    "restheld = getfrac(rest, 500, True, False)\n",
    "# assert len(cur)==len(restheld)"
   ]
  },
  {
   "cell_type": "code",
   "execution_count": 9,
   "id": "e77ed554-d3dd-459a-90af-63eed60405cb",
   "metadata": {},
   "outputs": [
    {
     "name": "stderr",
     "output_type": "stream",
     "text": [
      "                                                                                                                                                                                                           \r"
     ]
    }
   ],
   "source": [
    "# cur.save_to_disk(\"../outputs/data/ultra/ultra5k\")\n",
    "# restheld.save_to_disk(\"../outputs/data/ultra/ultraheld5k\")"
   ]
  },
  {
   "cell_type": "code",
   "execution_count": 13,
   "id": "4d224468-7608-4217-9053-2481792a7374",
   "metadata": {},
   "outputs": [
    {
     "name": "stderr",
     "output_type": "stream",
     "text": [
      "                                                                                                                                                                                                           \r"
     ]
    }
   ],
   "source": [
    "# restheld.save_to_disk(\"../outputs/data/ultra/ultratinyheld\")"
   ]
  },
  {
   "cell_type": "code",
   "execution_count": 2,
   "id": "0775693e-b1d2-42af-9682-224df6975241",
   "metadata": {},
   "outputs": [],
   "source": [
    "rheld = Dataset.load_from_disk(\"../outputs/data/ultra/ultraheld5k/\")"
   ]
  },
  {
   "cell_type": "code",
   "execution_count": null,
   "id": "04f75b0f-b433-4b92-ace7-a660e5503089",
   "metadata": {},
   "outputs": [],
   "source": []
  }
 ],
 "metadata": {
  "kernelspec": {
   "display_name": "Python 3 (ipykernel)",
   "language": "python",
   "name": "python3"
  },
  "language_info": {
   "codemirror_mode": {
    "name": "ipython",
    "version": 3
   },
   "file_extension": ".py",
   "mimetype": "text/x-python",
   "name": "python",
   "nbconvert_exporter": "python",
   "pygments_lexer": "ipython3",
   "version": "3.10.0"
  }
 },
 "nbformat": 4,
 "nbformat_minor": 5
}
