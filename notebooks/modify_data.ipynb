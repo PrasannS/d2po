{
 "cells": [
  {
   "cell_type": "code",
   "execution_count": 17,
   "id": "13b5d28d-3996-49df-b025-88874293dd87",
   "metadata": {},
   "outputs": [],
   "source": [
    "# notebook for modifying data\n",
    "from datasets import Dataset\n",
    "from rlhfutils.dataproc import getfrac\n",
    "import matplotlib.pyplot as plt\n",
    "import pandas as pd"
   ]
  },
  {
   "cell_type": "code",
   "execution_count": 18,
   "id": "844f5bf5-543d-4c91-9e34-9e7575139a9f",
   "metadata": {},
   "outputs": [],
   "source": [
    "uftmp = Dataset.load_from_disk(\"../../rlhf-length-biases/data/ultra/ultra50k/\")"
   ]
  },
  {
   "cell_type": "code",
   "execution_count": 19,
   "id": "f3cef4ca-f946-4387-a0bc-4d25b4ed25dd",
   "metadata": {},
   "outputs": [
    {
     "name": "stdout",
     "output_type": "stream",
     "text": [
      "[31788, 7973, 7065, 1414, 5800, 48304, 13378, 35235, 42705, 44144, 18094, 21265, 19768, 1574, 26905, 45797, 8643, 16375, 3667, 41841]\n",
      "[38358, 34090, 11803, 18843, 32755, 37619, 27265, 20449, 44378, 38549, 13894, 16169, 21139, 7058, 11261, 24399, 14732, 5028, 41826, 5727]\n"
     ]
    }
   ],
   "source": [
    "cur, rest = getfrac(uftmp, 5000,True, True)\n",
    "restheld = getfrac(rest, 500, True, False)\n",
    "# assert len(cur)==len(restheld)"
   ]
  },
  {
   "cell_type": "code",
   "execution_count": 20,
   "id": "1bfefcdb-6018-4cda-87fd-c177706a4101",
   "metadata": {},
   "outputs": [],
   "source": [
    "cur = getfrac(cur, 500, False, False)"
   ]
  },
  {
   "cell_type": "code",
   "execution_count": 21,
   "id": "e77ed554-d3dd-459a-90af-63eed60405cb",
   "metadata": {},
   "outputs": [
    {
     "name": "stderr",
     "output_type": "stream",
     "text": [
      "                                                                                                                                                                                        \r"
     ]
    }
   ],
   "source": [
    "cur.save_to_disk(\"../outputs/data/ultra/ultra500\")\n",
    "# restheld.save_to_disk(\"../outputs/data/ultra/ultraheld5k\")"
   ]
  },
  {
   "cell_type": "code",
   "execution_count": 13,
   "id": "4d224468-7608-4217-9053-2481792a7374",
   "metadata": {},
   "outputs": [
    {
     "name": "stderr",
     "output_type": "stream",
     "text": [
      "                                                                                                                                                                                                           \r"
     ]
    }
   ],
   "source": [
    "# restheld.save_to_disk(\"../outputs/data/ultra/ultratinyheld\")"
   ]
  },
  {
   "cell_type": "code",
   "execution_count": 2,
   "id": "0775693e-b1d2-42af-9682-224df6975241",
   "metadata": {},
   "outputs": [],
   "source": [
    "rheld = Dataset.load_from_disk(\"../outputs/data/ultra/ultraheld5k/\")"
   ]
  },
  {
   "cell_type": "code",
   "execution_count": 3,
   "id": "04f75b0f-b433-4b92-ace7-a660e5503089",
   "metadata": {},
   "outputs": [],
   "source": [
    "tmp = pd.read_json(\"../outputs/results/rollouts/ultra/ppo_ultragolddpoplus.jsonl\", lines=True, orient='records')"
   ]
  },
  {
   "cell_type": "code",
   "execution_count": 4,
   "id": "93acc508-c2db-4188-9fd2-e8c8851cfdd6",
   "metadata": {},
   "outputs": [
    {
     "data": {
      "text/html": [
       "<div>\n",
       "<style scoped>\n",
       "    .dataframe tbody tr th:only-of-type {\n",
       "        vertical-align: middle;\n",
       "    }\n",
       "\n",
       "    .dataframe tbody tr th {\n",
       "        vertical-align: top;\n",
       "    }\n",
       "\n",
       "    .dataframe thead th {\n",
       "        text-align: right;\n",
       "    }\n",
       "</style>\n",
       "<table border=\"1\" class=\"dataframe\">\n",
       "  <thead>\n",
       "    <tr style=\"text-align: right;\">\n",
       "      <th></th>\n",
       "      <th>inputs</th>\n",
       "      <th>outputs</th>\n",
       "      <th>rewards</th>\n",
       "      <th>keepinds</th>\n",
       "      <th>step</th>\n",
       "    </tr>\n",
       "  </thead>\n",
       "  <tbody>\n",
       "    <tr>\n",
       "      <th>0</th>\n",
       "      <td>[Did Cyrus ever face any significant military ...</td>\n",
       "      <td>[\\nCyrus the Great, the Achaemenid king of Per...</td>\n",
       "      <td>[0.0, 4.0, 3.0, 2.0]</td>\n",
       "      <td>[1, 2, 0, 3]</td>\n",
       "      <td>0</td>\n",
       "    </tr>\n",
       "    <tr>\n",
       "      <th>1</th>\n",
       "      <td>[Compose a four-voice fugue in Baroque style, ...</td>\n",
       "      <td>[\\n\\n\\nI. Intro (Measure 1-4)\\nC      D      E...</td>\n",
       "      <td>[0.0, 0.0, 2.0, 2.0]</td>\n",
       "      <td>[0, 2, 0, 2]</td>\n",
       "      <td>0</td>\n",
       "    </tr>\n",
       "    <tr>\n",
       "      <th>2</th>\n",
       "      <td>[Did Cyrus ever face any significant military ...</td>\n",
       "      <td>[\\nCyrus the Great, the founder of the Achaeme...</td>\n",
       "      <td>[1.0, 3.0, 6.0, 3.0]</td>\n",
       "      <td>[1, 2, 0, 3]</td>\n",
       "      <td>0</td>\n",
       "    </tr>\n",
       "    <tr>\n",
       "      <th>3</th>\n",
       "      <td>[Compose a four-voice fugue in Baroque style, ...</td>\n",
       "      <td>[\\n\\n\\n%% Fugue in D Minor, \"Nature of Time\"  ...</td>\n",
       "      <td>[0.0, 2.0, 2.0, 2.0]</td>\n",
       "      <td>[1, 2, 0, 2]</td>\n",
       "      <td>0</td>\n",
       "    </tr>\n",
       "  </tbody>\n",
       "</table>\n",
       "</div>"
      ],
      "text/plain": [
       "                                              inputs  \\\n",
       "0  [Did Cyrus ever face any significant military ...   \n",
       "1  [Compose a four-voice fugue in Baroque style, ...   \n",
       "2  [Did Cyrus ever face any significant military ...   \n",
       "3  [Compose a four-voice fugue in Baroque style, ...   \n",
       "\n",
       "                                             outputs               rewards  \\\n",
       "0  [\\nCyrus the Great, the Achaemenid king of Per...  [0.0, 4.0, 3.0, 2.0]   \n",
       "1  [\\n\\n\\nI. Intro (Measure 1-4)\\nC      D      E...  [0.0, 0.0, 2.0, 2.0]   \n",
       "2  [\\nCyrus the Great, the founder of the Achaeme...  [1.0, 3.0, 6.0, 3.0]   \n",
       "3  [\\n\\n\\n%% Fugue in D Minor, \"Nature of Time\"  ...  [0.0, 2.0, 2.0, 2.0]   \n",
       "\n",
       "       keepinds  step  \n",
       "0  [1, 2, 0, 3]     0  \n",
       "1  [0, 2, 0, 2]     0  \n",
       "2  [1, 2, 0, 3]     0  \n",
       "3  [1, 2, 0, 2]     0  "
      ]
     },
     "execution_count": 4,
     "metadata": {},
     "output_type": "execute_result"
    }
   ],
   "source": [
    "tmp"
   ]
  },
  {
   "cell_type": "code",
   "execution_count": 6,
   "id": "8d892928-cf74-4db9-9b22-bf871666c181",
   "metadata": {},
   "outputs": [
    {
     "data": {
      "text/plain": [
       "['Did Cyrus ever face any significant military defeats during his reign? How did he respond?',\n",
       " 'Did Cyrus ever face any significant military defeats during his reign? How did he respond?',\n",
       " \"Serves 4 people. Cooking time in total 2 hours.\\nBring a pan of salted water to the boil and blanch the sprouts for about 10 mins then drain.\\nSlice the carrots into small strips.\\nIn a pan, sweat the onions with a spoon of the goose fat when they become transparent sprinkle over a spoon of sugar. When they are golden, remove and leave to one side.\\nDo the same as above for the carrots.\\nAdd the remainder of the fat to the pan sauté the sprouts for a few minutes. Add the onions and carrots, a bay leaf and some thyme.\\nLeave the pan uncovered until the fat has evaporated.\\nStir carefully so you don't break up the sprouts.\\nCould you suggest a substitution for goose fat in this recipe?\",\n",
       " \"Serves 4 people. Cooking time in total 2 hours.\\nBring a pan of salted water to the boil and blanch the sprouts for about 10 mins then drain.\\nSlice the carrots into small strips.\\nIn a pan, sweat the onions with a spoon of the goose fat when they become transparent sprinkle over a spoon of sugar. When they are golden, remove and leave to one side.\\nDo the same as above for the carrots.\\nAdd the remainder of the fat to the pan sauté the sprouts for a few minutes. Add the onions and carrots, a bay leaf and some thyme.\\nLeave the pan uncovered until the fat has evaporated.\\nStir carefully so you don't break up the sprouts.\\nCould you suggest a substitution for goose fat in this recipe?\"]"
      ]
     },
     "execution_count": 6,
     "metadata": {},
     "output_type": "execute_result"
    }
   ],
   "source": [
    "tmp['inputs'][0]"
   ]
  },
  {
   "cell_type": "code",
   "execution_count": null,
   "id": "092b099b-c1b7-4b1b-b0af-7b6948808960",
   "metadata": {},
   "outputs": [],
   "source": []
  }
 ],
 "metadata": {
  "kernelspec": {
   "display_name": "Python 3 (ipykernel)",
   "language": "python",
   "name": "python3"
  },
  "language_info": {
   "codemirror_mode": {
    "name": "ipython",
    "version": 3
   },
   "file_extension": ".py",
   "mimetype": "text/x-python",
   "name": "python",
   "nbconvert_exporter": "python",
   "pygments_lexer": "ipython3",
   "version": "3.10.0"
  }
 },
 "nbformat": 4,
 "nbformat_minor": 5
}
