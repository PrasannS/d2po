{
 "cells": [
  {
   "cell_type": "code",
   "execution_count": 1,
   "id": "2ba4faf8-1ea2-486e-b771-dc70bf4d129b",
   "metadata": {},
   "outputs": [
    {
     "name": "stderr",
     "output_type": "stream",
     "text": [
      "/u/prasanns/miniconda3/envs/fixenv/lib/python3.10/site-packages/tqdm/auto.py:21: TqdmWarning: IProgress not found. Please update jupyter and ipywidgets. See https://ipywidgets.readthedocs.io/en/stable/user_install.html\n",
      "  from .autonotebook import tqdm as notebook_tqdm\n"
     ]
    }
   ],
   "source": [
    "import pandas as pd\n",
    "from datasets import Dataset\n",
    "import sys\n",
    "from tqdm import tqdm\n",
    "sys.path.append('../src/')\n",
    "from utils.data.prompt_utils import convert_prompstlye, tuluform, splitter\n",
    "from utils.data.dataproc import indcomp\n",
    "from utils.eval.rewards import unique_nns"
   ]
  },
  {
   "cell_type": "code",
   "execution_count": 13,
   "id": "bdc73cc3-fb93-40c7-bf04-b4cff7e7808d",
   "metadata": {},
   "outputs": [],
   "source": [
    "rjson = pd.read_json(\"../outputs/results/dynarmlogs/math/mathbigdata1b_1bjustoffpolicyrmupper.jsonl\", orient='records', lines=True)"
   ]
  },
  {
   "cell_type": "code",
   "execution_count": 2,
   "id": "3e246fb0-29e5-4de9-b515-046cff486ae7",
   "metadata": {},
   "outputs": [],
   "source": [
    "mtmp = Dataset.load_from_disk(\"../../rlhf-length-biases//data/nouns/dponounsynth//\")"
   ]
  },
  {
   "cell_type": "code",
   "execution_count": 8,
   "id": "4ac76985-5eea-4ed6-83c5-d26652a97ad2",
   "metadata": {},
   "outputs": [
    {
     "name": "stderr",
     "output_type": "stream",
     "text": [
      "Filter: 100%|█████████████████████████████████████████████████████████████████████████████████████████████████████████████████████████████████████████████████████████| 50000/50000 [00:00<00:00, 230026.80 examples/s]\n"
     ]
    }
   ],
   "source": [
    "mtmp = mtmp.filter(lambda ex: ex['magnitude']!=0)"
   ]
  },
  {
   "cell_type": "code",
   "execution_count": 10,
   "id": "a74e58fa-b9ed-4129-b653-d7168f6d601c",
   "metadata": {},
   "outputs": [],
   "source": [
    "mtmp = mtmp.shuffle(seed=0)"
   ]
  },
  {
   "cell_type": "code",
   "execution_count": 12,
   "id": "b60c8418-b09a-4df0-b40a-766a287f9d4a",
   "metadata": {},
   "outputs": [
    {
     "name": "stderr",
     "output_type": "stream",
     "text": [
      "Saving the dataset (1/1 shards): 100%|████████████████████████████████████████████████████████████████████████████████████████████████████████████████████████████████| 43705/43705 [00:00<00:00, 214701.65 examples/s]\n",
      "Saving the dataset (1/1 shards): 100%|█████████████████████████████████████████████████████████████████████████████████████████████████████████████████████████████████████| 300/300 [00:00<00:00, 40212.56 examples/s]\n"
     ]
    }
   ],
   "source": [
    "heldm = mtmp.select(range(300))\n",
    "newm = mtmp.select(range(300, len(mtmp)))\n",
    "# newm.save_to_disk(\"../outputs/data/math/offp40knotie/\")\n",
    "# heldm.save_to_disk(\"../outputs/data/math/held/\")"
   ]
  },
  {
   "cell_type": "code",
   "execution_count": 18,
   "id": "fa905289-f3a2-48ba-89f5-4b2ad932588e",
   "metadata": {},
   "outputs": [
    {
     "name": "stderr",
     "output_type": "stream",
     "text": [
      "Saving the dataset (1/1 shards): 100%|██████████████████████████████████████████████████████████████████████████████████████████████████████████████████████████████████| 1600/1600 [00:00<00:00, 125282.57 examples/s]\n"
     ]
    }
   ],
   "source": [
    "# mathinit = newm.select(range(1600)).save_to_disk(\"../outputs/data/math/mathwarm/\")"
   ]
  },
  {
   "cell_type": "code",
   "execution_count": 5,
   "id": "7dded4b4-7cd4-4310-a50a-4632ca9f1800",
   "metadata": {},
   "outputs": [],
   "source": [
    "nountmp = Dataset.load_from_disk(\"../../rlhf-length-biases/data/nouns/dponounsynth/\")"
   ]
  },
  {
   "cell_type": "code",
   "execution_count": 6,
   "id": "0a728ab1-07dd-4d7f-ad36-17dd93607485",
   "metadata": {},
   "outputs": [],
   "source": [
    "def fixlab(ex):\n",
    "    newscos = unique_nns([ex['response_j'],ex['response_k']])\n",
    "    if newscos[0]<newscos[1]:\n",
    "        tmpr = ex['response_k']\n",
    "        ex['response_k'] = ex['response_j']\n",
    "        ex['response_j'] = tmpr\n",
    "        ex['score_j'] = newscos[1]\n",
    "        ex['score_k'] = newscos[0]\n",
    "    else:\n",
    "        ex['score_j'] = newscos[0]\n",
    "        ex['score_k'] = newscos[1]\n",
    "    ex['magnitude'] = abs(newscos[1]-newscos[0])\n",
    "    return ex"
   ]
  },
  {
   "cell_type": "code",
   "execution_count": 7,
   "id": "5ba92d9f-f51d-474a-9220-b366f9c3c56f",
   "metadata": {},
   "outputs": [],
   "source": [
    "unnoun = nountmp.map(fixlab, num_proc=5)"
   ]
  },
  {
   "cell_type": "code",
   "execution_count": 8,
   "id": "1dbab832-e1b0-4cbb-a5c2-8663ecaf9e82",
   "metadata": {},
   "outputs": [
    {
     "name": "stderr",
     "output_type": "stream",
     "text": [
      "Saving the dataset (1/1 shards): 100%|████████████████████████████████████████████████████████████████████████████████████████████████████████████████████████████████| 49700/49700 [00:01<00:00, 29914.05 examples/s]\n"
     ]
    }
   ],
   "source": [
    "# unnoun.select(range(300, len(unnoun))).save_to_disk(\"../outputs/data/unique_nns/fullnpref\")"
   ]
  },
  {
   "cell_type": "code",
   "execution_count": 11,
   "id": "3a670e42-3f3a-41eb-a488-bc7955a8fc6e",
   "metadata": {},
   "outputs": [
    {
     "name": "stderr",
     "output_type": "stream",
     "text": [
      "100%|█████████████████████████████████████████████████████████████████████████████████████████████████████████████████████████████████████████████████████████████████████████████| 3300/3300 [00:25<00:00, 128.20it/s]"
     ]
    },
    {
     "name": "stdout",
     "output_type": "stream",
     "text": [
      "0.8903030303030303\n"
     ]
    },
    {
     "name": "stderr",
     "output_type": "stream",
     "text": [
      "\n"
     ]
    }
   ],
   "source": [
    "match = 0\n",
    "for i in tqdm(range(len(nountmp))):\n",
    "    unscos = unique_nns([nountmp['response_j'][i],nountmp['response_k'][i]])\n",
    "    if (nountmp['score_j'][i]>nountmp['score_k'][i])==(unscos[0]>unscos[1]):\n",
    "        match +=1\n",
    "print(match/len(nountmp))"
   ]
  },
  {
   "cell_type": "code",
   "execution_count": 29,
   "id": "7fa95e22-f1fa-4184-9dd5-b44bba7f9ebc",
   "metadata": {},
   "outputs": [
    {
     "name": "stderr",
     "output_type": "stream",
     "text": [
      "Filter: 100%|████████████████████████████████████████████████████████████████████████████████████████████████████████████████████████████████████████████████████████████| 3300/3300 [00:00<00:00, 13494.54 examples/s]\n"
     ]
    }
   ],
   "source": [
    "unnoun = unnoun.filter(lambda ex:ex['magnitude']>0)"
   ]
  },
  {
   "cell_type": "code",
   "execution_count": 30,
   "id": "6235b5e2-c612-434f-a599-37bd9afa0bf0",
   "metadata": {},
   "outputs": [
    {
     "data": {
      "text/plain": [
       "3035"
      ]
     },
     "execution_count": 30,
     "metadata": {},
     "output_type": "execute_result"
    }
   ],
   "source": [
    "len(unnoun)"
   ]
  },
  {
   "cell_type": "code",
   "execution_count": 31,
   "id": "7557cd8c-ee72-4457-8db2-14e5f4f5f9fe",
   "metadata": {},
   "outputs": [
    {
     "name": "stderr",
     "output_type": "stream",
     "text": [
      "Saving the dataset (1/1 shards): 100%|███████████████████████████████████████████████████████████████████████████████████████████████████████████████████████████████████| 3035/3035 [00:00<00:00, 59043.47 examples/s]\n"
     ]
    }
   ],
   "source": [
    "unnoun.save_to_disk(\"../outputs/data/unique_nns/warmdata\")"
   ]
  },
  {
   "cell_type": "code",
   "execution_count": 8,
   "id": "13d5b47c-8525-4de9-940b-e03e76ec951e",
   "metadata": {},
   "outputs": [
    {
     "data": {
      "text/plain": [
       "[13.0, 5.0]"
      ]
     },
     "execution_count": 8,
     "metadata": {},
     "output_type": "execute_result"
    }
   ],
   "source": [
    "unique_nns([nountmp[0]['response_j'],nountmp[0]['response_k'] ])"
   ]
  },
  {
   "cell_type": "code",
   "execution_count": 7,
   "id": "2d058cfb-0c24-439a-a8cd-7faf2584ff0f",
   "metadata": {},
   "outputs": [],
   "source": [
    "def acat(inp):\n",
    "    a, b = splitter(inp)\n",
    "    return a+\" \"+b"
   ]
  },
  {
   "cell_type": "code",
   "execution_count": 15,
   "id": "aaf8dfac-de66-4c6a-899e-b34f03a77239",
   "metadata": {},
   "outputs": [],
   "source": [
    "rjson['texts'] = [[acat(s) for s in r] for r in rjson['texts']]"
   ]
  },
  {
   "cell_type": "code",
   "execution_count": 16,
   "id": "7cd762b7-1031-4441-a350-0f544ba75637",
   "metadata": {},
   "outputs": [
    {
     "data": {
      "text/html": [
       "<div>\n",
       "<style scoped>\n",
       "    .dataframe tbody tr th:only-of-type {\n",
       "        vertical-align: middle;\n",
       "    }\n",
       "\n",
       "    .dataframe tbody tr th {\n",
       "        vertical-align: top;\n",
       "    }\n",
       "\n",
       "    .dataframe thead th {\n",
       "        text-align: right;\n",
       "    }\n",
       "</style>\n",
       "<table border=\"1\" class=\"dataframe\">\n",
       "  <thead>\n",
       "    <tr style=\"text-align: right;\">\n",
       "      <th></th>\n",
       "      <th>texts</th>\n",
       "      <th>rewards</th>\n",
       "      <th>golds</th>\n",
       "      <th>call</th>\n",
       "    </tr>\n",
       "  </thead>\n",
       "  <tbody>\n",
       "    <tr>\n",
       "      <th>0</th>\n",
       "      <td>[(((3 * 7) + 1) + 8) = (21 + 8) = 29 = 34 = 34...</td>\n",
       "      <td>[1.109375, 1.4609375]</td>\n",
       "      <td>[-14.0, -18.0]</td>\n",
       "      <td>[1, 1]</td>\n",
       "    </tr>\n",
       "    <tr>\n",
       "      <th>1</th>\n",
       "      <td>[(((3 - 7) * (9 + 2)) + 2) = ((-4 * (9 + 2)) +...</td>\n",
       "      <td>[1.6328125, 1.6328125]</td>\n",
       "      <td>[0.0, 0.0]</td>\n",
       "      <td>[1, 1]</td>\n",
       "    </tr>\n",
       "    <tr>\n",
       "      <th>2</th>\n",
       "      <td>[(((8 + 3) + 3) - 5) = (11 + 3) = 14 = 17 = 17...</td>\n",
       "      <td>[1.3515625, 1.3125]</td>\n",
       "      <td>[-14.0, -14.0]</td>\n",
       "      <td>[1, 1]</td>\n",
       "    </tr>\n",
       "    <tr>\n",
       "      <th>3</th>\n",
       "      <td>[(((4 + 8) * 8) * 2) = ((12 * 8) * 2) = (96 * ...</td>\n",
       "      <td>[1.328125, 1.1015625]</td>\n",
       "      <td>[0.0, -6.0]</td>\n",
       "      <td>[1, 1]</td>\n",
       "    </tr>\n",
       "    <tr>\n",
       "      <th>4</th>\n",
       "      <td>[(((4 - 1) * (6 + 2)) - ((5 - 3) * (5 + 9))) =...</td>\n",
       "      <td>[1.0859375, 1.0234375]</td>\n",
       "      <td>[-21.0, -54.0]</td>\n",
       "      <td>[1, 1]</td>\n",
       "    </tr>\n",
       "    <tr>\n",
       "      <th>...</th>\n",
       "      <td>...</td>\n",
       "      <td>...</td>\n",
       "      <td>...</td>\n",
       "      <td>...</td>\n",
       "    </tr>\n",
       "    <tr>\n",
       "      <th>63995</th>\n",
       "      <td>[(((5 + 9) - 2) * 2) = (14 - 2) = 12 = 10 + 2\\...</td>\n",
       "      <td>[1.453125, 0.2314453125]</td>\n",
       "      <td>[-22.0, -30.0]</td>\n",
       "      <td>[4000, 4000]</td>\n",
       "    </tr>\n",
       "    <tr>\n",
       "      <th>63996</th>\n",
       "      <td>[(((7 - 4) - (4 * 9)) * (8 + 8)) = (3 - (4 * 9...</td>\n",
       "      <td>[-1.0390625, 4.5625]</td>\n",
       "      <td>[-50.0, -47.0]</td>\n",
       "      <td>[4000, 4000]</td>\n",
       "    </tr>\n",
       "    <tr>\n",
       "      <th>63997</th>\n",
       "      <td>[(((9 * 3) * 1) - 2) = (27 * 1) = 27.\\n27\\n(27...</td>\n",
       "      <td>[-0.220703125, 1.03125]</td>\n",
       "      <td>[-34.0, -23.0]</td>\n",
       "      <td>[4000, 4000]</td>\n",
       "    </tr>\n",
       "    <tr>\n",
       "      <th>63998</th>\n",
       "      <td>[(((4 + 7) + 6) * 6) = (11 + 6) = 17.\\n13\\nWha...</td>\n",
       "      <td>[-3.5, 12.5625]</td>\n",
       "      <td>[-43.0, -3.0]</td>\n",
       "      <td>[4000, 4000]</td>\n",
       "    </tr>\n",
       "    <tr>\n",
       "      <th>63999</th>\n",
       "      <td>[(((8 * 7) * 1) - 7) = (56 * 1) = 56 = 56.\\n0\\...</td>\n",
       "      <td>[2.734375, 4.21875]</td>\n",
       "      <td>[-23.0, -22.0]</td>\n",
       "      <td>[4000, 4000]</td>\n",
       "    </tr>\n",
       "  </tbody>\n",
       "</table>\n",
       "<p>64000 rows × 4 columns</p>\n",
       "</div>"
      ],
      "text/plain": [
       "                                                   texts  \\\n",
       "0      [(((3 * 7) + 1) + 8) = (21 + 8) = 29 = 34 = 34...   \n",
       "1      [(((3 - 7) * (9 + 2)) + 2) = ((-4 * (9 + 2)) +...   \n",
       "2      [(((8 + 3) + 3) - 5) = (11 + 3) = 14 = 17 = 17...   \n",
       "3      [(((4 + 8) * 8) * 2) = ((12 * 8) * 2) = (96 * ...   \n",
       "4      [(((4 - 1) * (6 + 2)) - ((5 - 3) * (5 + 9))) =...   \n",
       "...                                                  ...   \n",
       "63995  [(((5 + 9) - 2) * 2) = (14 - 2) = 12 = 10 + 2\\...   \n",
       "63996  [(((7 - 4) - (4 * 9)) * (8 + 8)) = (3 - (4 * 9...   \n",
       "63997  [(((9 * 3) * 1) - 2) = (27 * 1) = 27.\\n27\\n(27...   \n",
       "63998  [(((4 + 7) + 6) * 6) = (11 + 6) = 17.\\n13\\nWha...   \n",
       "63999  [(((8 * 7) * 1) - 7) = (56 * 1) = 56 = 56.\\n0\\...   \n",
       "\n",
       "                        rewards           golds          call  \n",
       "0         [1.109375, 1.4609375]  [-14.0, -18.0]        [1, 1]  \n",
       "1        [1.6328125, 1.6328125]      [0.0, 0.0]        [1, 1]  \n",
       "2           [1.3515625, 1.3125]  [-14.0, -14.0]        [1, 1]  \n",
       "3         [1.328125, 1.1015625]     [0.0, -6.0]        [1, 1]  \n",
       "4        [1.0859375, 1.0234375]  [-21.0, -54.0]        [1, 1]  \n",
       "...                         ...             ...           ...  \n",
       "63995  [1.453125, 0.2314453125]  [-22.0, -30.0]  [4000, 4000]  \n",
       "63996      [-1.0390625, 4.5625]  [-50.0, -47.0]  [4000, 4000]  \n",
       "63997   [-0.220703125, 1.03125]  [-34.0, -23.0]  [4000, 4000]  \n",
       "63998           [-3.5, 12.5625]   [-43.0, -3.0]  [4000, 4000]  \n",
       "63999       [2.734375, 4.21875]  [-23.0, -22.0]  [4000, 4000]  \n",
       "\n",
       "[64000 rows x 4 columns]"
      ]
     },
     "execution_count": 16,
     "metadata": {},
     "output_type": "execute_result"
    }
   ],
   "source": [
    "rjson"
   ]
  },
  {
   "cell_type": "code",
   "execution_count": 17,
   "id": "69ec251f-80a9-428b-9fdd-3a2fe434c24d",
   "metadata": {},
   "outputs": [],
   "source": [
    "def mroll_split(inp):\n",
    "    ind = inp.index(\"=\")+2\n",
    "    return inp[:ind], inp[ind:]"
   ]
  },
  {
   "cell_type": "code",
   "execution_count": 18,
   "id": "b2e2a7bd-7fdf-41ee-8487-feed665fdb36",
   "metadata": {},
   "outputs": [],
   "source": [
    "def rollout_to_prefs(indf, ismath=True):\n",
    "    prefdata = []\n",
    "    sfunct = mroll_split if ismath else splitter\n",
    "    for ind, row in indf.iterrows():\n",
    "        for i in range(0, len(row['texts']), 2):\n",
    "            \n",
    "            q1, a1 = sfunct(row['texts'][i])\n",
    "            q2, a2 = sfunct(row['texts'][i+1])\n",
    "            assert q1==q2\n",
    "            astrs = [a1, a2]\n",
    "            indj, indk = indcomp(row['golds'][i:i+2], 0)\n",
    "            tmp = {\n",
    "                'question': q1,\n",
    "                'response_j': astrs[indj],\n",
    "                'response_k': astrs[indk],\n",
    "                'score_j': row['golds'][i+indj], \n",
    "                'score_k': row['golds'][i+indk],\n",
    "                'magnitude': row['golds'][indj] - row['golds'][indk]\n",
    "            }\n",
    "            prefdata.append(tmp)\n",
    "            \n",
    "    return Dataset.from_list(prefdata)\n",
    "\n",
    "pdata = rollout_to_prefs(rjson)"
   ]
  },
  {
   "cell_type": "code",
   "execution_count": 21,
   "id": "5131ca8a-5a25-4af8-ba38-496c1717d2b8",
   "metadata": {},
   "outputs": [],
   "source": [
    "pdata = pdata.shuffle(seed=0)"
   ]
  },
  {
   "cell_type": "code",
   "execution_count": 22,
   "id": "6dc8c00d-6b4c-45b3-85a7-fa5893b03f41",
   "metadata": {},
   "outputs": [],
   "source": [
    "smallpdata = pdata.select(range(50000))"
   ]
  },
  {
   "cell_type": "code",
   "execution_count": 23,
   "id": "17275236-595f-45a7-a296-4e3a71a8a5a5",
   "metadata": {},
   "outputs": [
    {
     "name": "stderr",
     "output_type": "stream",
     "text": [
      "Saving the dataset (1/1 shards): 100%|███████████████████████████████████████████████████████████████████████████████████████████████████████████████| 50000/50000 [00:00<00:00, 217838.17 examples/s]\n"
     ]
    }
   ],
   "source": [
    "# smallpdata.save_to_disk(\"../outputs/data/eurusrm/offpolicydata1k\")\n",
    "# smallpdata.save_to_disk(\"../outputs/data/math/offp50k\")"
   ]
  },
  {
   "cell_type": "code",
   "execution_count": 25,
   "id": "23e4307b-e0bd-4443-bf97-2ba9ad0d6c75",
   "metadata": {},
   "outputs": [],
   "source": [
    "# mprefs = Dataset.load_from_disk(\"../outputs/data/math/mathprefdata/\")"
   ]
  },
  {
   "cell_type": "code",
   "execution_count": 26,
   "id": "95c04468-20a9-4064-9124-c5fd5d709959",
   "metadata": {},
   "outputs": [
    {
     "data": {
      "text/plain": [
       "{'question': '(((3 * 4) - 2) - 1) = ',\n",
       " 'response_j': '((12 - 2) - 1) = (13 - 1) = 8 = 9 = 8 = 9 = 9\\n\\n(13 - 1) = 8 = 7 = 7 = 7\\n\\n12 = 7 = 7\\n\\n12 = 7 = 7\\n\\n12 = 7\\n\\nM = 7\\n\\nM = 7\\n\\nM = 7\\n\\nM = 7\\n\\nM = 7\\n\\nM = 7\\n\\nM = 7\\n\\nM = 7',\n",
       " 'response_k': '((12 - 2) - 1) = (9 - 1) = 8 = 7 = 7 = 7 = 7 = 7 = 7 = 7 = 7 = 7 = -7 = -7 = -7 = -7 = -7 = -7 = -63 = -63 = -63 = -63 = -63 = -63 = 539 = 493 = -549 = -5191 = -5491 = -5491 = -4971 = -4971 =',\n",
       " 'score_j': 3.4722222222222223,\n",
       " 'score_k': 3.194444444444444,\n",
       " 'magnitude': 0.2777777777777781}"
      ]
     },
     "execution_count": 26,
     "metadata": {},
     "output_type": "execute_result"
    }
   ],
   "source": [
    "# mprefs[0]"
   ]
  },
  {
   "cell_type": "code",
   "execution_count": null,
   "id": "46de40f1-7685-452d-a565-4c5a2f01eafa",
   "metadata": {},
   "outputs": [],
   "source": []
  }
 ],
 "metadata": {
  "kernelspec": {
   "display_name": "Python 3 (ipykernel)",
   "language": "python",
   "name": "python3"
  },
  "language_info": {
   "codemirror_mode": {
    "name": "ipython",
    "version": 3
   },
   "file_extension": ".py",
   "mimetype": "text/x-python",
   "name": "python",
   "nbconvert_exporter": "python",
   "pygments_lexer": "ipython3",
   "version": "3.10.14"
  }
 },
 "nbformat": 4,
 "nbformat_minor": 5
}
