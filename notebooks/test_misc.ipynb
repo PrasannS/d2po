{
 "cells": [
  {
   "cell_type": "code",
   "execution_count": 7,
   "id": "c92d35ec-e674-4851-9162-e0acd41cb436",
   "metadata": {},
   "outputs": [],
   "source": [
    "import os\n",
    "import numpy as np\n",
    "import random"
   ]
  },
  {
   "cell_type": "code",
   "execution_count": 11,
   "id": "d8e1f6f0-6684-49e2-92d8-4c65ef0b98a9",
   "metadata": {},
   "outputs": [
    {
     "data": {
      "text/plain": [
       "['a', 'b', 'c', '']"
      ]
     },
     "execution_count": 11,
     "metadata": {},
     "output_type": "execute_result"
    }
   ],
   "source": [
    "\"a/b/c/\".split(\"/\")"
   ]
  },
  {
   "cell_type": "code",
   "execution_count": 2,
   "id": "0090e91d-220f-4108-96bf-7a5b046513d1",
   "metadata": {},
   "outputs": [],
   "source": [
    "def create_missing_folders_for_file(path):\n",
    "    # Extract directory path from the file path\n",
    "    directory = os.path.dirname(path)\n",
    "    \n",
    "    # Check if the directory already exists\n",
    "    if not os.path.exists(directory):\n",
    "        # If it does not exist, create it including any necessary parent directories\n",
    "        os.makedirs(directory)\n",
    "        print( f\"All missing folders created for: {path}\")\n",
    "    else:\n",
    "        print( \"No missing folders to create.\")\n",
    "\n",
    "# create_missing_folders_for_file(\"hello/there/my/friend.jsonl\")"
   ]
  },
  {
   "cell_type": "code",
   "execution_count": 2,
   "id": "f829e5b4-c914-4a5b-8822-9e906fbd6452",
   "metadata": {},
   "outputs": [],
   "source": [
    "import pandas"
   ]
  },
  {
   "cell_type": "code",
   "execution_count": 8,
   "id": "03d1e0d1-c5e3-437f-b5ec-fee167972cba",
   "metadata": {},
   "outputs": [],
   "source": [
    "l = [0,1,2,3]\n",
    "d = [0.4, 0.9, 0.1, 0.1]\n",
    "# [l[i] for i in np.argsort(d)]"
   ]
  },
  {
   "cell_type": "code",
   "execution_count": 9,
   "id": "4aaa8e0c-5c30-450e-bc5d-cd5b11441228",
   "metadata": {},
   "outputs": [],
   "source": [
    "random.shuffle(d)"
   ]
  },
  {
   "cell_type": "code",
   "execution_count": 10,
   "id": "af51a3a5-39fc-4c9f-b71d-2fc4c23fd1d2",
   "metadata": {},
   "outputs": [
    {
     "data": {
      "text/plain": [
       "[0.9, 0.1, 0.1, 0.4]"
      ]
     },
     "execution_count": 10,
     "metadata": {},
     "output_type": "execute_result"
    }
   ],
   "source": [
    "d"
   ]
  },
  {
   "cell_type": "code",
   "execution_count": 1,
   "id": "4d293475-85b6-4f93-9192-1c2738a50281",
   "metadata": {},
   "outputs": [],
   "source": [
    "import torch"
   ]
  },
  {
   "cell_type": "code",
   "execution_count": 2,
   "id": "44cb1478-5611-45e7-bd81-e9e94028d4d1",
   "metadata": {},
   "outputs": [
    {
     "name": "stderr",
     "output_type": "stream",
     "text": [
      "/u/prasanns/miniconda3/envs/rlhfenv/lib/python3.10/site-packages/torch/cuda/__init__.py:546: UserWarning: Can't initialize NVML\n",
      "  warnings.warn(\"Can't initialize NVML\")\n"
     ]
    }
   ],
   "source": [
    "t = torch.tensor([1,2]).to(1)"
   ]
  },
  {
   "cell_type": "code",
   "execution_count": null,
   "id": "8c8267c9-0751-420c-8fee-db7b4ebc9b23",
   "metadata": {},
   "outputs": [],
   "source": []
  }
 ],
 "metadata": {
  "kernelspec": {
   "display_name": "Python 3 (ipykernel)",
   "language": "python",
   "name": "python3"
  },
  "language_info": {
   "codemirror_mode": {
    "name": "ipython",
    "version": 3
   },
   "file_extension": ".py",
   "mimetype": "text/x-python",
   "name": "python",
   "nbconvert_exporter": "python",
   "pygments_lexer": "ipython3",
   "version": "3.10.0"
  }
 },
 "nbformat": 4,
 "nbformat_minor": 5
}
