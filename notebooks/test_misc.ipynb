{
 "cells": [
  {
   "cell_type": "code",
   "execution_count": 1,
   "id": "c92d35ec-e674-4851-9162-e0acd41cb436",
   "metadata": {},
   "outputs": [],
   "source": [
    "import os"
   ]
  },
  {
   "cell_type": "code",
   "execution_count": 11,
   "id": "d8e1f6f0-6684-49e2-92d8-4c65ef0b98a9",
   "metadata": {},
   "outputs": [
    {
     "data": {
      "text/plain": [
       "['a', 'b', 'c', '']"
      ]
     },
     "execution_count": 11,
     "metadata": {},
     "output_type": "execute_result"
    }
   ],
   "source": [
    "\"a/b/c/\".split(\"/\")"
   ]
  },
  {
   "cell_type": "code",
   "execution_count": 2,
   "id": "0090e91d-220f-4108-96bf-7a5b046513d1",
   "metadata": {},
   "outputs": [],
   "source": [
    "def create_missing_folders_for_file(path):\n",
    "    # Extract directory path from the file path\n",
    "    directory = os.path.dirname(path)\n",
    "    \n",
    "    # Check if the directory already exists\n",
    "    if not os.path.exists(directory):\n",
    "        # If it does not exist, create it including any necessary parent directories\n",
    "        os.makedirs(directory)\n",
    "        print( f\"All missing folders created for: {path}\")\n",
    "    else:\n",
    "        print( \"No missing folders to create.\")\n",
    "\n",
    "# create_missing_folders_for_file(\"hello/there/my/friend.jsonl\")"
   ]
  },
  {
   "cell_type": "code",
   "execution_count": 9,
   "id": "f829e5b4-c914-4a5b-8822-9e906fbd6452",
   "metadata": {},
   "outputs": [
    {
     "name": "stdout",
     "output_type": "stream",
     "text": [
      "No missing folders to create.\n"
     ]
    }
   ],
   "source": []
  },
  {
   "cell_type": "code",
   "execution_count": 10,
   "id": "5a6817aa-0258-44bc-b040-663ea31584d5",
   "metadata": {},
   "outputs": [
    {
     "data": {
      "text/plain": [
       "0"
      ]
     },
     "execution_count": 10,
     "metadata": {},
     "output_type": "execute_result"
    }
   ],
   "source": [
    "3%1"
   ]
  },
  {
   "cell_type": "code",
   "execution_count": null,
   "id": "03d1e0d1-c5e3-437f-b5ec-fee167972cba",
   "metadata": {},
   "outputs": [],
   "source": []
  }
 ],
 "metadata": {
  "kernelspec": {
   "display_name": "Python 3 (ipykernel)",
   "language": "python",
   "name": "python3"
  },
  "language_info": {
   "codemirror_mode": {
    "name": "ipython",
    "version": 3
   },
   "file_extension": ".py",
   "mimetype": "text/x-python",
   "name": "python",
   "nbconvert_exporter": "python",
   "pygments_lexer": "ipython3",
   "version": "3.10.0"
  }
 },
 "nbformat": 4,
 "nbformat_minor": 5
}
