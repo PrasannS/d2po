{
 "cells": [
  {
   "cell_type": "code",
   "execution_count": 1,
   "id": "b631e66d-83f6-4d05-a799-3763a23b742e",
   "metadata": {},
   "outputs": [
    {
     "name": "stderr",
     "output_type": "stream",
     "text": [
      "/u/prasanns/miniconda3/envs/fixenv/lib/python3.10/site-packages/tqdm/auto.py:21: TqdmWarning: IProgress not found. Please update jupyter and ipywidgets. See https://ipywidgets.readthedocs.io/en/stable/user_install.html\n",
      "  from .autonotebook import tqdm as notebook_tqdm\n"
     ]
    }
   ],
   "source": [
    "import pandas as pd\n",
    "from nltk.metrics.distance import edit_distance\n",
    "import random\n",
    "import re\n",
    "from datasets import Dataset, load_dataset\n",
    "from transformers import AutoTokenizer, AutoModelForCausalLM\n",
    "from peft import PeftModel\n",
    "import torch\n",
    "from rlhfutils.rewards import allmathpreds, get_synth_rewards\n",
    "from tqdm import tqdm\n",
    "import matplotlib.pyplot as plt\n",
    "from statistics import mean\n",
    "import sys\n",
    "import numpy as np\n",
    "\n",
    "sys.path.append('../src/')"
   ]
  },
  {
   "cell_type": "code",
   "execution_count": 50,
   "id": "8424aed7-b5f2-4aa1-9201-96c55b5ce53f",
   "metadata": {},
   "outputs": [],
   "source": [
    "from rlhfutils.dataproc import getfrac\n",
    "from utils.eval.rewards import calculate_math_rewards"
   ]
  },
  {
   "cell_type": "code",
   "execution_count": 3,
   "id": "ed19f2bb-2bcb-4291-8a1c-3629a72b084b",
   "metadata": {},
   "outputs": [],
   "source": [
    "# bowdata = Dataset.load_from_disk(\"../outputs/data/contrastivedistill/opt20k///\")\n",
    "# tmpsmall = getfrac(bowdata, 4000, False, False)"
   ]
  },
  {
   "cell_type": "code",
   "execution_count": 4,
   "id": "fc8b225e-a529-4bb1-8c17-c45c5eddc5e7",
   "metadata": {},
   "outputs": [],
   "source": [
    "# tmpsmall.save_to_disk(\"../outputs/data/contrastivedistill/opt4k///\")"
   ]
  },
  {
   "cell_type": "code",
   "execution_count": 5,
   "id": "e7a5ebac-2f17-477c-a1c6-f6cfa4e922d2",
   "metadata": {},
   "outputs": [],
   "source": [
    "%load_ext autoreload\n",
    "%autoreload 2"
   ]
  },
  {
   "cell_type": "code",
   "execution_count": 6,
   "id": "ab2abbfc-883b-4971-af3e-aef8e8662d10",
   "metadata": {},
   "outputs": [
    {
     "data": {
      "text/plain": [
       "[0, -1, -1, -2]"
      ]
     },
     "execution_count": 6,
     "metadata": {},
     "output_type": "execute_result"
    }
   ],
   "source": [
    "calculate_math_rewards(\"(((3 * 8) * 1) * 3) = ((24 hi 1) * 3) = (23 * 3) = 89 = 72 \")"
   ]
  },
  {
   "cell_type": "code",
   "execution_count": 7,
   "id": "16d1123f-b122-4a9e-8efc-64035cad12b3",
   "metadata": {},
   "outputs": [],
   "source": [
    "# get reward for closest option\n",
    "def allscomath(pred):\n",
    "    inp = pred.split(\"=\")[0].strip()\n",
    "    allgolds = set([\" = \".join(solve_expression(inp)) for i in range(20)])\n",
    "    options = list([sum(calculate_math_rewards(pred, g)) for g in allgolds])\n",
    "    #print(options)\n",
    "    reward = max(options)\n",
    "    return reward, allgolds"
   ]
  },
  {
   "cell_type": "code",
   "execution_count": 7,
   "id": "84500b44-e97f-4dbf-8c8f-cd454f444f01",
   "metadata": {},
   "outputs": [],
   "source": [
    "tmpmath = pd.read_json(\"../outputs/results/genouts/math/orig.jsonl\", orient='records', lines=True)"
   ]
  },
  {
   "cell_type": "code",
   "execution_count": 26,
   "id": "94fe0f3f-5510-48f5-9636-d5f3cd531206",
   "metadata": {},
   "outputs": [
    {
     "name": "stdout",
     "output_type": "stream",
     "text": [
      "weird\n",
      "weird\n",
      "weird\n",
      "weird\n",
      "weird\n",
      "weird\n",
      "weird\n",
      "weird\n",
      "weird\n",
      "weird\n",
      "weird\n",
      "weird\n",
      "weird\n",
      "weird\n",
      "weird\n",
      "weird\n",
      "weird\n",
      "weird\n",
      "weird\n",
      "weird\n",
      "weird\n",
      "weird\n",
      "weird\n",
      "weird\n",
      "weird\n",
      "weird\n",
      "weird\n",
      "weird\n",
      "weird\n",
      "weird\n",
      "weird\n",
      "weird\n",
      "weird\n",
      "weird\n",
      "weird\n",
      "weird\n",
      "weird\n",
      "weird\n",
      "weird\n",
      "weird\n"
     ]
    },
    {
     "name": "stderr",
     "output_type": "stream",
     "text": [
      "/tmp/ipykernel_3263259/1132248898.py:15: SettingWithCopyWarning: \n",
      "A value is trying to be set on a copy of a slice from a DataFrame.\n",
      "Try using .loc[row_indexer,col_indexer] = value instead\n",
      "\n",
      "See the caveats in the documentation: https://pandas.pydata.org/pandas-docs/stable/user_guide/indexing.html#returning-a-view-versus-a-copy\n",
      "  nmath['reward'] = rws\n",
      "/tmp/ipykernel_3263259/1132248898.py:16: SettingWithCopyWarning: \n",
      "A value is trying to be set on a copy of a slice from a DataFrame.\n",
      "Try using .loc[row_indexer,col_indexer] = value instead\n",
      "\n",
      "See the caveats in the documentation: https://pandas.pydata.org/pandas-docs/stable/user_guide/indexing.html#returning-a-view-versus-a-copy\n",
      "  nmath['ags'] = ags\n"
     ]
    }
   ],
   "source": [
    "# make math outputs into a pref dataset (some weirdness strangely enough)\n",
    "rws = []\n",
    "ags = []\n",
    "kinds = []\n",
    "for i, row in tmpmath.iterrows():\n",
    "    tmprs = []\n",
    "    for r in row['response']: \n",
    "        rw, g = allscomath(r) \n",
    "        tmprs.append(rw)\n",
    "    if min(tmprs)==max(tmprs):\n",
    "        continue\n",
    "    ags.append(list(g))\n",
    "    rws.append(tmprs) \n",
    "    kinds.append(i)\n",
    "nmath = tmpmath.iloc[kinds]\n",
    "nmath['reward'] = rws\n",
    "nmath['ags'] = ags"
   ]
  },
  {
   "cell_type": "code",
   "execution_count": 27,
   "id": "12f5ce1b-0b23-4fcc-a860-293ba1fe7c89",
   "metadata": {},
   "outputs": [
    {
     "data": {
      "text/html": [
       "<div>\n",
       "<style scoped>\n",
       "    .dataframe tbody tr th:only-of-type {\n",
       "        vertical-align: middle;\n",
       "    }\n",
       "\n",
       "    .dataframe tbody tr th {\n",
       "        vertical-align: top;\n",
       "    }\n",
       "\n",
       "    .dataframe thead th {\n",
       "        text-align: right;\n",
       "    }\n",
       "</style>\n",
       "<table border=\"1\" class=\"dataframe\">\n",
       "  <thead>\n",
       "    <tr style=\"text-align: right;\">\n",
       "      <th></th>\n",
       "      <th>question</th>\n",
       "      <th>response</th>\n",
       "      <th>reward</th>\n",
       "      <th>ags</th>\n",
       "    </tr>\n",
       "  </thead>\n",
       "  <tbody>\n",
       "    <tr>\n",
       "      <th>0</th>\n",
       "      <td>(((6 - 6) * (2 - 1)) + 8)</td>\n",
       "      <td>[(((6 - 6) * (2 - 1)) + 8) = ((0 * (2 - 1)) + ...</td>\n",
       "      <td>[-9, -10, -11, -10]</td>\n",
       "      <td>[(((6 - 6) * (2 - 1)) + 8) = ((0 * (2 - 1)) + ...</td>\n",
       "    </tr>\n",
       "    <tr>\n",
       "      <th>1</th>\n",
       "      <td>((1 * 2) * (8 + 5))</td>\n",
       "      <td>[((1 * 2) * (8 + 5)) = ((2 * 2) * 13) = (4 * 1...</td>\n",
       "      <td>[-9, -9, -9, -6]</td>\n",
       "      <td>[((1 * 2) * (8 + 5)) = (2 * (8 + 5)) = (2 * 13...</td>\n",
       "    </tr>\n",
       "    <tr>\n",
       "      <th>2</th>\n",
       "      <td>(((7 - 9) * 2) * (4 - (7 * 8)))</td>\n",
       "      <td>[(((7 - 9) * 2) * (4 - (7 * 8))) = ((-2 * 2) *...</td>\n",
       "      <td>[-14, -36, -25, -38]</td>\n",
       "      <td>[(((7 - 9) * 2) * (4 - (7 * 8))) = (((7 - 9) *...</td>\n",
       "    </tr>\n",
       "    <tr>\n",
       "      <th>4</th>\n",
       "      <td>((9 - 3) * (5 - 3))</td>\n",
       "      <td>[((9 - 3) * (5 - 3)) = ((9 - 3) * 2) = (6 * 2)...</td>\n",
       "      <td>[-6, -6, -6, -14]</td>\n",
       "      <td>[((9 - 3) * (5 - 3)) = ((9 - 3) * 2) = (6 * 2)...</td>\n",
       "    </tr>\n",
       "    <tr>\n",
       "      <th>5</th>\n",
       "      <td>(((8 + 7) - (6 + 1)) - (9 - (3 + 8)))</td>\n",
       "      <td>[(((8 + 7) - (6 + 1)) - (9 - (3 + 8))) = ((15 ...</td>\n",
       "      <td>[-32, -33, -32, -21]</td>\n",
       "      <td>[(((8 + 7) - (6 + 1)) - (9 - (3 + 8))) = (((8 ...</td>\n",
       "    </tr>\n",
       "    <tr>\n",
       "      <th>...</th>\n",
       "      <td>...</td>\n",
       "      <td>...</td>\n",
       "      <td>...</td>\n",
       "      <td>...</td>\n",
       "    </tr>\n",
       "    <tr>\n",
       "      <th>991</th>\n",
       "      <td>(((4 + 5) * (9 + 7)) * ((5 - 8) * (6 * 4)))</td>\n",
       "      <td>[(((4 + 5) * (9 + 7)) * ((5 - 8) * (6 * 4))) =...</td>\n",
       "      <td>[-67, -76, -70, -82]</td>\n",
       "      <td>[(((4 + 5) * (9 + 7)) * ((5 - 8) * (6 * 4))) =...</td>\n",
       "    </tr>\n",
       "    <tr>\n",
       "      <th>993</th>\n",
       "      <td>((9 + 6) * 6)</td>\n",
       "      <td>[((9 + 6) * 6) = (15 * 6) = 90 = 270 = 210 = 1...</td>\n",
       "      <td>[-4, -15, -12, -12]</td>\n",
       "      <td>[((9 + 6) * 6) = (15 * 6) = 90]</td>\n",
       "    </tr>\n",
       "    <tr>\n",
       "      <th>996</th>\n",
       "      <td>(((8 + 6) + 7) + (9 - 4))</td>\n",
       "      <td>[(((8 + 6) + 7) + (9 - 4)) = ((14 + 7) + (9 - ...</td>\n",
       "      <td>[-8, -8, -14, -10]</td>\n",
       "      <td>[(((8 + 6) + 7) + (9 - 4)) = ((14 + 7) + (9 - ...</td>\n",
       "    </tr>\n",
       "    <tr>\n",
       "      <th>997</th>\n",
       "      <td>(((8 - 6) * (3 + 6)) + 8)</td>\n",
       "      <td>[(((8 - 6) * (3 + 6)) + 8) = ((2 * (3 + 6)) + ...</td>\n",
       "      <td>[-47, -22, -8, -8]</td>\n",
       "      <td>[(((8 - 6) * (3 + 6)) + 8) = (((8 - 6) * 9) + ...</td>\n",
       "    </tr>\n",
       "    <tr>\n",
       "      <th>998</th>\n",
       "      <td>((6 - 8) - 2)</td>\n",
       "      <td>[((6 - 8) - 2) = (2 + 2) = 4 = 6 = 6 = 6 = 6\\n...</td>\n",
       "      <td>[-11, -40, -6, -11]</td>\n",
       "      <td>[((6 - 8) - 2) = (-2 - 2) = -4 = -4]</td>\n",
       "    </tr>\n",
       "  </tbody>\n",
       "</table>\n",
       "<p>739 rows × 4 columns</p>\n",
       "</div>"
      ],
      "text/plain": [
       "                                        question  \\\n",
       "0                      (((6 - 6) * (2 - 1)) + 8)   \n",
       "1                            ((1 * 2) * (8 + 5))   \n",
       "2                (((7 - 9) * 2) * (4 - (7 * 8)))   \n",
       "4                            ((9 - 3) * (5 - 3))   \n",
       "5          (((8 + 7) - (6 + 1)) - (9 - (3 + 8)))   \n",
       "..                                           ...   \n",
       "991  (((4 + 5) * (9 + 7)) * ((5 - 8) * (6 * 4)))   \n",
       "993                                ((9 + 6) * 6)   \n",
       "996                    (((8 + 6) + 7) + (9 - 4))   \n",
       "997                    (((8 - 6) * (3 + 6)) + 8)   \n",
       "998                                ((6 - 8) - 2)   \n",
       "\n",
       "                                              response                reward  \\\n",
       "0    [(((6 - 6) * (2 - 1)) + 8) = ((0 * (2 - 1)) + ...   [-9, -10, -11, -10]   \n",
       "1    [((1 * 2) * (8 + 5)) = ((2 * 2) * 13) = (4 * 1...      [-9, -9, -9, -6]   \n",
       "2    [(((7 - 9) * 2) * (4 - (7 * 8))) = ((-2 * 2) *...  [-14, -36, -25, -38]   \n",
       "4    [((9 - 3) * (5 - 3)) = ((9 - 3) * 2) = (6 * 2)...     [-6, -6, -6, -14]   \n",
       "5    [(((8 + 7) - (6 + 1)) - (9 - (3 + 8))) = ((15 ...  [-32, -33, -32, -21]   \n",
       "..                                                 ...                   ...   \n",
       "991  [(((4 + 5) * (9 + 7)) * ((5 - 8) * (6 * 4))) =...  [-67, -76, -70, -82]   \n",
       "993  [((9 + 6) * 6) = (15 * 6) = 90 = 270 = 210 = 1...   [-4, -15, -12, -12]   \n",
       "996  [(((8 + 6) + 7) + (9 - 4)) = ((14 + 7) + (9 - ...    [-8, -8, -14, -10]   \n",
       "997  [(((8 - 6) * (3 + 6)) + 8) = ((2 * (3 + 6)) + ...    [-47, -22, -8, -8]   \n",
       "998  [((6 - 8) - 2) = (2 + 2) = 4 = 6 = 6 = 6 = 6\\n...   [-11, -40, -6, -11]   \n",
       "\n",
       "                                                   ags  \n",
       "0    [(((6 - 6) * (2 - 1)) + 8) = ((0 * (2 - 1)) + ...  \n",
       "1    [((1 * 2) * (8 + 5)) = (2 * (8 + 5)) = (2 * 13...  \n",
       "2    [(((7 - 9) * 2) * (4 - (7 * 8))) = (((7 - 9) *...  \n",
       "4    [((9 - 3) * (5 - 3)) = ((9 - 3) * 2) = (6 * 2)...  \n",
       "5    [(((8 + 7) - (6 + 1)) - (9 - (3 + 8))) = (((8 ...  \n",
       "..                                                 ...  \n",
       "991  [(((4 + 5) * (9 + 7)) * ((5 - 8) * (6 * 4))) =...  \n",
       "993                    [((9 + 6) * 6) = (15 * 6) = 90]  \n",
       "996  [(((8 + 6) + 7) + (9 - 4)) = ((14 + 7) + (9 - ...  \n",
       "997  [(((8 - 6) * (3 + 6)) + 8) = (((8 - 6) * 9) + ...  \n",
       "998               [((6 - 8) - 2) = (-2 - 2) = -4 = -4]  \n",
       "\n",
       "[739 rows x 4 columns]"
      ]
     },
     "execution_count": 27,
     "metadata": {},
     "output_type": "execute_result"
    }
   ],
   "source": [
    "nmath"
   ]
  },
  {
   "cell_type": "code",
   "execution_count": 64,
   "id": "83331c52-2dba-47dc-80a8-fb2409a62efb",
   "metadata": {},
   "outputs": [],
   "source": [
    "msft = Dataset.load_from_disk(\"../outputs/data/math/mdpomargin2/\")"
   ]
  },
  {
   "cell_type": "code",
   "execution_count": 65,
   "id": "24f349af-6d84-47c3-b5d0-32f603f655b5",
   "metadata": {},
   "outputs": [],
   "source": [
    "def fixmpref(ex):\n",
    "    ex['response_j'] = \" = \"+ex['response_j']\n",
    "    ex['response_k'] = \" = \"+ex['response_k']\n",
    "    return ex"
   ]
  },
  {
   "cell_type": "code",
   "execution_count": 62,
   "id": "de133db7-f63e-4c0a-9ff6-04a6a13c1bd0",
   "metadata": {},
   "outputs": [
    {
     "data": {
      "text/plain": [
       "{'question': '(((6 - 6) * (2 - 1)) + 8)',\n",
       " 'response_j': ' = ((0 * (2 - 1)) + 8) = ((0 * 1) + 8) = (-0 + 8) = 8 = 8 = 8 = 8 = 8 = 8 = 8 = 8 = 8 = 8 = 8 = 8 = 8 = 8 = 8 = 8 = 8 = 8 = 8 = 8 = 8 = 8 = 8 = 8',\n",
       " 'response_k': ' = ((0 * (2 - 1)) + 8) = ((0 * 1) + 8) = (-1 + 8) = 7 = 5 = 5 = 5 = 5 = 5 = 5 = 5 = 5 = 5 = 5 = 5 = 5 = 5 = 5 = 5 = 5 = 5 = 5 = 5 = 5 = 5 = 5 = 5'}"
      ]
     },
     "execution_count": 62,
     "metadata": {},
     "output_type": "execute_result"
    }
   ],
   "source": [
    "ms[0]"
   ]
  },
  {
   "cell_type": "code",
   "execution_count": 63,
   "id": "a42b4815-2518-461e-9921-f10894bf1d81",
   "metadata": {},
   "outputs": [
    {
     "name": "stderr",
     "output_type": "stream",
     "text": [
      "Map: 100%|█████████████████████████████████████████████████████████████████████████████████████████████████████████████████████████████| 739/739 [00:00<00:00, 19402.52 examples/s]\n",
      "Saving the dataset (1/1 shards): 100%|█████████████████████████████████████████████████████████████████████████████████████████████████| 739/739 [00:00<00:00, 92646.78 examples/s]\n"
     ]
    }
   ],
   "source": [
    "# ms = msft.map(fixmpref)\n",
    "# ms.save_to_disk(\"../outputs/data/math/mdpomargingver2/\")"
   ]
  },
  {
   "cell_type": "code",
   "execution_count": 66,
   "id": "6177f13e-bb2c-4961-88e1-37afc56f37fc",
   "metadata": {},
   "outputs": [],
   "source": [
    "msftv = Dataset.from_dict({'outputs': [r['question']+r['response_j'] for r in msft]})"
   ]
  },
  {
   "cell_type": "code",
   "execution_count": 70,
   "id": "3c41808d-49b0-4202-a51f-513904a1e7b6",
   "metadata": {},
   "outputs": [
    {
     "name": "stderr",
     "output_type": "stream",
     "text": [
      "Saving the dataset (1/1 shards): 100%|████████████████████████████████████████████████████████████████████████████████████████████████| 739/739 [00:00<00:00, 121935.12 examples/s]\n"
     ]
    }
   ],
   "source": [
    "msftv.save_to_disk(\"../outputs/data/math/mbestofnsft/\")"
   ]
  },
  {
   "cell_type": "code",
   "execution_count": 29,
   "id": "de70ac47-4383-43cd-920d-78f814960e50",
   "metadata": {},
   "outputs": [],
   "source": [
    "# nmath.to_json(\"nmath.json\", orient='records', lines=True)"
   ]
  },
  {
   "cell_type": "code",
   "execution_count": 39,
   "id": "e8305160-2793-4283-bca7-059cfc19215e",
   "metadata": {},
   "outputs": [],
   "source": [
    "msftv = Dataset.from_dict({'outputs': [r['ags'][0] for i, r in nmath.iterrows()]})"
   ]
  },
  {
   "cell_type": "code",
   "execution_count": 43,
   "id": "acdcc7ff-9d1d-4cbc-b50f-20873217fc80",
   "metadata": {},
   "outputs": [
    {
     "name": "stderr",
     "output_type": "stream",
     "text": [
      "Saving the dataset (1/1 shards): 100%|████████████████████████████████████████████████████████████████████████████████████████████████| 739/739 [00:00<00:00, 148533.19 examples/s]\n"
     ]
    }
   ],
   "source": [
    "# msftv.save_to_disk(\"../outputs/data/math/sftcompsmall\")"
   ]
  },
  {
   "cell_type": "code",
   "execution_count": 35,
   "id": "08f28957-a3e2-43b9-8c10-8f36ebfdb821",
   "metadata": {},
   "outputs": [],
   "source": [
    "def math_to_prefs(indf, goldj=False):\n",
    "    ndata = []\n",
    "    for i, row in indf.iterrows():\n",
    "        rj = row['response'][np.argmax(row['reward'])]\n",
    "        if goldj: \n",
    "            rj = row['ags'][0]\n",
    "        rk = row['response'][np.argmin(row['reward'])]\n",
    "        tmp = {\n",
    "            'question':row['question'],\n",
    "            'response_j':rj[rj.index(\"=\")+2:],\n",
    "            'response_k':rk[rk.index(\"=\")+2:]\n",
    "        }\n",
    "        ndata.append(tmp)\n",
    "    return Dataset.from_list(ndata)"
   ]
  },
  {
   "cell_type": "code",
   "execution_count": 36,
   "id": "80dac56a-afab-4484-86af-e61dbb966183",
   "metadata": {},
   "outputs": [],
   "source": [
    "mathpnew = math_to_prefs(nmath, True)"
   ]
  },
  {
   "cell_type": "code",
   "execution_count": 37,
   "id": "b191b215-4d02-42c5-9c3d-1f154b3e3f52",
   "metadata": {},
   "outputs": [
    {
     "name": "stderr",
     "output_type": "stream",
     "text": [
      "Saving the dataset (1/1 shards): 100%|███████████████████████████████████████████████████████████████████████████████████████████████| 739/739 [00:00<00:00, 129224.99 examples/s]\n"
     ]
    }
   ],
   "source": [
    "mathpnew.save_to_disk(\"../outputs/data/math/mdpomargingver\")"
   ]
  },
  {
   "cell_type": "code",
   "execution_count": 38,
   "id": "deaab7b7-7cff-4a04-96be-0ac059e34a18",
   "metadata": {},
   "outputs": [
    {
     "data": {
      "text/plain": [
       "{'question': '(((6 - 6) * (2 - 1)) + 8)',\n",
       " 'response_j': '((0 * (2 - 1)) + 8) = ((0 * 1) + 8) = (0 + 8) = 8',\n",
       " 'response_k': '((0 * (2 - 1)) + 8) = ((0 * 1) + 8) = (-1 + 8) = 7 = 5 = 5 = 5 = 5 = 5 = 5 = 5 = 5 = 5 = 5 = 5 = 5 = 5 = 5 = 5 = 5 = 5 = 5 = 5 = 5 = 5 = 5 = 5'}"
      ]
     },
     "execution_count": 38,
     "metadata": {},
     "output_type": "execute_result"
    }
   ],
   "source": [
    "mathpnew[0]"
   ]
  },
  {
   "cell_type": "code",
   "execution_count": 8,
   "id": "c6808840-669f-488e-bb7b-3f58a300d15f",
   "metadata": {},
   "outputs": [],
   "source": [
    "mprefs = Dataset.load_from_disk(\"../outputs/data/math/mathprefdata/\")"
   ]
  },
  {
   "cell_type": "code",
   "execution_count": 9,
   "id": "754e96de-3270-44f6-9527-90bf59f4f203",
   "metadata": {},
   "outputs": [
    {
     "data": {
      "text/plain": [
       "{'question': '(((3 * 4) - 2) - 1) = ',\n",
       " 'response_j': '((12 - 2) - 1) = (13 - 1) = 8 = 9 = 8 = 9 = 9\\n\\n(13 - 1) = 8 = 7 = 7 = 7\\n\\n12 = 7 = 7\\n\\n12 = 7 = 7\\n\\n12 = 7\\n\\nM = 7\\n\\nM = 7\\n\\nM = 7\\n\\nM = 7\\n\\nM = 7\\n\\nM = 7\\n\\nM = 7\\n\\nM = 7',\n",
       " 'response_k': '((12 - 2) - 1) = (9 - 1) = 8 = 7 = 7 = 7 = 7 = 7 = 7 = 7 = 7 = 7 = -7 = -7 = -7 = -7 = -7 = -7 = -63 = -63 = -63 = -63 = -63 = -63 = 539 = 493 = -549 = -5191 = -5491 = -5491 = -4971 = -4971 =',\n",
       " 'score_j': 3.4722222222222223,\n",
       " 'score_k': 3.194444444444444,\n",
       " 'magnitude': 0.2777777777777781}"
      ]
     },
     "execution_count": 9,
     "metadata": {},
     "output_type": "execute_result"
    }
   ],
   "source": [
    "mprefs[0]"
   ]
  },
  {
   "cell_type": "code",
   "execution_count": 23,
   "id": "8e17007d-fdcc-49da-bd32-fdd991473b4d",
   "metadata": {},
   "outputs": [],
   "source": [
    "def goldover(ex):\n",
    "    ex['response_j'] = \" = \".join(solve_expression(ex['question'].split(\" = \")[0], False)[1:])\n",
    "    return ex"
   ]
  },
  {
   "cell_type": "code",
   "execution_count": 24,
   "id": "de018438-421a-4b7f-9561-446b5dd54ebf",
   "metadata": {},
   "outputs": [
    {
     "name": "stderr",
     "output_type": "stream",
     "text": [
      "Map:  36%|████████████████████████████████▊                                                          | 18000/50000 [00:01<00:03, 9595.32 examples/s]"
     ]
    },
    {
     "name": "stdout",
     "output_type": "stream",
     "text": [
      "weird\n",
      "-60 =!!!!\n"
     ]
    },
    {
     "name": "stderr",
     "output_type": "stream",
     "text": [
      "Map:  71%|███████████████████████████████████████████████████████████████▉                          | 35494/50000 [00:03<00:01, 12316.70 examples/s]"
     ]
    },
    {
     "name": "stdout",
     "output_type": "stream",
     "text": [
      "weird\n",
      "-2 =!!! -6\n",
      "weird\n",
      "116 =!!!99 + 8)\n"
     ]
    },
    {
     "name": "stderr",
     "output_type": "stream",
     "text": [
      "Map: 100%|██████████████████████████████████████████████████████████████████████████████████████████| 50000/50000 [00:04<00:00, 10276.52 examples/s]\n"
     ]
    }
   ],
   "source": [
    "gmprefs = mprefs.map(goldover)"
   ]
  },
  {
   "cell_type": "code",
   "execution_count": 25,
   "id": "a3f3f4dd-36c3-4755-bd52-0fdd42e2ad64",
   "metadata": {},
   "outputs": [
    {
     "data": {
      "text/plain": [
       "{'question': '(((3 * 4) - 2) - 1) = ',\n",
       " 'response_j': '((12 - 2) - 1) = (10 - 1) = 9',\n",
       " 'response_k': '((12 - 2) - 1) = (9 - 1) = 8 = 7 = 7 = 7 = 7 = 7 = 7 = 7 = 7 = 7 = -7 = -7 = -7 = -7 = -7 = -7 = -63 = -63 = -63 = -63 = -63 = -63 = 539 = 493 = -549 = -5191 = -5491 = -5491 = -4971 = -4971 =',\n",
       " 'score_j': 3.4722222222222223,\n",
       " 'score_k': 3.194444444444444,\n",
       " 'magnitude': 0.2777777777777781}"
      ]
     },
     "execution_count": 25,
     "metadata": {},
     "output_type": "execute_result"
    }
   ],
   "source": [
    "gmprefs[0]"
   ]
  },
  {
   "cell_type": "code",
   "execution_count": 37,
   "id": "b9b94c5b-1d46-4748-823f-5f823ae91e95",
   "metadata": {},
   "outputs": [
    {
     "name": "stderr",
     "output_type": "stream",
     "text": [
      "100%|██████████████████████████████████████████████████████████████████████████████████████████████████████| 50000/50000 [00:02<00:00, 18281.90it/s]\n"
     ]
    }
   ],
   "source": [
    "def generate_new_rows(row, indices=(0, 1, 2, 3, 4)):\n",
    "    question = row['question']\n",
    "    response_j = row['response_j']\n",
    "    response_k = row['response_k']\n",
    "    \n",
    "    response_j_parts = response_j.split(' = ')\n",
    "    response_k_parts = response_k.split(' = ')\n",
    "    \n",
    "    new_rows = []\n",
    "    \n",
    "    for idx in indices:\n",
    "        if idx < len(response_j_parts) and idx < len(response_k_parts):\n",
    "            prefix_j = ' = '.join(response_j_parts[:idx])\n",
    "            new_question = question + prefix_j \n",
    "            new_response_j = response_j_parts[idx] if idx < len(response_j_parts) else ''\n",
    "            new_response_k = response_k_parts[idx] if idx < len(response_k_parts) else ''\n",
    "            new_row = {\n",
    "                'question': new_question,\n",
    "                'response_j': new_response_j,\n",
    "                'response_k': new_response_k,\n",
    "                'score_j': row['score_j'],\n",
    "                'score_k': row['score_k'],\n",
    "                'magnitude': row['magnitude']\n",
    "            }\n",
    "            new_rows.append(new_row)\n",
    "    \n",
    "    return new_rows\n",
    "\n",
    "# Generate new dataset\n",
    "new_data = []\n",
    "for row in tqdm(gmprefs):\n",
    "    new_data.extend(generate_new_rows(row))\n",
    "\n",
    "new_df = pd.DataFrame(new_data)"
   ]
  },
  {
   "cell_type": "code",
   "execution_count": 52,
   "id": "2b364e3f-901b-43de-8c69-3b501f33a1cf",
   "metadata": {},
   "outputs": [],
   "source": [
    "tmpfgdata = Dataset.from_pandas(new_df)"
   ]
  },
  {
   "cell_type": "code",
   "execution_count": 55,
   "id": "6d2fd4bc-25d0-476a-94e8-da5986e5396b",
   "metadata": {},
   "outputs": [],
   "source": [
    "tmpfgdataheld = tmpfgdata.select(range(214000, len(tmpfgdata)))\n",
    "tmpfgdata = tmpfgdata.select(range(200000))"
   ]
  },
  {
   "cell_type": "code",
   "execution_count": 56,
   "id": "135d43c8-01c1-49d2-8ab3-415dbaee04a8",
   "metadata": {},
   "outputs": [
    {
     "name": "stderr",
     "output_type": "stream",
     "text": [
      "Saving the dataset (1/1 shards): 100%|███████████████████████████████████████████████████████████████| 1826/1826 [00:00<00:00, 264817.92 examples/s]\n"
     ]
    }
   ],
   "source": [
    "tmpfgdataheld.save_to_disk(\"../outputs/data/math/fgheld\")"
   ]
  },
  {
   "cell_type": "code",
   "execution_count": 57,
   "id": "d5453f7b-719e-4fe1-8e5e-69e972fe15f3",
   "metadata": {},
   "outputs": [
    {
     "name": "stderr",
     "output_type": "stream",
     "text": [
      "Saving the dataset (1/1 shards): 100%|███████████████████████████████████████████████████████████| 200000/200000 [00:00<00:00, 815487.30 examples/s]\n"
     ]
    }
   ],
   "source": [
    "tmpfgdata.save_to_disk(\"../outputs/data/math/fgpref200k/\")"
   ]
  },
  {
   "cell_type": "code",
   "execution_count": 42,
   "id": "247c9a27-e17c-4fdf-be81-1fc893b7acd8",
   "metadata": {},
   "outputs": [
    {
     "data": {
      "text/plain": [
       "-26"
      ]
     },
     "execution_count": 42,
     "metadata": {},
     "output_type": "execute_result"
    }
   ],
   "source": [
    "allscomath(tmpmath['response'][1][2])"
   ]
  },
  {
   "cell_type": "code",
   "execution_count": 18,
   "id": "31f57f21-c32d-4726-a4f4-f01613b247d5",
   "metadata": {},
   "outputs": [],
   "source": [
    "def generate_expression_with_depth(depth, current_depth=\"\"):\n",
    "    # operation will be fixed for each layer\n",
    "    operation = random.choice(['+', '-', '*'])\n",
    "\n",
    "    def randexp(giveexp, ndepth):\n",
    "        if giveexp: \n",
    "            giveexp = random.choice([True, False])\n",
    "            if 'r' not in ndepth:\n",
    "                giveexp=True\n",
    "        # giveexp = givenum or ('r' not in nstr)\n",
    "        return generate_expression_with_depth(depth, ndepth) if giveexp else random.randint(1,9)\n",
    "\n",
    "    left_expr = randexp(len(current_depth)<depth, current_depth+'l')\n",
    "    right_expr = randexp(len(current_depth)<depth, current_depth+'r')\n",
    "    return f\"({left_expr} {operation} {right_expr})\" \n",
    "\n",
    "def solve_expression(expression, rord=True):\n",
    "    steps = [expression]\n",
    "    # Use a loop to solve the expression step by step\n",
    "    while '(' in expression or '+' in expression or '-' in expression or '*' in expression:\n",
    "        # Solve the innermost parentheses first\n",
    "        inner_parentheses = re.findall(r'\\([^\\(\\)]*\\)', expression)\n",
    "        if inner_parentheses:\n",
    "            random.shuffle(inner_parentheses)\n",
    "            for ip in inner_parentheses:\n",
    "                # Evaluate the expression inside the parentheses\n",
    "                try: \n",
    "                    result = eval(ip)\n",
    "                except: \n",
    "                    result = 0\n",
    "                    print(\"weird\")\n",
    "                expression = expression.replace(ip, str(result), 1)\n",
    "                steps.append(expression)\n",
    "        else:\n",
    "            # If no parentheses are left, solve the remaining expression\n",
    "            try: \n",
    "                result = eval(expression)\n",
    "            except: \n",
    "                result = 0\n",
    "                print(\"weird\")\n",
    "                print(expression)\n",
    "            expression = str(result)\n",
    "            steps.append(expression)\n",
    "            break\n",
    "    return steps\n",
    "    "
   ]
  },
  {
   "cell_type": "code",
   "execution_count": 9,
   "id": "9d831645-02a5-4d83-b4c1-729348b9b961",
   "metadata": {},
   "outputs": [
    {
     "data": {
      "text/plain": [
       "('(((6 * 7) + 1) * ((6 - 5) - (8 + 6)))',\n",
       " ['(((6 * 7) + 1) * ((6 - 5) - (8 + 6)))',\n",
       "  '(((6 * 7) + 1) * ((6 - 5) - 14))',\n",
       "  '(((6 * 7) + 1) * (1 - 14))',\n",
       "  '((42 + 1) * (1 - 14))',\n",
       "  '(43 * (1 - 14))',\n",
       "  '(43 * -13)',\n",
       "  '-559',\n",
       "  '-559'])"
      ]
     },
     "execution_count": 9,
     "metadata": {},
     "output_type": "execute_result"
    }
   ],
   "source": [
    "# Example: Generate an expression with a depth of 3\n",
    "depth = 2\n",
    "expression_with_depth = generate_expression_with_depth(depth)\n",
    "solution_steps_with_depth = solve_expression(expression_with_depth)\n",
    "\n",
    "expression_with_depth, solution_steps_with_depth"
   ]
  },
  {
   "cell_type": "code",
   "execution_count": 19,
   "id": "71fccb07-f543-49ba-9aef-1fc22b83c6aa",
   "metadata": {},
   "outputs": [
    {
     "name": "stdout",
     "output_type": "stream",
     "text": [
      "4\n",
      "{'(((1 - 1) + 7) * (1 - (5 + 4))) = ((0 + 7) * (1 - (5 + 4))) = ((0 + 7) * (1 - 9)) = (7 * (1 - 9)) = (7 * -8) = -56 = -56', '(((1 - 1) + 7) * (1 - (5 + 4))) = ((0 + 7) * (1 - (5 + 4))) = ((0 + 7) * (1 - 9)) = ((0 + 7) * -8) = (7 * -8) = -56 = -56', '(((1 - 1) + 7) * (1 - (5 + 4))) = (((1 - 1) + 7) * (1 - 9)) = ((0 + 7) * (1 - 9)) = (7 * (1 - 9)) = (7 * -8) = -56 = -56', '(((1 - 1) + 7) * (1 - (5 + 4))) = (((1 - 1) + 7) * (1 - 9)) = ((0 + 7) * (1 - 9)) = ((0 + 7) * -8) = (7 * -8) = -56 = -56'}\n"
     ]
    }
   ],
   "source": [
    "expression_with_depth = generate_expression_with_depth(2)\n",
    "ls = set()\n",
    "for i in range(10):\n",
    "    ls.add(\" = \".join(solve_expression(expression_with_depth)))\n",
    "print(len(ls))\n",
    "print(ls)"
   ]
  },
  {
   "cell_type": "code",
   "execution_count": 17,
   "id": "ebf9e9aa-279b-4d9f-b4c9-18fd8975633e",
   "metadata": {},
   "outputs": [
    {
     "data": {
      "text/plain": [
       "10"
      ]
     },
     "execution_count": 17,
     "metadata": {},
     "output_type": "execute_result"
    }
   ],
   "source": [
    "eval(\"(((7 - 2) - (1 - 6)) * 1)\")"
   ]
  },
  {
   "cell_type": "code",
   "execution_count": 8,
   "id": "2970e43f-4641-474d-8f62-1ab366e5f4ab",
   "metadata": {},
   "outputs": [
    {
     "data": {
      "text/plain": [
       "3"
      ]
     },
     "execution_count": 8,
     "metadata": {},
     "output_type": "execute_result"
    }
   ],
   "source": [
    "random.randint(0,3)"
   ]
  },
  {
   "cell_type": "code",
   "execution_count": 20,
   "id": "ab858bc1-872e-4e49-b684-422450f4b76b",
   "metadata": {},
   "outputs": [],
   "source": [
    "def makesftdset(depth=2, dsetsize=1000): \n",
    "    exprs = [generate_expression_with_depth(random.randint(1,depth)) for i in range(dsetsize)]\n",
    "    steps = [' = '.join(solve_expression(e)) for e in exprs]\n",
    "    return Dataset.from_dict({'question': exprs, 'outputs':steps})"
   ]
  },
  {
   "cell_type": "code",
   "execution_count": 30,
   "id": "4474f0da-b0cc-4ea8-af61-db3a7ce85f15",
   "metadata": {},
   "outputs": [],
   "source": [
    "def allouts(ex):\n",
    "    tmpouts = set()\n",
    "    for i in range(15):\n",
    "        tmpouts.add(\" = \".join(solve_expression(expression_with_depth)))\n",
    "    ex['allouts'] = list(tmpouts)\n",
    "    ex['numposs'] = len(ex['allouts'])\n",
    "    return ex"
   ]
  },
  {
   "cell_type": "code",
   "execution_count": 35,
   "id": "b36d1611-f186-4fca-8efc-5b13f621e775",
   "metadata": {},
   "outputs": [
    {
     "name": "stderr",
     "output_type": "stream",
     "text": [
      "Map (num_proc=10): 100%|████████████████████████████████████████████████████████████████████████████████████████████████████████████████| 200/200 [00:00<00:00, 784.71 examples/s]\n"
     ]
    }
   ],
   "source": [
    "mdata = mdata.map(allouts, num_proc=10)"
   ]
  },
  {
   "cell_type": "code",
   "execution_count": 36,
   "id": "bcc6581f-7bc9-42c6-a1f0-2c9de88f5e9c",
   "metadata": {},
   "outputs": [
    {
     "data": {
      "text/plain": [
       "200"
      ]
     },
     "execution_count": 36,
     "metadata": {},
     "output_type": "execute_result"
    }
   ],
   "source": [
    "len(mdata)"
   ]
  },
  {
   "cell_type": "code",
   "execution_count": 34,
   "id": "73133b57-e56a-4d6c-8679-b0865b70e30d",
   "metadata": {},
   "outputs": [],
   "source": [
    "mdata = makesftdset(depth=2, dsetsize=200)"
   ]
  },
  {
   "cell_type": "code",
   "execution_count": 37,
   "id": "df8812b0-53f4-445f-82ec-129ddfa6e799",
   "metadata": {},
   "outputs": [
    {
     "name": "stderr",
     "output_type": "stream",
     "text": [
      "Saving the dataset (1/1 shards): 100%|████████████████████████████████████████████████████████████████████████████████████████████████| 200/200 [00:00<00:00, 31835.32 examples/s]\n"
     ]
    }
   ],
   "source": [
    "# mdata.save_to_disk(\"../outputs/data/math/mrandomheld\")"
   ]
  },
  {
   "cell_type": "code",
   "execution_count": 32,
   "id": "3e5c40f2-0bb6-4a8f-9a52-f3b102a92445",
   "metadata": {},
   "outputs": [
    {
     "name": "stderr",
     "output_type": "stream",
     "text": [
      "Saving the dataset (1/1 shards): 100%|██████████████████████████████████████████████████████████████████████████████████████████████| 1000/1000 [00:00<00:00, 91474.83 examples/s]\n"
     ]
    }
   ],
   "source": [
    "# mdata.save_to_disk(\"../outputs/data/math/mrandominps\")"
   ]
  },
  {
   "cell_type": "code",
   "execution_count": 42,
   "id": "ec29905e-f92a-4725-a07a-3c329ec714d2",
   "metadata": {},
   "outputs": [
    {
     "name": "stderr",
     "output_type": "stream",
     "text": [
      "100%|████████████████████████████████████████████████████████████████████████████████████████████████████████████████████████████████████████████████████| 833319/833319 [00:00<00:00, 2177929.30it/s]\n"
     ]
    }
   ],
   "source": [
    "resprange = []\n",
    "for m in tqdm(allms['outputs']): \n",
    "    resprange.append(int(m.split(\" = \")[-1]))\n"
   ]
  },
  {
   "cell_type": "code",
   "execution_count": 41,
   "id": "b82f410c-7b31-4e45-8ac8-dd81b29e2e60",
   "metadata": {},
   "outputs": [
    {
     "name": "stderr",
     "output_type": "stream",
     "text": [
      "Filter: 100%|████████████████████████████████████████████████████████████████████████████████████████████████████████████████████████████████████| 1000000/1000000 [00:02<00:00, 417899.76 examples/s]\n"
     ]
    }
   ],
   "source": [
    "allms = mdata.filter(lambda ex: abs(int(ex['outputs'].split(\" = \")[-1]))<99)"
   ]
  },
  {
   "cell_type": "code",
   "execution_count": 46,
   "id": "dacde357-611c-4221-9eb9-16807c57162d",
   "metadata": {},
   "outputs": [
    {
     "name": "stderr",
     "output_type": "stream",
     "text": [
      "Saving the dataset (1/1 shards): 100%|█████████████████████████████████████████████████████████████████████████████████████████████████████████████| 833319/833319 [00:01<00:00, 440524.23 examples/s]\n"
     ]
    }
   ],
   "source": [
    "allms.save_to_disk(\"../outputs/data/math/mathsfthuge\")"
   ]
  },
  {
   "cell_type": "code",
   "execution_count": 43,
   "id": "8080bf49-b20c-4ad5-b48a-3f6b78292f23",
   "metadata": {},
   "outputs": [
    {
     "data": {
      "text/plain": [
       "(array([  5447.,  10216.,  18613.,  36161., 150683., 338728., 130427.,\n",
       "         69988.,  45853.,  27203.]),\n",
       " array([-98. , -78.4, -58.8, -39.2, -19.6,   0. ,  19.6,  39.2,  58.8,\n",
       "         78.4,  98. ]),\n",
       " <BarContainer object of 10 artists>)"
      ]
     },
     "execution_count": 43,
     "metadata": {},
     "output_type": "execute_result"
    },
    {
     "data": {
      "image/png": "[encoded data removed]",
      "text/plain": [
       "<Figure size 640x480 with 1 Axes>"
      ]
     },
     "metadata": {},
     "output_type": "display_data"
    }
   ],
   "source": [
    "plt.hist(resprange)"
   ]
  },
  {
   "cell_type": "code",
   "execution_count": 23,
   "id": "5abe267a-73d7-4d8e-8d44-ef1bacec9812",
   "metadata": {},
   "outputs": [
    {
     "name": "stderr",
     "output_type": "stream",
     "text": [
      "Saving the dataset (1/1 shards): 100%|███████████████████████████████████████████████████████████████████████████████████████████████████████████| 1000000/1000000 [00:01<00:00, 899816.34 examples/s]\n"
     ]
    }
   ],
   "source": [
    "# mdata.save_to_disk(\"../../data/math/mathsfthuge\")"
   ]
  },
  {
   "cell_type": "code",
   "execution_count": 7,
   "id": "6010ea96-f3fe-4ea7-a4e0-78d3325ce78a",
   "metadata": {},
   "outputs": [],
   "source": [
    "# CODE TO MAKE INITIAL SFT MODELS\n",
    "# mathdata = makesftdset()\n",
    "# mathdata.save_to_disk(\"../../data/math/mathsftinitial\")"
   ]
  },
  {
   "cell_type": "code",
   "execution_count": 12,
   "id": "9c30ea62-8c7f-4bb1-b8e3-c6185d2938db",
   "metadata": {},
   "outputs": [
    {
     "name": "stderr",
     "output_type": "stream",
     "text": [
      "  0%|                                                                                                                                                                                         | 0/196 [00:00<?, ?it/s]Asking to truncate to max_length but no maximum length is provided and the model has no predefined maximum length. Default to no truncation.\n",
      "100%|███████████████████████████████████████████████████████████████████████████████████████████████████████████████████████████████████████████████████████████████████████████████| 196/196 [09:26<00:00,  2.89s/it]\n"
     ]
    }
   ],
   "source": [
    "allgens = genall(mod, mathprefdata['question'], 512)"
   ]
  },
  {
   "cell_type": "code",
   "execution_count": 17,
   "id": "c0783ccb-a402-4394-80a2-39f21ca48142",
   "metadata": {
    "scrolled": true
   },
   "outputs": [
    {
     "name": "stderr",
     "output_type": "stream",
     "text": [
      "100%|██████████████████████████████████████████████████████████████████████████████████████████████████████████████████████████████████████████████████████████████████████████| 50000/50000 [01:31<00:00, 543.88it/s]\n"
     ]
    }
   ],
   "source": [
    "prefdset = mathprefs(allgens)"
   ]
  },
  {
   "cell_type": "code",
   "execution_count": 37,
   "id": "7424b1ea-b253-40ed-9c50-7859127f08c9",
   "metadata": {},
   "outputs": [
    {
     "name": "stderr",
     "output_type": "stream",
     "text": [
      "                                                                                                                                                                                                                      \r"
     ]
    }
   ],
   "source": [
    "prefdsetc = prefdsetc.map(correct_prefs, num_proc=10)"
   ]
  },
  {
   "cell_type": "code",
   "execution_count": 45,
   "id": "d2e3e48c-329f-4ee8-9830-0f6dfee03407",
   "metadata": {},
   "outputs": [
    {
     "data": {
      "text/plain": [
       "3.1381721644525453"
      ]
     },
     "execution_count": 45,
     "metadata": {},
     "output_type": "execute_result"
    }
   ],
   "source": [
    "mean(prefdset['score_k'] + prefdset['score_j'])"
   ]
  },
  {
   "cell_type": "code",
   "execution_count": 39,
   "id": "b264d75a-238c-4f19-9e61-6a71d365c233",
   "metadata": {},
   "outputs": [
    {
     "name": "stderr",
     "output_type": "stream",
     "text": [
      "                                                                                                                                                                                                                      \r"
     ]
    }
   ],
   "source": [
    "prefdsetc.save_to_disk(\"../../data/math/mathprefdata\")"
   ]
  },
  {
   "cell_type": "code",
   "execution_count": 34,
   "id": "becd47eb-16ca-4bb8-af8c-ef7a263d91ea",
   "metadata": {},
   "outputs": [
    {
     "data": {
      "text/plain": [
       "(array([25733., 13054.,  5631.,  2225.,   930.,   857.,   851.,   451.,\n",
       "          137.,   131.]),\n",
       " array([0. , 0.5, 1. , 1.5, 2. , 2.5, 3. , 3.5, 4. , 4.5, 5. ]),\n",
       " <BarContainer object of 10 artists>)"
      ]
     },
     "execution_count": 34,
     "metadata": {},
     "output_type": "execute_result"
    },
    {
     "data": {
      "image/png": "[encoded data removed]",
      "text/plain": [
       "<Figure size 640x480 with 1 Axes>"
      ]
     },
     "metadata": {},
     "output_type": "display_data"
    }
   ],
   "source": [
    "plt.hist(prefdsetc['magnitude'])"
   ]
  },
  {
   "cell_type": "code",
   "execution_count": 6,
   "id": "4d3c5edf-aa5e-4f71-b6c9-81252cb6e679",
   "metadata": {},
   "outputs": [],
   "source": [
    "# def correct_prefs(ex):\n",
    "#     tmpjr = ex['response_j']\n",
    "#     tmpsr = ex['score_j']\n",
    "#     ex['magnitude'] = -1 * ex['magnitude']\n",
    "#     ex['response_j'] = ex['response_k']\n",
    "#     ex['score_j'] = ex['score_k']\n",
    "#     ex['response_k'] = tmpjr\n",
    "#     ex['score_k'] = tmpsr\n",
    "#     return ex\n",
    "\n",
    "def correct_prefs(ex):\n",
    "    \n",
    "    ex['response_j'] = ex['response_j'].strip()\n",
    "    ex['response_k'] = ex['response_k'].strip()\n",
    "    \n",
    "    return ex"
   ]
  },
  {
   "cell_type": "code",
   "execution_count": 8,
   "id": "f2810a0e-d02f-4b54-9a5b-d8b895cd9bd0",
   "metadata": {},
   "outputs": [
    {
     "name": "stderr",
     "output_type": "stream",
     "text": [
      "Filter: 100%|██████████████████████████████████████████████████████████████████████████████████████████████████████████████████████████████████████| 200000/200000 [00:00<00:00, 432378.40 examples/s]\n",
      "Map (num_proc=10): 100%|████████████████████████████████████████████████████████████████████████████████████████████████████████████████████████████| 166610/166610 [00:01<00:00, 94281.83 examples/s]\n"
     ]
    }
   ],
   "source": [
    "# CODE TO MAKE PPO DATASET\n",
    "def procinps(ex):\n",
    "    ex['question'] = ex['question'] + \" = \"\n",
    "    return ex\n",
    "\n",
    "def genall(md, text_list, bs=16):\n",
    "    newgens = []\n",
    "    ntl = []\n",
    "    for t in text_list:\n",
    "        ntl.extend([t]*2)\n",
    "    for i in tqdm(range(0, len(ntl), bs)):\n",
    "        inps = tok(ntl[i:i+bs], return_tensors=\"pt\", padding=True, truncation=True).to(mod.device)\n",
    "        out = mod.generate(**inps, do_sample=True, top_p=1, max_new_tokens=100, min_new_tokens=-1)\n",
    "        newgens.extend(tok.batch_decode(out, skip_special_tokens=True))\n",
    "    return newgens\n",
    "\n",
    "def mathprefs(genlist): \n",
    "    alldata = []\n",
    "    for i in tqdm(range(0, len(genlist), 2)):\n",
    "        tmp = {\n",
    "            'question':genlist[i].split(\" = \")[0] + \" = \", \n",
    "        }\n",
    "        resps = [g[len(tmp['question']):] for g in genlist[i:i+2]]\n",
    "        scos = allmathpreds(resps)\n",
    "        jind = 0 if scos[0]>scos[1] else 0\n",
    "        tmp['response_j'] = resps[jind]\n",
    "        tmp['response_k'] = resps[1-jind]\n",
    "        tmp['score_j'] = scos[jind]\n",
    "        tmp['score_k'] = scos[1-jind]\n",
    "        tmp['magnitude'] = tmp['score_j'] - tmp['score_k']\n",
    "        alldata.append(tmp)\n",
    "    return Dataset.from_list(alldata)\n",
    "        \n",
    "    \n",
    "ppodata = makesftdset(2, 200000)\n",
    "ppodata = ppodata.filter(lambda ex: abs(int(ex['outputs'].split(\" = \")[-1]))<99)\n",
    "ppodata = ppodata.map(procinps, num_proc=10)\n",
    "# ppodata.save_to_disk(\"../../data/math/mathppoinpseasy2\")"
   ]
  },
  {
   "cell_type": "code",
   "execution_count": 10,
   "id": "77781c3e-3cea-4ec1-9774-e03067944bf1",
   "metadata": {},
   "outputs": [
    {
     "name": "stderr",
     "output_type": "stream",
     "text": [
      "Saving the dataset (1/1 shards): 100%|████████████████████████████████████████████████████████████████████████████████████████████████████████████| 166610/166610 [00:00<00:00, 1090734.69 examples/s]\n"
     ]
    }
   ],
   "source": [
    "ppodata.save_to_disk(\"../outputs/data/math/moreppoinps\")"
   ]
  },
  {
   "cell_type": "code",
   "execution_count": 24,
   "id": "b46de29b-7261-4cd0-9fb1-cdb135de6e48",
   "metadata": {},
   "outputs": [
    {
     "data": {
      "text/plain": [
       "{'question': '(7 * 2) = ', 'outputs': '(7 * 2) = 14'}"
      ]
     },
     "execution_count": 24,
     "metadata": {},
     "output_type": "execute_result"
    }
   ],
   "source": [
    "ppodata[0]"
   ]
  },
  {
   "cell_type": "code",
   "execution_count": 25,
   "id": "2fe7f004-1f41-4a29-9ce0-6233bddbf1d4",
   "metadata": {},
   "outputs": [
    {
     "name": "stderr",
     "output_type": "stream",
     "text": [
      "                                                                                                                                                                                                                  \r"
     ]
    }
   ],
   "source": [
    "ppodata.save_to_disk(\"../outputs/data/math/matheasy1\")"
   ]
  },
  {
   "cell_type": "code",
   "execution_count": 26,
   "id": "4c3adeec-87f2-47d6-88d8-1e7c508aee58",
   "metadata": {},
   "outputs": [
    {
     "data": {
      "text/plain": [
       "{'question': '(6 - 2) = ', 'outputs': '(6 - 2) = 4'}"
      ]
     },
     "execution_count": 26,
     "metadata": {},
     "output_type": "execute_result"
    }
   ],
   "source": [
    "ppodata[3]"
   ]
  },
  {
   "cell_type": "code",
   "execution_count": 10,
   "id": "247875d4-6e93-4bd6-9bd5-c29ec9bf4919",
   "metadata": {},
   "outputs": [
    {
     "name": "stderr",
     "output_type": "stream",
     "text": [
      "                                                                                                                                                                                                                        \r"
     ]
    }
   ],
   "source": [
    "easy2 = ppodata.filter(lambda ex: ex['question'].count(\"(\")<=2)\n"
   ]
  },
  {
   "cell_type": "code",
   "execution_count": 12,
   "id": "7a069495-d3ce-4e8d-8e7f-5effa8d6bf14",
   "metadata": {},
   "outputs": [
    {
     "name": "stderr",
     "output_type": "stream",
     "text": [
      "                                                                                                                                                                                                                        \r"
     ]
    }
   ],
   "source": [
    "easy2.save_to_disk(\"../outputs/data/math/easy2_100k\")"
   ]
  },
  {
   "cell_type": "code",
   "execution_count": 14,
   "id": "43a9b392-9776-4fcf-952e-be93e69ab9fe",
   "metadata": {},
   "outputs": [
    {
     "data": {
      "text/plain": [
       "(array([     0.,      0.,      0.,      0.,      0., 100225.,      0.,\n",
       "             0.,      0.,      0.]),\n",
       " array([1.5, 1.6, 1.7, 1.8, 1.9, 2. , 2.1, 2.2, 2.3, 2.4, 2.5]),\n",
       " <BarContainer object of 10 artists>)"
      ]
     },
     "execution_count": 14,
     "metadata": {},
     "output_type": "execute_result"
    },
    {
     "data": {
      "image/png": "[encoded data removed]",
      "text/plain": [
       "<Figure size 640x480 with 1 Axes>"
      ]
     },
     "metadata": {},
     "output_type": "display_data"
    }
   ],
   "source": [
    "plt.hist([q.count(\"(\") for q in easy2['question']])"
   ]
  },
  {
   "cell_type": "code",
   "execution_count": 10,
   "id": "47fecded-0ad6-4882-95d3-030a0949ed98",
   "metadata": {},
   "outputs": [
    {
     "ename": "NameError",
     "evalue": "name 'procinps' is not defined",
     "output_type": "error",
     "traceback": [
      "\u001b[0;31m---------------------------------------------------------------------------\u001b[0m",
      "\u001b[0;31mNameError\u001b[0m                                 Traceback (most recent call last)",
      "Cell \u001b[0;32mIn[10], line 2\u001b[0m\n\u001b[1;32m      1\u001b[0m mathprefdata \u001b[38;5;241m=\u001b[39m makesftdset()\n\u001b[0;32m----> 2\u001b[0m mathprefdata \u001b[38;5;241m=\u001b[39m mathprefdata\u001b[38;5;241m.\u001b[39mmap(\u001b[43mprocinps\u001b[49m, num_proc\u001b[38;5;241m=\u001b[39m\u001b[38;5;241m10\u001b[39m)\n",
      "\u001b[0;31mNameError\u001b[0m: name 'procinps' is not defined"
     ]
    }
   ],
   "source": [
    "mathprefdata = makesftdset()\n",
    "mathprefdata = mathprefdata.map(procinps, num_proc=10)"
   ]
  },
  {
   "cell_type": "code",
   "execution_count": 11,
   "id": "4558e91b-d684-4638-b9e5-4bdb2345d896",
   "metadata": {},
   "outputs": [
    {
     "name": "stderr",
     "output_type": "stream",
     "text": [
      "/u/prasanns/miniconda3/envs/rlhfenv/lib/python3.10/site-packages/torch/_utils.py:776: UserWarning: TypedStorage is deprecated. It will be removed in the future and UntypedStorage will be the only storage class. This should only matter to you if you are using storages directly.  To access UntypedStorage directly, use tensor.untyped_storage() instead of tensor.storage()\n",
      "  return self.fget.__get__(instance, owner)()\n"
     ]
    }
   ],
   "source": [
    "# check whether this thing actually works or not\n",
    "tok = AutoTokenizer.from_pretrained(\"facebook/opt-125m\", padding_side='left')\n",
    "mod = AutoModelForCausalLM.from_pretrained(\"facebook/opt-125m\", device_map=3, torch_dtype=torch.bfloat16, attn_implementation=\"flash_attention_2\")\n",
    "mod = PeftModel.from_pretrained(mod, \"../../checkpoints/math/mathsftinitial_sft/checkpoint-1300/\")"
   ]
  },
  {
   "cell_type": "code",
   "execution_count": 12,
   "id": "b7f6301f-0dae-4516-99ad-9db4978bb96f",
   "metadata": {},
   "outputs": [],
   "source": [
    "testset = makesftdset(2, 1000)"
   ]
  },
  {
   "cell_type": "code",
   "execution_count": 63,
   "id": "1a55d1f2-38d4-49cd-a7a4-afb90f30487f",
   "metadata": {},
   "outputs": [],
   "source": [
    "def a(input, val):\n",
    "    return val"
   ]
  },
  {
   "cell_type": "code",
   "execution_count": 64,
   "id": "ca6eb2dd-a03b-4195-a1f0-56af1d915d02",
   "metadata": {},
   "outputs": [
    {
     "data": {
      "text/plain": [
       "9"
      ]
     },
     "execution_count": 64,
     "metadata": {},
     "output_type": "execute_result"
    }
   ],
   "source": [
    "tup = tuple([0])\n",
    "tup = tup + tuple([9])\n",
    "a(*tup)"
   ]
  },
  {
   "cell_type": "code",
   "execution_count": 17,
   "id": "1decbe24-c1b2-424a-a157-ca7c6eb81bd8",
   "metadata": {},
   "outputs": [],
   "source": [
    "ind = 1\n",
    "inpstr = testset['question'][ind]+\" = \"\n",
    "inps = tok(inpstr, return_tensors=\"pt\").to(mod.device)\n",
    "out = mod.generate(**inps, do_sample=True, top_p=1, max_new_tokens=100, min_new_tokens=-1, num_return_sequences=2)\n",
    "# print(tok.batch_decode(out, skip_special_tokens=True)[0])\n",
    "out = tok.batch_decode(out, skip_special_tokens=True)[0]\n",
    "# print(testset['outputs'][ind])\n",
    "# print(out)\n",
    "# print(calculate_rewards(out, None, True))\n",
    "# einstein_reward(out, stmp[0]['sol_rows'], True)"
   ]
  },
  {
   "cell_type": "code",
   "execution_count": 19,
   "id": "6a6cf5fa-4b9d-4402-95f1-2f04b7576be6",
   "metadata": {},
   "outputs": [
    {
     "data": {
      "text/plain": [
       "254"
      ]
     },
     "execution_count": 19,
     "metadata": {},
     "output_type": "execute_result"
    }
   ],
   "source": [
    "len(out)"
   ]
  },
  {
   "cell_type": "code",
   "execution_count": 38,
   "id": "4d766d27-fe92-44d3-b653-5b2ac11f59b6",
   "metadata": {},
   "outputs": [
    {
     "data": {
      "text/plain": [
       "[1.0, 0.7647058823529411, 0.6363636363636364, 0.6666666666666667]"
      ]
     },
     "execution_count": 38,
     "metadata": {},
     "output_type": "execute_result"
    }
   ],
   "source": [
    "# Example usage\n",
    "predictions = [\"((3 + 4) - (1 * 8)) * 1\", \"(7 - (1 * 8)) * 1\", \"(7 - 8) * 1\", \"-1 * 1\"]\n",
    "golds = [\"((3 + 4) - (1 * 8)) * 1\", \"(7 - 8) * 1\", \"-1 * 1\", \"-1\"]\n",
    "rewards = calculate_rewards(predictions, golds)\n",
    "\n",
    "rewards"
   ]
  },
  {
   "cell_type": "code",
   "execution_count": 76,
   "id": "a10a8afd-72c4-41ef-9380-2d24db9c7488",
   "metadata": {},
   "outputs": [],
   "source": [
    "def a(inp):\n",
    "    print(inp)"
   ]
  },
  {
   "cell_type": "code",
   "execution_count": 70,
   "id": "a2a1cd2e-351d-48a9-9e7f-8c24938a23a0",
   "metadata": {},
   "outputs": [],
   "source": [
    "from rlhfutils.rewards import allmathpreds"
   ]
  },
  {
   "cell_type": "code",
   "execution_count": 83,
   "id": "e59fdb48-ab5b-4172-a627-62b9bae97add",
   "metadata": {},
   "outputs": [],
   "source": [
    "ts = [\"((4)+1) = (4+1) = 4\"]\n",
    "inps = tuple([ts])"
   ]
  },
  {
   "cell_type": "code",
   "execution_count": 84,
   "id": "262ed81e-5985-49bd-a124-469bfead84cf",
   "metadata": {},
   "outputs": [
    {
     "data": {
      "text/plain": [
       "[2.5]"
      ]
     },
     "execution_count": 84,
     "metadata": {},
     "output_type": "execute_result"
    }
   ],
   "source": [
    "allmathpreds(*inps)"
   ]
  },
  {
   "cell_type": "code",
   "execution_count": 3,
   "id": "3bce7f98-01da-40f4-b5b9-8d3c34bd7ac5",
   "metadata": {},
   "outputs": [],
   "source": [
    "bowdata = Dataset.load_from_disk(\"../../data/bagofwords/nozero100k/\")"
   ]
  },
  {
   "cell_type": "code",
   "execution_count": 11,
   "id": "fc00fefb-dfb4-4795-8ca8-b5e102e9c9c0",
   "metadata": {},
   "outputs": [
    {
     "data": {
      "text/plain": [
       "[0.0]"
      ]
     },
     "execution_count": 11,
     "metadata": {},
     "output_type": "execute_result"
    }
   ],
   "source": [
    "get_synth_rewards([bowdata[0]['response_k']], 'bagofwords')"
   ]
  },
  {
   "cell_type": "code",
   "execution_count": 2,
   "id": "abc3d16c-4159-457a-bacd-a8df6b5ab71b",
   "metadata": {},
   "outputs": [
    {
     "name": "stderr",
     "output_type": "stream",
     "text": [
      "Downloading readme: 100%|███████████████████████████████████████████████████████████████████████████████████████████████████████████████████████████████████████| 7.83k/7.83k [00:00<00:00, 21.8MB/s]\n",
      "Downloading data: 100%|███████████████████████████████████████████████████████████████████████████████████████████████████████████████████████████████████████████| 193M/193M [00:03<00:00, 52.1MB/s]\n",
      "Downloading data: 100%|███████████████████████████████████████████████████████████████████████████████████████████████████████████████████████████████████████████| 340M/340M [00:04<00:00, 69.5MB/s]\n",
      "Generating train split: 200767 examples [00:04, 42076.01 examples/s]\n",
      "Generating test split: 384291 examples [00:08, 45056.20 examples/s]\n"
     ]
    }
   ],
   "source": [
    "# do some paraphrase dataset prep\n",
    "vals = load_dataset(\"jpwahle/machine-paraphrase-dataset\")"
   ]
  },
  {
   "cell_type": "code",
   "execution_count": 11,
   "id": "86e66ba6-e5ef-4ca7-910c-2b604d1742aa",
   "metadata": {},
   "outputs": [],
   "source": [
    "def shortenstr(s, lim=300):\n",
    "    tmp = s[:lim]\n",
    "    return tmp[:tmp.rfind(\".\")+1]"
   ]
  },
  {
   "cell_type": "code",
   "execution_count": 12,
   "id": "082ee597-df73-49dc-bf84-d7d3aa2faf22",
   "metadata": {},
   "outputs": [
    {
     "data": {
      "text/plain": [
       "'It is vital to know what feature properties in portion mechanics represent traditional chaos. Many writers have devoted their own efforts on this subject matter. It is, now, popular that for K-system its level space distribution has a general form, i. electronic., Wigner distribution.'"
      ]
     },
     "execution_count": 12,
     "metadata": {},
     "output_type": "execute_result"
    }
   ],
   "source": [
    "shortenstr(vals['test'][0]['text'])"
   ]
  },
  {
   "cell_type": "code",
   "execution_count": 13,
   "id": "f92a7da0-69db-4d27-a770-aff45b6ad2b2",
   "metadata": {},
   "outputs": [],
   "source": [
    "newdata = {\n",
    "    'question': [shortenstr(v) for v in vals['test']['text']]\n",
    "}"
   ]
  },
  {
   "cell_type": "code",
   "execution_count": 14,
   "id": "5036a5e4-9736-4ca0-b070-520dae8c3e44",
   "metadata": {},
   "outputs": [],
   "source": [
    "tmpdata = Dataset.from_dict(newdata)"
   ]
  },
  {
   "cell_type": "code",
   "execution_count": 15,
   "id": "a5fe376a-0320-4235-8856-643a21f2cf9c",
   "metadata": {},
   "outputs": [
    {
     "name": "stderr",
     "output_type": "stream",
     "text": [
      "Saving the dataset (1/1 shards): 100%|████████████████████████████████████████████████████████████████████████████████████████████████████████████| 384291/384291 [00:00<00:00, 469983.49 examples/s]\n"
     ]
    }
   ],
   "source": [
    "tmpdata.save_to_disk(\"../outputs/data/paraphrase/parappoinps\")"
   ]
  },
  {
   "cell_type": "code",
   "execution_count": 17,
   "id": "b33559eb-1be6-49bd-a51d-30df9d5423ba",
   "metadata": {},
   "outputs": [],
   "source": [
    "from nltk import word_tokenize"
   ]
  },
  {
   "cell_type": "code",
   "execution_count": 25,
   "id": "11110d89-bb0f-409b-82eb-de3fdae61175",
   "metadata": {},
   "outputs": [
    {
     "data": {
      "text/plain": [
       "{\"'m\",\n",
       " ',',\n",
       " 'Hi',\n",
       " 'I',\n",
       " 'bob',\n",
       " 'but',\n",
       " 'ca',\n",
       " 'fly',\n",
       " 'flying',\n",
       " 'help',\n",
       " \"n't\",\n",
       " 'there'}"
      ]
     },
     "execution_count": 25,
     "metadata": {},
     "output_type": "execute_result"
    }
   ],
   "source": [
    "a1 = set(word_tokenize(\"Hi there I'm bob, I'm flying\"))\n",
    "a2 = set(word_tokenize(\"Hi I can't help but fly there\"))\n",
    "a1.union(a2)"
   ]
  },
  {
   "cell_type": "code",
   "execution_count": 55,
   "id": "fbcbf80c-0bbe-4151-b33d-2990e51f2821",
   "metadata": {},
   "outputs": [
    {
     "data": {
      "text/plain": [
       "42"
      ]
     },
     "execution_count": 55,
     "metadata": {},
     "output_type": "execute_result"
    }
   ],
   "source": [
    "len(word_tokenize(tmpdata['question'][1000]))"
   ]
  },
  {
   "cell_type": "code",
   "execution_count": 27,
   "id": "9be12223-976e-42ca-bff5-ae0994b23efc",
   "metadata": {},
   "outputs": [],
   "source": [
    "from statistics import mean"
   ]
  },
  {
   "cell_type": "code",
   "execution_count": 50,
   "id": "80ba4dba-8eaf-462b-ae31-0e022743cc92",
   "metadata": {},
   "outputs": [],
   "source": []
  },
  {
   "cell_type": "code",
   "execution_count": 51,
   "id": "4be8968b-7b8f-4b36-a9ae-01a119f6a226",
   "metadata": {},
   "outputs": [
    {
     "data": {
      "text/plain": [
       "0.6818181818181818"
      ]
     },
     "execution_count": 51,
     "metadata": {},
     "output_type": "execute_result"
    }
   ],
   "source": [
    "edist(\"hi there my big fat boy who can't eat chicken\", \"fat boy eat's things every day\")"
   ]
  },
  {
   "cell_type": "code",
   "execution_count": null,
   "id": "2a203ab4-f3b4-4fc4-85a3-31a71c321024",
   "metadata": {},
   "outputs": [],
   "source": []
  }
 ],
 "metadata": {
  "kernelspec": {
   "display_name": "Python 3 (ipykernel)",
   "language": "python",
   "name": "python3"
  },
  "language_info": {
   "codemirror_mode": {
    "name": "ipython",
    "version": 3
   },
   "file_extension": ".py",
   "mimetype": "text/x-python",
   "name": "python",
   "nbconvert_exporter": "python",
   "pygments_lexer": "ipython3",
   "version": "3.10.14"
  }
 },
 "nbformat": 4,
 "nbformat_minor": 5
}
