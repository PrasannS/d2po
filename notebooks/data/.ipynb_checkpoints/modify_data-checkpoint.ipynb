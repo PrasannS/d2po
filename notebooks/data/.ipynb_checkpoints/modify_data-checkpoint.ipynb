{
 "cells": [
  {
   "cell_type": "code",
   "execution_count": 30,
   "id": "13b5d28d-3996-49df-b025-88874293dd87",
   "metadata": {},
   "outputs": [],
   "source": [
    "# notebook for modifying data\n",
    "from datasets import Dataset\n",
    "from rlhfutils.dataproc import getfrac\n",
    "import matplotlib.pyplot as plt\n",
    "import pandas as pd"
   ]
  },
  {
   "cell_type": "code",
   "execution_count": 18,
   "id": "844f5bf5-543d-4c91-9e34-9e7575139a9f",
   "metadata": {},
   "outputs": [],
   "source": [
    "uftmp = Dataset.load_from_disk(\"../../rlhf-length-biases/data/ultra/ultra50k/\")"
   ]
  },
  {
   "cell_type": "code",
   "execution_count": 19,
   "id": "f3cef4ca-f946-4387-a0bc-4d25b4ed25dd",
   "metadata": {},
   "outputs": [
    {
     "name": "stdout",
     "output_type": "stream",
     "text": [
      "[31788, 7973, 7065, 1414, 5800, 48304, 13378, 35235, 42705, 44144, 18094, 21265, 19768, 1574, 26905, 45797, 8643, 16375, 3667, 41841]\n",
      "[38358, 34090, 11803, 18843, 32755, 37619, 27265, 20449, 44378, 38549, 13894, 16169, 21139, 7058, 11261, 24399, 14732, 5028, 41826, 5727]\n"
     ]
    }
   ],
   "source": [
    "cur, rest = getfrac(uftmp, 5000,True, True)\n",
    "restheld = getfrac(rest, 500, True, False)\n",
    "# assert len(cur)==len(restheld)"
   ]
  },
  {
   "cell_type": "code",
   "execution_count": 20,
   "id": "1bfefcdb-6018-4cda-87fd-c177706a4101",
   "metadata": {},
   "outputs": [],
   "source": [
    "cur = getfrac(cur, 500, False, False)"
   ]
  },
  {
   "cell_type": "code",
   "execution_count": 21,
   "id": "e77ed554-d3dd-459a-90af-63eed60405cb",
   "metadata": {},
   "outputs": [
    {
     "name": "stderr",
     "output_type": "stream",
     "text": [
      "                                                                                                                                                                                        \r"
     ]
    }
   ],
   "source": [
    "cur.save_to_disk(\"../outputs/data/ultra/ultra500\")\n",
    "# restheld.save_to_disk(\"../outputs/data/ultra/ultraheld5k\")"
   ]
  },
  {
   "cell_type": "code",
   "execution_count": 13,
   "id": "4d224468-7608-4217-9053-2481792a7374",
   "metadata": {},
   "outputs": [
    {
     "name": "stderr",
     "output_type": "stream",
     "text": [
      "                                                                                                                                                                                                           \r"
     ]
    }
   ],
   "source": [
    "# restheld.save_to_disk(\"../outputs/data/ultra/ultratinyheld\")"
   ]
  },
  {
   "cell_type": "code",
   "execution_count": 2,
   "id": "0775693e-b1d2-42af-9682-224df6975241",
   "metadata": {},
   "outputs": [],
   "source": [
    "rheld = Dataset.load_from_disk(\"../outputs/data/ultra/ultraheld5k/\")"
   ]
  },
  {
   "cell_type": "code",
   "execution_count": 5,
   "id": "04f75b0f-b433-4b92-ace7-a660e5503089",
   "metadata": {},
   "outputs": [],
   "source": [
    "tmp = pd.read_json(\"../outputs/results/rollouts/ultra/ppo_ultragolddpoplus.jsonl\", lines=True, orient='records')"
   ]
  },
  {
   "cell_type": "code",
   "execution_count": 6,
   "id": "93acc508-c2db-4188-9fd2-e8c8851cfdd6",
   "metadata": {},
   "outputs": [
    {
     "data": {
      "text/html": [
       "<div>\n",
       "<style scoped>\n",
       "    .dataframe tbody tr th:only-of-type {\n",
       "        vertical-align: middle;\n",
       "    }\n",
       "\n",
       "    .dataframe tbody tr th {\n",
       "        vertical-align: top;\n",
       "    }\n",
       "\n",
       "    .dataframe thead th {\n",
       "        text-align: right;\n",
       "    }\n",
       "</style>\n",
       "<table border=\"1\" class=\"dataframe\">\n",
       "  <thead>\n",
       "    <tr style=\"text-align: right;\">\n",
       "      <th></th>\n",
       "      <th>inputs</th>\n",
       "      <th>outputs</th>\n",
       "      <th>rewards</th>\n",
       "      <th>keepinds</th>\n",
       "      <th>step</th>\n",
       "    </tr>\n",
       "  </thead>\n",
       "  <tbody>\n",
       "    <tr>\n",
       "      <th>0</th>\n",
       "      <td>[Did Cyrus ever face any significant military ...</td>\n",
       "      <td>[\\nCyrus the Great, the Achaemenid king of Per...</td>\n",
       "      <td>[0.0, 4.0, 3.0, 2.0]</td>\n",
       "      <td>[1, 2, 0, 3]</td>\n",
       "      <td>0</td>\n",
       "    </tr>\n",
       "    <tr>\n",
       "      <th>1</th>\n",
       "      <td>[Compose a four-voice fugue in Baroque style, ...</td>\n",
       "      <td>[\\n\\n\\nI. Intro (Measure 1-4)\\nC      D      E...</td>\n",
       "      <td>[0.0, 0.0, 2.0, 2.0]</td>\n",
       "      <td>[0, 2, 0, 2]</td>\n",
       "      <td>0</td>\n",
       "    </tr>\n",
       "    <tr>\n",
       "      <th>2</th>\n",
       "      <td>[Did Cyrus ever face any significant military ...</td>\n",
       "      <td>[\\nCyrus the Great, the founder of the Achaeme...</td>\n",
       "      <td>[1.0, 3.0, 6.0, 3.0]</td>\n",
       "      <td>[1, 2, 0, 3]</td>\n",
       "      <td>0</td>\n",
       "    </tr>\n",
       "    <tr>\n",
       "      <th>3</th>\n",
       "      <td>[Compose a four-voice fugue in Baroque style, ...</td>\n",
       "      <td>[\\n\\n\\n%% Fugue in D Minor, \"Nature of Time\"  ...</td>\n",
       "      <td>[0.0, 2.0, 2.0, 2.0]</td>\n",
       "      <td>[1, 2, 0, 2]</td>\n",
       "      <td>0</td>\n",
       "    </tr>\n",
       "    <tr>\n",
       "      <th>4</th>\n",
       "      <td>[Compose a four-voice fugue in Baroque style, ...</td>\n",
       "      <td>[\\n\\n\\n%% Fugue in D Minor, \"Nature of Time\"  ...</td>\n",
       "      <td>[0.0, 2.0, 2.0, 2.0]</td>\n",
       "      <td>[1, 2, 0, 2]</td>\n",
       "      <td>0</td>\n",
       "    </tr>\n",
       "    <tr>\n",
       "      <th>5</th>\n",
       "      <td>[Did Cyrus ever face any significant military ...</td>\n",
       "      <td>[\\nCyrus the Great, the founder of the Achaeme...</td>\n",
       "      <td>[1.0, 3.0, 6.0, 3.0]</td>\n",
       "      <td>[1, 2, 0, 3]</td>\n",
       "      <td>0</td>\n",
       "    </tr>\n",
       "    <tr>\n",
       "      <th>6</th>\n",
       "      <td>[How has modern technology and scientific adva...</td>\n",
       "      <td>[\\nModern technology and scientific advancemen...</td>\n",
       "      <td>[4.0, 7.0, 3.0, 6.0]</td>\n",
       "      <td>[1, 3, 0, 2]</td>\n",
       "      <td>1</td>\n",
       "    </tr>\n",
       "    <tr>\n",
       "      <th>7</th>\n",
       "      <td>[Please draft a set of procedures for obstetri...</td>\n",
       "      <td>[\\n\\nBelow is a set of detailed procedures for...</td>\n",
       "      <td>[3.0, 2.0, 2.0, 2.0]</td>\n",
       "      <td>[0, 2, 1, 2]</td>\n",
       "      <td>1</td>\n",
       "    </tr>\n",
       "    <tr>\n",
       "      <th>8</th>\n",
       "      <td>[How do certain genetic mutations impact the b...</td>\n",
       "      <td>[\\nCertain genetic mutations can affect the bo...</td>\n",
       "      <td>[3.0, 3.0, 4.0, 1.0]</td>\n",
       "      <td>[0, 2, 0, 3]</td>\n",
       "      <td>2</td>\n",
       "    </tr>\n",
       "    <tr>\n",
       "      <th>9</th>\n",
       "      <td>[In your discussion of the effects of growing ...</td>\n",
       "      <td>[\\nOne of the key statistical indicators that ...</td>\n",
       "      <td>[2.0, 1.0, 4.0, 5.0]</td>\n",
       "      <td>[0, 3, 1, 2]</td>\n",
       "      <td>2</td>\n",
       "    </tr>\n",
       "    <tr>\n",
       "      <th>10</th>\n",
       "      <td>[Please provide detailed instructions on how t...</td>\n",
       "      <td>[Sure, here's a simple natural face wash recip...</td>\n",
       "      <td>[1.0, 1.0, 2.0, 2.0]</td>\n",
       "      <td>[0, 2, 0, 2]</td>\n",
       "      <td>0</td>\n",
       "    </tr>\n",
       "    <tr>\n",
       "      <th>11</th>\n",
       "      <td>[Can you describe the different types of claws...</td>\n",
       "      <td>[Birds of prey, also known as raptors, have di...</td>\n",
       "      <td>[3.0, 2.0, 1.0, 1.0]</td>\n",
       "      <td>[0, 2, 1, 2]</td>\n",
       "      <td>0</td>\n",
       "    </tr>\n",
       "    <tr>\n",
       "      <th>12</th>\n",
       "      <td>[Are there any clothing brands that you feel p...</td>\n",
       "      <td>[Yes, there are several clothing brands that o...</td>\n",
       "      <td>[2.0, 0.0, 0.0, 1.0]</td>\n",
       "      <td>[0, 3, 1, 2]</td>\n",
       "      <td>1</td>\n",
       "    </tr>\n",
       "    <tr>\n",
       "      <th>13</th>\n",
       "      <td>[Can allergies cause nasal obstruction and if ...</td>\n",
       "      <td>[Yes, allergies can cause nasal obstruction du...</td>\n",
       "      <td>[3.0, 4.0, 1.0, 3.0]</td>\n",
       "      <td>[1, 3, 0, 2]</td>\n",
       "      <td>1</td>\n",
       "    </tr>\n",
       "    <tr>\n",
       "      <th>14</th>\n",
       "      <td>[What are the most effective SEO techniques to...</td>\n",
       "      <td>[There are several effective SEO techniques th...</td>\n",
       "      <td>[4.0, 7.0, 5.0, 0.0]</td>\n",
       "      <td>[1, 2, 0, 3]</td>\n",
       "      <td>2</td>\n",
       "    </tr>\n",
       "    <tr>\n",
       "      <th>15</th>\n",
       "      <td>[Explain the importance of readability in web ...</td>\n",
       "      <td>[Readability is critical in web typography for...</td>\n",
       "      <td>[5.0, 2.0, 4.0, 3.0]</td>\n",
       "      <td>[0, 2, 1, 3]</td>\n",
       "      <td>2</td>\n",
       "    </tr>\n",
       "    <tr>\n",
       "      <th>16</th>\n",
       "      <td>[I am pleased to have one of my poems appear i...</td>\n",
       "      <td>[The story behind the poet's published work in...</td>\n",
       "      <td>[2.0, 2.0, 3.0, 3.0]</td>\n",
       "      <td>[0, 2, 0, 2]</td>\n",
       "      <td>3</td>\n",
       "    </tr>\n",
       "    <tr>\n",
       "      <th>17</th>\n",
       "      <td>[What are some common themes found in dystopia...</td>\n",
       "      <td>[Dystopian fiction often explores themes that ...</td>\n",
       "      <td>[1.0, 1.0, 1.0, 1.0]</td>\n",
       "      <td>[0, 2, 0, 2]</td>\n",
       "      <td>3</td>\n",
       "    </tr>\n",
       "    <tr>\n",
       "      <th>18</th>\n",
       "      <td>[Please provide detailed instructions on how t...</td>\n",
       "      <td>[To create a natural face wash at home, you'll...</td>\n",
       "      <td>[4.0, 2.0, 2.0, 4.0]</td>\n",
       "      <td>[0, 3, 1, 2]</td>\n",
       "      <td>0</td>\n",
       "    </tr>\n",
       "    <tr>\n",
       "      <th>19</th>\n",
       "      <td>[Can you describe the different types of claws...</td>\n",
       "      <td>[Birds of prey have various types of claws tha...</td>\n",
       "      <td>[2.0, 3.0, 1.0, 1.0]</td>\n",
       "      <td>[1, 2, 0, 2]</td>\n",
       "      <td>0</td>\n",
       "    </tr>\n",
       "    <tr>\n",
       "      <th>20</th>\n",
       "      <td>[Are there any clothing brands that you feel p...</td>\n",
       "      <td>[Yes, there are several clothing brands that o...</td>\n",
       "      <td>[1.0, 1.0, 1.0, 1.0]</td>\n",
       "      <td>[0, 2, 0, 2]</td>\n",
       "      <td>1</td>\n",
       "    </tr>\n",
       "    <tr>\n",
       "      <th>21</th>\n",
       "      <td>[Can allergies cause nasal obstruction and if ...</td>\n",
       "      <td>[Yes, allergies can cause nasal obstruction du...</td>\n",
       "      <td>[2.0, 3.0, 2.0, 1.0]</td>\n",
       "      <td>[1, 2, 0, 3]</td>\n",
       "      <td>1</td>\n",
       "    </tr>\n",
       "  </tbody>\n",
       "</table>\n",
       "</div>"
      ],
      "text/plain": [
       "                                               inputs  \\\n",
       "0   [Did Cyrus ever face any significant military ...   \n",
       "1   [Compose a four-voice fugue in Baroque style, ...   \n",
       "2   [Did Cyrus ever face any significant military ...   \n",
       "3   [Compose a four-voice fugue in Baroque style, ...   \n",
       "4   [Compose a four-voice fugue in Baroque style, ...   \n",
       "5   [Did Cyrus ever face any significant military ...   \n",
       "6   [How has modern technology and scientific adva...   \n",
       "7   [Please draft a set of procedures for obstetri...   \n",
       "8   [How do certain genetic mutations impact the b...   \n",
       "9   [In your discussion of the effects of growing ...   \n",
       "10  [Please provide detailed instructions on how t...   \n",
       "11  [Can you describe the different types of claws...   \n",
       "12  [Are there any clothing brands that you feel p...   \n",
       "13  [Can allergies cause nasal obstruction and if ...   \n",
       "14  [What are the most effective SEO techniques to...   \n",
       "15  [Explain the importance of readability in web ...   \n",
       "16  [I am pleased to have one of my poems appear i...   \n",
       "17  [What are some common themes found in dystopia...   \n",
       "18  [Please provide detailed instructions on how t...   \n",
       "19  [Can you describe the different types of claws...   \n",
       "20  [Are there any clothing brands that you feel p...   \n",
       "21  [Can allergies cause nasal obstruction and if ...   \n",
       "\n",
       "                                              outputs               rewards  \\\n",
       "0   [\\nCyrus the Great, the Achaemenid king of Per...  [0.0, 4.0, 3.0, 2.0]   \n",
       "1   [\\n\\n\\nI. Intro (Measure 1-4)\\nC      D      E...  [0.0, 0.0, 2.0, 2.0]   \n",
       "2   [\\nCyrus the Great, the founder of the Achaeme...  [1.0, 3.0, 6.0, 3.0]   \n",
       "3   [\\n\\n\\n%% Fugue in D Minor, \"Nature of Time\"  ...  [0.0, 2.0, 2.0, 2.0]   \n",
       "4   [\\n\\n\\n%% Fugue in D Minor, \"Nature of Time\"  ...  [0.0, 2.0, 2.0, 2.0]   \n",
       "5   [\\nCyrus the Great, the founder of the Achaeme...  [1.0, 3.0, 6.0, 3.0]   \n",
       "6   [\\nModern technology and scientific advancemen...  [4.0, 7.0, 3.0, 6.0]   \n",
       "7   [\\n\\nBelow is a set of detailed procedures for...  [3.0, 2.0, 2.0, 2.0]   \n",
       "8   [\\nCertain genetic mutations can affect the bo...  [3.0, 3.0, 4.0, 1.0]   \n",
       "9   [\\nOne of the key statistical indicators that ...  [2.0, 1.0, 4.0, 5.0]   \n",
       "10  [Sure, here's a simple natural face wash recip...  [1.0, 1.0, 2.0, 2.0]   \n",
       "11  [Birds of prey, also known as raptors, have di...  [3.0, 2.0, 1.0, 1.0]   \n",
       "12  [Yes, there are several clothing brands that o...  [2.0, 0.0, 0.0, 1.0]   \n",
       "13  [Yes, allergies can cause nasal obstruction du...  [3.0, 4.0, 1.0, 3.0]   \n",
       "14  [There are several effective SEO techniques th...  [4.0, 7.0, 5.0, 0.0]   \n",
       "15  [Readability is critical in web typography for...  [5.0, 2.0, 4.0, 3.0]   \n",
       "16  [The story behind the poet's published work in...  [2.0, 2.0, 3.0, 3.0]   \n",
       "17  [Dystopian fiction often explores themes that ...  [1.0, 1.0, 1.0, 1.0]   \n",
       "18  [To create a natural face wash at home, you'll...  [4.0, 2.0, 2.0, 4.0]   \n",
       "19  [Birds of prey have various types of claws tha...  [2.0, 3.0, 1.0, 1.0]   \n",
       "20  [Yes, there are several clothing brands that o...  [1.0, 1.0, 1.0, 1.0]   \n",
       "21  [Yes, allergies can cause nasal obstruction du...  [2.0, 3.0, 2.0, 1.0]   \n",
       "\n",
       "        keepinds  step  \n",
       "0   [1, 2, 0, 3]     0  \n",
       "1   [0, 2, 0, 2]     0  \n",
       "2   [1, 2, 0, 3]     0  \n",
       "3   [1, 2, 0, 2]     0  \n",
       "4   [1, 2, 0, 2]     0  \n",
       "5   [1, 2, 0, 3]     0  \n",
       "6   [1, 3, 0, 2]     1  \n",
       "7   [0, 2, 1, 2]     1  \n",
       "8   [0, 2, 0, 3]     2  \n",
       "9   [0, 3, 1, 2]     2  \n",
       "10  [0, 2, 0, 2]     0  \n",
       "11  [0, 2, 1, 2]     0  \n",
       "12  [0, 3, 1, 2]     1  \n",
       "13  [1, 3, 0, 2]     1  \n",
       "14  [1, 2, 0, 3]     2  \n",
       "15  [0, 2, 1, 3]     2  \n",
       "16  [0, 2, 0, 2]     3  \n",
       "17  [0, 2, 0, 2]     3  \n",
       "18  [0, 3, 1, 2]     0  \n",
       "19  [1, 2, 0, 2]     0  \n",
       "20  [0, 2, 0, 2]     1  \n",
       "21  [1, 2, 0, 3]     1  "
      ]
     },
     "execution_count": 6,
     "metadata": {},
     "output_type": "execute_result"
    }
   ],
   "source": [
    "tmp"
   ]
  },
  {
   "cell_type": "code",
   "execution_count": 6,
   "id": "8d892928-cf74-4db9-9b22-bf871666c181",
   "metadata": {},
   "outputs": [
    {
     "data": {
      "text/plain": [
       "['Did Cyrus ever face any significant military defeats during his reign? How did he respond?',\n",
       " 'Did Cyrus ever face any significant military defeats during his reign? How did he respond?',\n",
       " \"Serves 4 people. Cooking time in total 2 hours.\\nBring a pan of salted water to the boil and blanch the sprouts for about 10 mins then drain.\\nSlice the carrots into small strips.\\nIn a pan, sweat the onions with a spoon of the goose fat when they become transparent sprinkle over a spoon of sugar. When they are golden, remove and leave to one side.\\nDo the same as above for the carrots.\\nAdd the remainder of the fat to the pan sauté the sprouts for a few minutes. Add the onions and carrots, a bay leaf and some thyme.\\nLeave the pan uncovered until the fat has evaporated.\\nStir carefully so you don't break up the sprouts.\\nCould you suggest a substitution for goose fat in this recipe?\",\n",
       " \"Serves 4 people. Cooking time in total 2 hours.\\nBring a pan of salted water to the boil and blanch the sprouts for about 10 mins then drain.\\nSlice the carrots into small strips.\\nIn a pan, sweat the onions with a spoon of the goose fat when they become transparent sprinkle over a spoon of sugar. When they are golden, remove and leave to one side.\\nDo the same as above for the carrots.\\nAdd the remainder of the fat to the pan sauté the sprouts for a few minutes. Add the onions and carrots, a bay leaf and some thyme.\\nLeave the pan uncovered until the fat has evaporated.\\nStir carefully so you don't break up the sprouts.\\nCould you suggest a substitution for goose fat in this recipe?\"]"
      ]
     },
     "execution_count": 6,
     "metadata": {},
     "output_type": "execute_result"
    }
   ],
   "source": [
    "tmp['inputs'][0]"
   ]
  },
  {
   "cell_type": "code",
   "execution_count": 4,
   "id": "092b099b-c1b7-4b1b-b0af-7b6948808960",
   "metadata": {},
   "outputs": [],
   "source": [
    "# make math task simpler\n",
    "mdata = Dataset.load_from_disk(\"../outputs/data/math/mathppoinps200k/\")"
   ]
  },
  {
   "cell_type": "code",
   "execution_count": 12,
   "id": "cdfab6d8-2898-4eb8-8723-bebc65afceed",
   "metadata": {},
   "outputs": [
    {
     "name": "stderr",
     "output_type": "stream",
     "text": [
      "                                                                                                                                                                                                              \r"
     ]
    }
   ],
   "source": [
    "easymdata = mdata.filter(lambda ex: ex['question'].count(\"(\")<=4)\n",
    "easiermdata = mdata.filter(lambda ex: ex['question'].count(\"(\")<=3)"
   ]
  },
  {
   "cell_type": "code",
   "execution_count": 15,
   "id": "a7c8342b-42b0-47a5-96be-bbc80f2fc859",
   "metadata": {},
   "outputs": [
    {
     "name": "stderr",
     "output_type": "stream",
     "text": [
      "                                                                                                                                                                                                              \r"
     ]
    }
   ],
   "source": [
    "easiermdata.save_to_disk(\"../outputs/data/math/matheasier3\")\n",
    "easymdata.save_to_disk(\"../outputs/data/math/matheasy4\")"
   ]
  },
  {
   "cell_type": "code",
   "execution_count": null,
   "id": "c3f388d7-01e9-4b5f-8687-22a0e0064c90",
   "metadata": {},
   "outputs": [],
   "source": [
    "easiermdata[0]"
   ]
  },
  {
   "cell_type": "code",
   "execution_count": 23,
   "id": "5fa02c30-07b9-4fe5-9d68-8ba221609d06",
   "metadata": {},
   "outputs": [
    {
     "data": {
      "text/plain": [
       "{'question': '(((8 + 1) + 9) * 3) = ',\n",
       " 'outputs': '(((8 + 1) + 9) * 3) = ((9 + 9) * 3) = (18 * 3) = 54'}"
      ]
     },
     "execution_count": 23,
     "metadata": {},
     "output_type": "execute_result"
    }
   ],
   "source": [
    "easymdata[6]"
   ]
  },
  {
   "cell_type": "code",
   "execution_count": 29,
   "id": "9b77fb5d-5f88-447e-a2e2-e9a8392951c6",
   "metadata": {},
   "outputs": [
    {
     "data": {
      "text/plain": [
       "(array([37295.,  9372.,  3401.,     0.,     0.,     0., 29078., 19223.,\n",
       "        12529.,  1751.]),\n",
       " array([49. , 53.6, 58.2, 62.8, 67.4, 72. , 76.6, 81.2, 85.8, 90.4, 95. ]),\n",
       " <BarContainer object of 10 artists>)"
      ]
     },
     "execution_count": 29,
     "metadata": {},
     "output_type": "execute_result"
    },
    {
     "data": {
      "image/png": "[encoded data removed]",
      "text/plain": [
       "<Figure size 640x480 with 1 Axes>"
      ]
     },
     "metadata": {},
     "output_type": "display_data"
    }
   ],
   "source": [
    "plt.hist([len(o) for o in easymdata['outputs']])"
   ]
  },
  {
   "cell_type": "code",
   "execution_count": 8,
   "id": "45eb5da8-bdb6-42fa-8a8c-56ab17ebb558",
   "metadata": {},
   "outputs": [],
   "source": [
    "steps = [q.count(\"(\") for q in mdata['question']]"
   ]
  },
  {
   "cell_type": "code",
   "execution_count": 9,
   "id": "109826a9-defa-499a-a4a4-605beabaa450",
   "metadata": {},
   "outputs": [
    {
     "data": {
      "text/plain": [
       "(array([50068.,     0., 62581.,     0.,     0., 37392.,     0., 37568.,\n",
       "            0., 12391.]),\n",
       " array([3. , 3.4, 3.8, 4.2, 4.6, 5. , 5.4, 5.8, 6.2, 6.6, 7. ]),\n",
       " <BarContainer object of 10 artists>)"
      ]
     },
     "execution_count": 9,
     "metadata": {},
     "output_type": "execute_result"
    },
    {
     "data": {
      "image/png": "[encoded data removed]",
      "text/plain": [
       "<Figure size 640x480 with 1 Axes>"
      ]
     },
     "metadata": {},
     "output_type": "display_data"
    }
   ],
   "source": [
    "plt.hist(steps)"
   ]
  },
  {
   "cell_type": "code",
   "execution_count": 11,
   "id": "c99fddae-35e5-4ba2-a35e-d2c530c6e4a4",
   "metadata": {},
   "outputs": [
    {
     "data": {
      "text/plain": [
       "'(((4 + 3) * (3 - 8)) * ((2 * 4) * (2 + 7))) = '"
      ]
     },
     "execution_count": 11,
     "metadata": {},
     "output_type": "execute_result"
    }
   ],
   "source": [
    "mdata['question'][13]"
   ]
  },
  {
   "cell_type": "code",
   "execution_count": null,
   "id": "bdb2139c-bac3-40ea-b35c-419f759fc987",
   "metadata": {},
   "outputs": [],
   "source": []
  }
 ],
 "metadata": {
  "kernelspec": {
   "display_name": "Python 3 (ipykernel)",
   "language": "python",
   "name": "python3"
  },
  "language_info": {
   "codemirror_mode": {
    "name": "ipython",
    "version": 3
   },
   "file_extension": ".py",
   "mimetype": "text/x-python",
   "name": "python",
   "nbconvert_exporter": "python",
   "pygments_lexer": "ipython3",
   "version": "3.10.0"
  }
 },
 "nbformat": 4,
 "nbformat_minor": 5
}
