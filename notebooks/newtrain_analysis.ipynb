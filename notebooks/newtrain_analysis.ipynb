{
 "cells": [
  {
   "cell_type": "code",
   "execution_count": 28,
   "id": "6b94e27d-3b05-44ee-a3e9-20a3abf60232",
   "metadata": {},
   "outputs": [],
   "source": [
    "import json\n",
    "import pandas as pd\n",
    "import sys\n",
    "sys.path.append('../src/')\n",
    "import utils.eval.rewards as rw\n",
    "from utils.data.prompt_utils import qaform\n",
    "from tqdm import tqdm\n",
    "from statistics import mean\n",
    "import matplotlib.pyplot as plt\n",
    "from process_plot import loadf, makengs, plot_methods, intervmean, combineall\n"
   ]
  },
  {
   "cell_type": "code",
   "execution_count": 39,
   "id": "f8e67b02-2125-436a-8ea0-3797f4a3ba02",
   "metadata": {},
   "outputs": [],
   "source": [
    "roll = pd.read_json(\"../outputs/results/rollouts/math/ppo_normppormbasemath.jsonl\", orient='records', lines=True)"
   ]
  },
  {
   "cell_type": "code",
   "execution_count": 41,
   "id": "65dc5f2c-3027-499e-8a1a-363e69d1592d",
   "metadata": {},
   "outputs": [
    {
     "data": {
      "text/html": [
       "<div>\n",
       "<style scoped>\n",
       "    .dataframe tbody tr th:only-of-type {\n",
       "        vertical-align: middle;\n",
       "    }\n",
       "\n",
       "    .dataframe tbody tr th {\n",
       "        vertical-align: top;\n",
       "    }\n",
       "\n",
       "    .dataframe thead th {\n",
       "        text-align: right;\n",
       "    }\n",
       "</style>\n",
       "<table border=\"1\" class=\"dataframe\">\n",
       "  <thead>\n",
       "    <tr style=\"text-align: right;\">\n",
       "      <th></th>\n",
       "      <th>inputs</th>\n",
       "      <th>outputs</th>\n",
       "      <th>rewards</th>\n",
       "      <th>keepinds</th>\n",
       "      <th>selfscos</th>\n",
       "      <th>step</th>\n",
       "    </tr>\n",
       "  </thead>\n",
       "  <tbody>\n",
       "    <tr>\n",
       "      <th>0</th>\n",
       "      <td>[(((7 + 1) + 6) * 8) = , (((7 + 1) + 6) * 8) =...</td>\n",
       "      <td>[ (8 + 6) = 14 = 22 = 22 = 22 = 22\\n(14 + 14) ...</td>\n",
       "      <td>[-0.439453125, -0.373046875, 13.625, 13.0625, ...</td>\n",
       "      <td>[0, 1, 2, 3, 4, 5, 6, 7, 8, 9, 10, 11, 12, 13,...</td>\n",
       "      <td>[]</td>\n",
       "      <td>0</td>\n",
       "    </tr>\n",
       "    <tr>\n",
       "      <th>1</th>\n",
       "      <td>[(((6 - 9) * (9 - 6)) + ((2 - 8) * 8)) = , (((...</td>\n",
       "      <td>[ ((-3 * (9 - 6)) + ((2 - 8) * 8)) =  ((-3 * 3...</td>\n",
       "      <td>[16.75, 13.8125, 17.5, 4.59375, -6.875, 11.062...</td>\n",
       "      <td>[0, 1, 2, 3, 4, 5, 6, 7, 8, 9, 10, 11, 12, 13,...</td>\n",
       "      <td>[]</td>\n",
       "      <td>0</td>\n",
       "    </tr>\n",
       "    <tr>\n",
       "      <th>2</th>\n",
       "      <td>[(((7 * 2) * 4) - ((9 - 4) - 2)) = , (((7 * 2)...</td>\n",
       "      <td>[ (14 * 4) = 56 \"I am doing to be spending the...</td>\n",
       "      <td>[-4.125, 16.5, -8.625, 0.49023437500000006, 3....</td>\n",
       "      <td>[0, 1, 2, 3, 4, 5, 6, 7, 8, 9, 10, 11, 12, 13,...</td>\n",
       "      <td>[]</td>\n",
       "      <td>1</td>\n",
       "    </tr>\n",
       "    <tr>\n",
       "      <th>3</th>\n",
       "      <td>[(((4 + 9) - 5) - 2) = , (((4 + 9) - 5) - 2) =...</td>\n",
       "      <td>[ (10 - 5) = 5 \"and 2\" = 3 = 3 = 3 = 3 = 3 = 3...</td>\n",
       "      <td>[1.6171875, 5.9375, -2.1875, -13.5625, -2.625,...</td>\n",
       "      <td>[0, 1, 2, 3, 4, 5, 6, 7, 8, 9, 10, 11, 12, 13,...</td>\n",
       "      <td>[]</td>\n",
       "      <td>1</td>\n",
       "    </tr>\n",
       "    <tr>\n",
       "      <th>4</th>\n",
       "      <td>[(((6 * 6) * 3) + ((9 - 1) * (4 * 1))) = , (((...</td>\n",
       "      <td>[ (36 * 3) = 108\\n108\\n(36 + 2) = 38\\n44\\n(36 ...</td>\n",
       "      <td>[-7.0625, -9.875, 2.921875, 2.921875, 12.6875,...</td>\n",
       "      <td>[0, 1, 2, 3, 4, 5, 6, 7, 8, 9, 10, 11, 12, 13,...</td>\n",
       "      <td>[]</td>\n",
       "      <td>2</td>\n",
       "    </tr>\n",
       "    <tr>\n",
       "      <th>...</th>\n",
       "      <td>...</td>\n",
       "      <td>...</td>\n",
       "      <td>...</td>\n",
       "      <td>...</td>\n",
       "      <td>...</td>\n",
       "      <td>...</td>\n",
       "    </tr>\n",
       "    <tr>\n",
       "      <th>995</th>\n",
       "      <td>[(((4 - 3) - (8 - 7)) * 8) = , (((4 - 3) - (8 ...</td>\n",
       "      <td>[ ((1 - (8 - 7)) * 8) = (1 * 8) = 2 = 2 = 2 = ...</td>\n",
       "      <td>[6.0625, 9.5625, 2.953125, 1.1015625, 7.6875, ...</td>\n",
       "      <td>[0, 1, 2, 3, 4, 5, 6, 7, 8, 9, 10, 11, 12, 13,...</td>\n",
       "      <td>[]</td>\n",
       "      <td>497</td>\n",
       "    </tr>\n",
       "    <tr>\n",
       "      <th>996</th>\n",
       "      <td>[(((7 * 3) + 1) - 9) = , (((7 * 3) + 1) - 9) =...</td>\n",
       "      <td>[ ((7 + 1) - 9) = (-7 - 9) = -16 = -16 = -16 =...</td>\n",
       "      <td>[13.375, 11.0, -4.0, 0.1806640625, 13.0, 10.5,...</td>\n",
       "      <td>[0, 1, 2, 3, 4, 5, 6, 7, 8, 9, 10, 11, 12, 13,...</td>\n",
       "      <td>[]</td>\n",
       "      <td>498</td>\n",
       "    </tr>\n",
       "    <tr>\n",
       "      <th>997</th>\n",
       "      <td>[(((8 - 7) * (2 - 6)) - ((2 * 3) * (2 * 1))) =...</td>\n",
       "      <td>[ ((1 * (2 - 6)) - ((2 * 3) * (2 * 1))) = ((1 ...</td>\n",
       "      <td>[5.96875, 4.15625, -0.76171875, 15.5625, 2.0, ...</td>\n",
       "      <td>[0, 1, 2, 3, 4, 5, 6, 7, 8, 9, 10, 11, 12, 13,...</td>\n",
       "      <td>[]</td>\n",
       "      <td>498</td>\n",
       "    </tr>\n",
       "    <tr>\n",
       "      <th>998</th>\n",
       "      <td>[(((8 - 4) + (5 - 3)) - 4) = , (((8 - 4) + (5 ...</td>\n",
       "      <td>[ ((4 + (5 - 3)) - 4) = (-4 - 4) = -6 = -6 = -...</td>\n",
       "      <td>[10.0, 8.3125, 6.90625, 9.9375, 11.875, 8.5, 2...</td>\n",
       "      <td>[0, 1, 2, 3, 4, 5, 6, 7, 8, 9, 10, 11, 12, 13,...</td>\n",
       "      <td>[]</td>\n",
       "      <td>499</td>\n",
       "    </tr>\n",
       "    <tr>\n",
       "      <th>999</th>\n",
       "      <td>[(((9 * 7) + 3) * 6) = , (((9 * 7) + 3) * 6) =...</td>\n",
       "      <td>[ ((27 + 3) * 6) = (34 * 6) = 36 = 36 = 36 = 3...</td>\n",
       "      <td>[12.125, 12.75, -0.48242187500000006, 7.84375,...</td>\n",
       "      <td>[0, 1, 2, 3, 4, 5, 6, 7, 8, 9, 10, 11, 12, 13,...</td>\n",
       "      <td>[]</td>\n",
       "      <td>499</td>\n",
       "    </tr>\n",
       "  </tbody>\n",
       "</table>\n",
       "<p>1000 rows × 6 columns</p>\n",
       "</div>"
      ],
      "text/plain": [
       "                                                inputs  \\\n",
       "0    [(((7 + 1) + 6) * 8) = , (((7 + 1) + 6) * 8) =...   \n",
       "1    [(((6 - 9) * (9 - 6)) + ((2 - 8) * 8)) = , (((...   \n",
       "2    [(((7 * 2) * 4) - ((9 - 4) - 2)) = , (((7 * 2)...   \n",
       "3    [(((4 + 9) - 5) - 2) = , (((4 + 9) - 5) - 2) =...   \n",
       "4    [(((6 * 6) * 3) + ((9 - 1) * (4 * 1))) = , (((...   \n",
       "..                                                 ...   \n",
       "995  [(((4 - 3) - (8 - 7)) * 8) = , (((4 - 3) - (8 ...   \n",
       "996  [(((7 * 3) + 1) - 9) = , (((7 * 3) + 1) - 9) =...   \n",
       "997  [(((8 - 7) * (2 - 6)) - ((2 * 3) * (2 * 1))) =...   \n",
       "998  [(((8 - 4) + (5 - 3)) - 4) = , (((8 - 4) + (5 ...   \n",
       "999  [(((9 * 7) + 3) * 6) = , (((9 * 7) + 3) * 6) =...   \n",
       "\n",
       "                                               outputs  \\\n",
       "0    [ (8 + 6) = 14 = 22 = 22 = 22 = 22\\n(14 + 14) ...   \n",
       "1    [ ((-3 * (9 - 6)) + ((2 - 8) * 8)) =  ((-3 * 3...   \n",
       "2    [ (14 * 4) = 56 \"I am doing to be spending the...   \n",
       "3    [ (10 - 5) = 5 \"and 2\" = 3 = 3 = 3 = 3 = 3 = 3...   \n",
       "4    [ (36 * 3) = 108\\n108\\n(36 + 2) = 38\\n44\\n(36 ...   \n",
       "..                                                 ...   \n",
       "995  [ ((1 - (8 - 7)) * 8) = (1 * 8) = 2 = 2 = 2 = ...   \n",
       "996  [ ((7 + 1) - 9) = (-7 - 9) = -16 = -16 = -16 =...   \n",
       "997  [ ((1 * (2 - 6)) - ((2 * 3) * (2 * 1))) = ((1 ...   \n",
       "998  [ ((4 + (5 - 3)) - 4) = (-4 - 4) = -6 = -6 = -...   \n",
       "999  [ ((27 + 3) * 6) = (34 * 6) = 36 = 36 = 36 = 3...   \n",
       "\n",
       "                                               rewards  \\\n",
       "0    [-0.439453125, -0.373046875, 13.625, 13.0625, ...   \n",
       "1    [16.75, 13.8125, 17.5, 4.59375, -6.875, 11.062...   \n",
       "2    [-4.125, 16.5, -8.625, 0.49023437500000006, 3....   \n",
       "3    [1.6171875, 5.9375, -2.1875, -13.5625, -2.625,...   \n",
       "4    [-7.0625, -9.875, 2.921875, 2.921875, 12.6875,...   \n",
       "..                                                 ...   \n",
       "995  [6.0625, 9.5625, 2.953125, 1.1015625, 7.6875, ...   \n",
       "996  [13.375, 11.0, -4.0, 0.1806640625, 13.0, 10.5,...   \n",
       "997  [5.96875, 4.15625, -0.76171875, 15.5625, 2.0, ...   \n",
       "998  [10.0, 8.3125, 6.90625, 9.9375, 11.875, 8.5, 2...   \n",
       "999  [12.125, 12.75, -0.48242187500000006, 7.84375,...   \n",
       "\n",
       "                                              keepinds selfscos  step  \n",
       "0    [0, 1, 2, 3, 4, 5, 6, 7, 8, 9, 10, 11, 12, 13,...       []     0  \n",
       "1    [0, 1, 2, 3, 4, 5, 6, 7, 8, 9, 10, 11, 12, 13,...       []     0  \n",
       "2    [0, 1, 2, 3, 4, 5, 6, 7, 8, 9, 10, 11, 12, 13,...       []     1  \n",
       "3    [0, 1, 2, 3, 4, 5, 6, 7, 8, 9, 10, 11, 12, 13,...       []     1  \n",
       "4    [0, 1, 2, 3, 4, 5, 6, 7, 8, 9, 10, 11, 12, 13,...       []     2  \n",
       "..                                                 ...      ...   ...  \n",
       "995  [0, 1, 2, 3, 4, 5, 6, 7, 8, 9, 10, 11, 12, 13,...       []   497  \n",
       "996  [0, 1, 2, 3, 4, 5, 6, 7, 8, 9, 10, 11, 12, 13,...       []   498  \n",
       "997  [0, 1, 2, 3, 4, 5, 6, 7, 8, 9, 10, 11, 12, 13,...       []   498  \n",
       "998  [0, 1, 2, 3, 4, 5, 6, 7, 8, 9, 10, 11, 12, 13,...       []   499  \n",
       "999  [0, 1, 2, 3, 4, 5, 6, 7, 8, 9, 10, 11, 12, 13,...       []   499  \n",
       "\n",
       "[1000 rows x 6 columns]"
      ]
     },
     "execution_count": 41,
     "metadata": {},
     "output_type": "execute_result"
    }
   ],
   "source": [
    "roll"
   ]
  },
  {
   "cell_type": "code",
   "execution_count": 42,
   "id": "126fc618-ad19-4471-a193-b57ea038a081",
   "metadata": {},
   "outputs": [],
   "source": [
    "# get the stuff\n",
    "def goldupdate(indf, task):\n",
    "    outset = []\n",
    "    mrws = []\n",
    "    golds = []\n",
    "    rwscos = []\n",
    "    for i, row in tqdm(indf.iterrows()):\n",
    "        tmpouts = []\n",
    "        for j in range(len(row['outputs'])):\n",
    "            tmpouts.append(qaform(row['inputs'][j],row['outputs'][j].strip()))\n",
    "            mrws.append(row['rewards'][j])\n",
    "        outset.extend(tmpouts)\n",
    "        rwscos.extend(rw.get_synth_rewards(tmpouts, task))\n",
    "    # get all the outputs in a list\n",
    "    return rwscos, mrws, outset"
   ]
  },
  {
   "cell_type": "code",
   "execution_count": 43,
   "id": "28b059dd-8754-47f3-89a0-99c4ce10a211",
   "metadata": {},
   "outputs": [
    {
     "name": "stderr",
     "output_type": "stream",
     "text": [
      "1000it [00:01, 929.13it/s]\n"
     ]
    }
   ],
   "source": [
    "golds, oldrews, outs = goldupdate(roll, \"math\")"
   ]
  },
  {
   "cell_type": "code",
   "execution_count": 46,
   "id": "3b6c916c-ee94-4f4f-85a4-6caeb8dc5fef",
   "metadata": {},
   "outputs": [],
   "source": [
    "def accstats(preds, golds, window=100, freq=40):\n",
    "    assert len(preds)==len(golds)\n",
    "    # only use a certain number of points\n",
    "    rat = int(len(golds)/(freq))\n",
    "    print(rat)\n",
    "    accs = []\n",
    "    for i in tqdm(range(0, len(preds)-rat, rat)):\n",
    "        rights = []\n",
    "        for j in range(i-window*2, i+window*2, 2):\n",
    "            if golds[j+1]==golds[j]:\n",
    "                continue\n",
    "            rights.append(1 if (preds[j]>preds[j+1])==(golds[j]>golds[j+1]) else 0)\n",
    "        accs.append(mean(rights))\n",
    "    return accs\n",
    "        "
   ]
  },
  {
   "cell_type": "code",
   "execution_count": 48,
   "id": "55daba88-f790-4b70-88dc-d9fac27f4518",
   "metadata": {},
   "outputs": [
    {
     "name": "stdout",
     "output_type": "stream",
     "text": [
      "160\n"
     ]
    },
    {
     "name": "stderr",
     "output_type": "stream",
     "text": [
      "100%|███████████████████████████████████████████████████████████████████████████████████████████████████████████████████████████████████████████████| 99/99 [00:00<00:00, 11592.62it/s]\n"
     ]
    }
   ],
   "source": [
    "astats = accstats(oldrews, golds, 100, 100)"
   ]
  },
  {
   "cell_type": "code",
   "execution_count": 49,
   "id": "9c124d0f-776e-4e0a-ba06-3b03f17bd292",
   "metadata": {},
   "outputs": [
    {
     "name": "stdout",
     "output_type": "stream",
     "text": [
      "[0.8128654970760234, 0.8823529411764706, 0.9142857142857143, 0.9122807017543859, 0.8579881656804734, 0.7873563218390804, 0.7267441860465116, 0.703030303030303, 0.6518987341772152, 0.5911949685534591, 0.6772151898734177, 0.6776315789473685, 0.6158940397350994, 0.5866666666666667, 0.644927536231884, 0.6388888888888888, 0.6666666666666666, 0.6216216216216216, 0.6040268456375839, 0.5945945945945946, 0.6463414634146342, 0.6097560975609756, 0.6178343949044586, 0.5655172413793104, 0.541095890410959, 0.5793103448275863, 0.5804195804195804, 0.5657894736842105, 0.5704697986577181, 0.5608108108108109, 0.5899280575539568, 0.5652173913043478, 0.5735294117647058, 0.5407407407407407, 0.5285714285714286, 0.5294117647058824, 0.6, 0.5746268656716418, 0.6413793103448275, 0.6174496644295302, 0.5857142857142857, 0.5109489051094891, 0.5251798561151079, 0.5954198473282443, 0.6285714285714286, 0.5902777777777778, 0.5675675675675675, 0.5337837837837838, 0.581081081081081, 0.589041095890411, 0.5704225352112676, 0.6233766233766234, 0.6125, 0.5574712643678161, 0.45604395604395603, 0.4397590361445783, 0.487012987012987, 0.5285714285714286, 0.5096774193548387, 0.5369127516778524, 0.4805194805194805, 0.4935897435897436, 0.4520547945205479, 0.4928571428571429, 0.5673758865248227, 0.5704225352112676, 0.5845070422535211, 0.5833333333333334, 0.5407407407407407, 0.5035460992907801, 0.5073529411764706, 0.5, 0.5533333333333333, 0.6994219653179191, 0.8115183246073299, 0.8219895287958116, 0.8043478260869565, 0.7336956521739131, 0.75, 0.7298850574712644, 0.6964285714285714, 0.691358024691358, 0.688622754491018, 0.6627218934911243, 0.6726190476190477, 0.6583850931677019, 0.7023809523809523, 0.7192982456140351, 0.7425149700598802, 0.7716049382716049, 0.75, 0.7719298245614035, 0.8, 0.7584269662921348, 0.7341040462427746, 0.7314285714285714, 0.7627118644067796, 0.7790055248618785, 0.7790055248618785]\n"
     ]
    }
   ],
   "source": [
    "astats "
   ]
  },
  {
   "cell_type": "code",
   "execution_count": 53,
   "id": "fbf7955d-e030-4413-a112-39cd11c072cb",
   "metadata": {},
   "outputs": [
    {
     "data": {
      "text/plain": [
       "<matplotlib.collections.PathCollection at 0x7f6db96e6620>"
      ]
     },
     "execution_count": 53,
     "metadata": {},
     "output_type": "execute_result"
    },
    {
     "data": {
      "image/png": "[encoded data removed]",
      "text/plain": [
       "<Figure size 640x480 with 1 Axes>"
      ]
     },
     "metadata": {},
     "output_type": "display_data"
    }
   ],
   "source": [
    "plt.scatter(range(len(astats[:70])), astats[:70])"
   ]
  },
  {
   "cell_type": "code",
   "execution_count": 55,
   "id": "efa07646-6cb9-41e3-9d60-af74003d9b0f",
   "metadata": {},
   "outputs": [
    {
     "data": {
      "text/plain": [
       "<Figure size 1000x600 with 0 Axes>"
      ]
     },
     "metadata": {},
     "output_type": "display_data"
    },
    {
     "data": {
      "image/png": "[encoded data removed]",
      "text/plain": [
       "<Figure size 1000x600 with 1 Axes>"
      ]
     },
     "metadata": {},
     "output_type": "display_data"
    }
   ],
   "source": [
    "plot_methods({\"OPO w/ RM\": (0.5, astats[:70])}, xlabel=\"Policy Steps\", ylabel=\"Reward Accuracy\", setname=\"Math\", fname ='mathoffacc.pdf')"
   ]
  },
  {
   "cell_type": "code",
   "execution_count": null,
   "id": "638605f8-2284-4258-b547-79c9b640f67d",
   "metadata": {},
   "outputs": [],
   "source": []
  }
 ],
 "metadata": {
  "kernelspec": {
   "display_name": "Python 3 (ipykernel)",
   "language": "python",
   "name": "python3"
  },
  "language_info": {
   "codemirror_mode": {
    "name": "ipython",
    "version": 3
   },
   "file_extension": ".py",
   "mimetype": "text/x-python",
   "name": "python",
   "nbconvert_exporter": "python",
   "pygments_lexer": "ipython3",
   "version": "3.10.14"
  }
 },
 "nbformat": 4,
 "nbformat_minor": 5
}
